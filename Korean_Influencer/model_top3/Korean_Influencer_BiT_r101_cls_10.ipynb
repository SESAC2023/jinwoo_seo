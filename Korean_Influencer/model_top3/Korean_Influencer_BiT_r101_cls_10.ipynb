{
  "cells": [
    {
      "cell_type": "markdown",
      "metadata": {
        "id": "sXhZm0kpPpH6"
      },
      "source": [
        "##### Copyright 2020 Google LLC."
      ]
    },
    {
      "cell_type": "code",
      "execution_count": null,
      "metadata": {
        "cellView": "form",
        "id": "KfmzfvFxPuk7"
      },
      "outputs": [],
      "source": [
        "#@title Licensed under the Apache License, Version 2.0 (the \"License\");\n",
        "# Licensed under the Apache License, Version 2.0 (the \"License\");\n",
        "# you may not use this file except in compliance with the License.\n",
        "# You may obtain a copy of the License at\n",
        "#\n",
        "# https://www.apache.org/licenses/LICENSE-2.0\n",
        "#\n",
        "# Unless required by applicable law or agreed to in writing, software\n",
        "# distributed under the License is distributed on an \"AS IS\" BASIS,\n",
        "# WITHOUT WARRANTIES OR CONDITIONS OF ANY KIND, either express or implied.\n",
        "# See the License for the specific language governing permissions and\n",
        "# limitations under the License."
      ]
    },
    {
      "cell_type": "markdown",
      "metadata": {
        "id": "iOVCm4CnP1Do"
      },
      "source": [
        "<a href=\"https://colab.research.google.com/github/google-research/big_transfer/blob/master/colabs/big_transfer_pytorch.ipynb\" target=\"_parent\"><img src=\"https://colab.research.google.com/assets/colab-badge.svg\" alt=\"Open In Colab\"/></a>"
      ]
    },
    {
      "cell_type": "markdown",
      "metadata": {
        "id": "HlyBC_2SNzEH"
      },
      "source": [
        "# BigTransfer (BiT): A step-by-step tutorial for state-of-the-art vision\n",
        "\n",
        "This colab demonstrates how to:\n",
        "1. Load BiT models in PyTorch\n",
        "2. Make predictions using BiT pre-trained on ImageNet\n",
        "3. Fine-tune BiT on 5-shot CIFAR10 and get amazing results!\n",
        "\n",
        "It is good to get an understanding or quickly try things. However, to run longer training runs, we recommend using the commandline scripts at http://github.com/google-research/big_transfer"
      ]
    },
    {
      "cell_type": "code",
      "execution_count": 1,
      "metadata": {
        "colab": {
          "base_uri": "https://localhost:8080/"
        },
        "id": "sCcQBon0YyOu",
        "outputId": "85f15f89-8659-4c63-800b-93a390d40190"
      },
      "outputs": [
        {
          "output_type": "stream",
          "name": "stdout",
          "text": [
            "Mounted at /content/drive\n"
          ]
        }
      ],
      "source": [
        "from google.colab import drive\n",
        "drive.mount('/content/drive')"
      ]
    },
    {
      "cell_type": "code",
      "execution_count": null,
      "metadata": {
        "id": "m_pYOW__egIS"
      },
      "outputs": [],
      "source": [
        "# BiT는 기본적으로 세 가지 데이터 세트에 대하여 ResNet 기반의 모델로 학습을 진행\n",
        "# 1) Small dataset: ImageNet-1k (약 100만 개)\n",
        "# 2) Medium dataset: ImageNet 원본 (약 2100만 개)\n",
        "# 3) Large dataset: 억 단위 이미지 데이터 세트\n",
        "\n",
        "# Large로 학습한 뒤에 ImageNet-1k로 Fine-tuning하면 거의 88% 얻음\n",
        "# 참고로 그냥 small dataest으로만 학습하면 80% 정도 성능 얻음"
      ]
    },
    {
      "cell_type": "code",
      "execution_count": 2,
      "metadata": {
        "id": "2MCUeLqhqh6d"
      },
      "outputs": [],
      "source": [
        "from functools import partial\n",
        "from collections import OrderedDict"
      ]
    },
    {
      "cell_type": "code",
      "execution_count": 3,
      "metadata": {
        "id": "fg2boM5BfvpF"
      },
      "outputs": [],
      "source": [
        "%config InlineBackend.figure_format = 'retina'\n",
        "\n",
        "import numpy as np\n",
        "import seaborn as sn\n",
        "import pandas as pd\n",
        "\n",
        "import matplotlib.pyplot as plt\n",
        "from mpl_toolkits.axes_grid1 import ImageGrid"
      ]
    },
    {
      "cell_type": "code",
      "execution_count": 4,
      "metadata": {
        "id": "FKYlZVpGo9jZ"
      },
      "outputs": [],
      "source": [
        "import torchvision.models as models\n",
        "import torch\n",
        "import torch.nn as nn\n",
        "import torch.nn.functional as F\n",
        "from torch.autograd import Variable\n",
        "\n",
        "import torchvision as tv\n",
        "from torch.utils.data import DataLoader\n",
        "import torch.optim as optim\n"
      ]
    },
    {
      "cell_type": "code",
      "execution_count": 5,
      "metadata": {
        "colab": {
          "base_uri": "https://localhost:8080/"
        },
        "id": "gW-XMhiVi0nh",
        "outputId": "3824e307-c1f5-4855-b2b1-004db0973923"
      },
      "outputs": [
        {
          "output_type": "stream",
          "name": "stdout",
          "text": [
            "cuda:0\n"
          ]
        }
      ],
      "source": [
        "device = torch.device(\"cuda:0\" if torch.cuda.is_available() else \"cpu\")\n",
        "print(device)"
      ]
    },
    {
      "cell_type": "markdown",
      "metadata": {
        "id": "C_lOBZYwy1SW"
      },
      "source": [
        "# Reading weight data from the Cloud bucket"
      ]
    },
    {
      "cell_type": "code",
      "execution_count": 6,
      "metadata": {
        "id": "sg5HNzLyzubz"
      },
      "outputs": [],
      "source": [
        "import requests\n",
        "import io"
      ]
    },
    {
      "cell_type": "code",
      "execution_count": 7,
      "metadata": {
        "id": "xC6YhfLb1ZGE"
      },
      "outputs": [],
      "source": [
        "def get_weights(bit_variant):\n",
        "  response = requests.get(f'https://storage.googleapis.com/bit_models/{bit_variant}.npz')\n",
        "  response.raise_for_status()\n",
        "  return np.load(io.BytesIO(response.content))"
      ]
    },
    {
      "cell_type": "code",
      "execution_count": 8,
      "metadata": {
        "id": "Exuy13Igwa_X"
      },
      "outputs": [],
      "source": [
        "weights = get_weights('BiT-M-R101x1')  # You could use other variants, such as R101x3 or R152x4 here, but it is not advisable in a colab."
      ]
    },
    {
      "cell_type": "markdown",
      "metadata": {
        "id": "mWzT0g8x6feo"
      },
      "source": [
        "# Defining the architecture and loading weights"
      ]
    },
    {
      "cell_type": "code",
      "execution_count": 9,
      "metadata": {
        "id": "y00wwFQvrwsX"
      },
      "outputs": [],
      "source": [
        "class StdConv2d(nn.Conv2d):\n",
        "  def forward(self, x):\n",
        "    w = self.weight\n",
        "    v, m = torch.var_mean(w, dim=[1, 2, 3], keepdim=True, unbiased=False)\n",
        "    w = (w - m) / torch.sqrt(v + 1e-10)\n",
        "    return F.conv2d(x, w, self.bias, self.stride, self.padding, self.dilation, self.groups)"
      ]
    },
    {
      "cell_type": "code",
      "execution_count": 10,
      "metadata": {
        "id": "lgXeQXKVpPqV"
      },
      "outputs": [],
      "source": [
        "def conv3x3(cin, cout, stride=1, groups=1, bias=False):\n",
        "  return StdConv2d(cin, cout, kernel_size=3, stride=stride, padding=1, bias=bias, groups=groups)\n",
        "\n",
        "def conv1x1(cin, cout, stride=1, bias=False):\n",
        "  return StdConv2d(cin, cout, kernel_size=1, stride=stride, padding=0, bias=bias)"
      ]
    },
    {
      "cell_type": "code",
      "execution_count": 11,
      "metadata": {
        "id": "f4yzODhR6U6p"
      },
      "outputs": [],
      "source": [
        "def tf2th(conv_weights):\n",
        "  \"\"\"Possibly convert HWIO to OIHW\"\"\"\n",
        "  if conv_weights.ndim == 4:\n",
        "    conv_weights = np.transpose(conv_weights, [3, 2, 0, 1])\n",
        "  return torch.from_numpy(conv_weights)"
      ]
    },
    {
      "cell_type": "code",
      "execution_count": 12,
      "metadata": {
        "id": "tNq34tmsqgXG"
      },
      "outputs": [],
      "source": [
        "class PreActBottleneck(nn.Module):\n",
        "  \"\"\"\n",
        "  Follows the implementation of \"Identity Mappings in Deep Residual Networks\" here:\n",
        "  https://github.com/KaimingHe/resnet-1k-layers/blob/master/resnet-pre-act.lua\n",
        "\n",
        "  Except it puts the stride on 3x3 conv when available.\n",
        "  \"\"\"\n",
        "  def __init__(self, cin, cout=None, cmid=None, stride=1):\n",
        "    super().__init__()\n",
        "    cout = cout or cin\n",
        "    cmid = cmid or cout//4\n",
        "\n",
        "    self.gn1 = nn.GroupNorm(32, cin)\n",
        "    self.conv1 = conv1x1(cin, cmid)\n",
        "    self.gn2 = nn.GroupNorm(32, cmid)\n",
        "    self.conv2 = conv3x3(cmid, cmid, stride)  # Original ResNetv2 has it on conv1!!\n",
        "    self.gn3 = nn.GroupNorm(32, cmid)\n",
        "    self.conv3 = conv1x1(cmid, cout)\n",
        "    self.relu = nn.ReLU(inplace=True)\n",
        "\n",
        "    if (stride != 1 or cin != cout):\n",
        "      # Projection also with pre-activation according to paper.\n",
        "      self.downsample = conv1x1(cin, cout, stride)\n",
        "\n",
        "  def forward(self, x):\n",
        "      # Conv'ed branch\n",
        "      out = self.relu(self.gn1(x))\n",
        "\n",
        "      # Residual branch\n",
        "      residual = x\n",
        "      if hasattr(self, 'downsample'):\n",
        "          residual = self.downsample(out)\n",
        "\n",
        "      # The first block has already applied pre-act before splitting, see Appendix.\n",
        "      out = self.conv1(out)\n",
        "      out = self.conv2(self.relu(self.gn2(out)))\n",
        "      out = self.conv3(self.relu(self.gn3(out)))\n",
        "\n",
        "      return out + residual\n",
        "\n",
        "  def load_from(self, weights, prefix=''):\n",
        "    with torch.no_grad():\n",
        "      self.conv1.weight.copy_(tf2th(weights[prefix + 'a/standardized_conv2d/kernel']))\n",
        "      self.conv2.weight.copy_(tf2th(weights[prefix + 'b/standardized_conv2d/kernel']))\n",
        "      self.conv3.weight.copy_(tf2th(weights[prefix + 'c/standardized_conv2d/kernel']))\n",
        "      self.gn1.weight.copy_(tf2th(weights[prefix + 'a/group_norm/gamma']))\n",
        "      self.gn2.weight.copy_(tf2th(weights[prefix + 'b/group_norm/gamma']))\n",
        "      self.gn3.weight.copy_(tf2th(weights[prefix + 'c/group_norm/gamma']))\n",
        "      self.gn1.bias.copy_(tf2th(weights[prefix + 'a/group_norm/beta']))\n",
        "      self.gn2.bias.copy_(tf2th(weights[prefix + 'b/group_norm/beta']))\n",
        "      self.gn3.bias.copy_(tf2th(weights[prefix + 'c/group_norm/beta']))\n",
        "      if hasattr(self, 'downsample'):\n",
        "        self.downsample.weight.copy_(tf2th(weights[prefix + 'a/proj/standardized_conv2d/kernel']))\n",
        "    return self"
      ]
    },
    {
      "cell_type": "code",
      "execution_count": 13,
      "metadata": {
        "id": "6fGKjfXm60pY"
      },
      "outputs": [],
      "source": [
        "class ResNetV2(nn.Module):\n",
        "  BLOCK_UNITS = {\n",
        "      'r50': [3, 4, 6, 3],\n",
        "      'r101': [3, 4, 23, 3],\n",
        "      'r152': [3, 8, 36, 3],\n",
        "  }\n",
        "\n",
        "  def __init__(self, block_units, width_factor, head_size=21843, zero_head=False):\n",
        "    super().__init__()\n",
        "    wf = width_factor  # shortcut 'cause we'll use it a lot.\n",
        "\n",
        "    self.root = nn.Sequential(OrderedDict([\n",
        "        ('conv', StdConv2d(3, 64*wf, kernel_size=7, stride=2, padding=3, bias=False)),\n",
        "        ('padp', nn.ConstantPad2d(1, 0)),\n",
        "        ('pool', nn.MaxPool2d(kernel_size=3, stride=2, padding=0)),\n",
        "        # The following is subtly not the same!\n",
        "        #('pool', nn.MaxPool2d(kernel_size=3, stride=2, padding=1)),\n",
        "    ]))\n",
        "\n",
        "    self.body = nn.Sequential(OrderedDict([\n",
        "        ('block1', nn.Sequential(OrderedDict(\n",
        "            [('unit01', PreActBottleneck(cin= 64*wf, cout=256*wf, cmid=64*wf))] +\n",
        "            [(f'unit{i:02d}', PreActBottleneck(cin=256*wf, cout=256*wf, cmid=64*wf)) for i in range(2, block_units[0] + 1)],\n",
        "        ))),\n",
        "        ('block2', nn.Sequential(OrderedDict(\n",
        "            [('unit01', PreActBottleneck(cin=256*wf, cout=512*wf, cmid=128*wf, stride=2))] +\n",
        "            [(f'unit{i:02d}', PreActBottleneck(cin=512*wf, cout=512*wf, cmid=128*wf)) for i in range(2, block_units[1] + 1)],\n",
        "        ))),\n",
        "        ('block3', nn.Sequential(OrderedDict(\n",
        "            [('unit01', PreActBottleneck(cin= 512*wf, cout=1024*wf, cmid=256*wf, stride=2))] +\n",
        "            [(f'unit{i:02d}', PreActBottleneck(cin=1024*wf, cout=1024*wf, cmid=256*wf)) for i in range(2, block_units[2] + 1)],\n",
        "        ))),\n",
        "        ('block4', nn.Sequential(OrderedDict(\n",
        "            [('unit01', PreActBottleneck(cin=1024*wf, cout=2048*wf, cmid=512*wf, stride=2))] +\n",
        "            [(f'unit{i:02d}', PreActBottleneck(cin=2048*wf, cout=2048*wf, cmid=512*wf)) for i in range(2, block_units[3] + 1)],\n",
        "        ))),\n",
        "    ]))\n",
        "\n",
        "    self.zero_head = zero_head\n",
        "    self.head = nn.Sequential(OrderedDict([\n",
        "        ('gn', nn.GroupNorm(32, 2048*wf)),\n",
        "        ('relu', nn.ReLU(inplace=True)),\n",
        "        ('avg', nn.AdaptiveAvgPool2d(output_size=1)),\n",
        "        ('conv', nn.Conv2d(2048*wf, head_size, kernel_size=1, bias=True)),\n",
        "    ]))\n",
        "\n",
        "  def forward(self, x):\n",
        "    x = self.head(self.body(self.root(x)))\n",
        "    assert x.shape[-2:] == (1, 1)  # We should have no spatial shape left.\n",
        "    return x[...,0,0]\n",
        "\n",
        "  def load_from(self, weights, prefix='resnet/'):\n",
        "    with torch.no_grad():\n",
        "      self.root.conv.weight.copy_(tf2th(weights[f'{prefix}root_block/standardized_conv2d/kernel']))\n",
        "      self.head.gn.weight.copy_(tf2th(weights[f'{prefix}group_norm/gamma']))\n",
        "      self.head.gn.bias.copy_(tf2th(weights[f'{prefix}group_norm/beta']))\n",
        "      if self.zero_head:\n",
        "        nn.init.zeros_(self.head.conv.weight)\n",
        "        nn.init.zeros_(self.head.conv.bias)\n",
        "      else:\n",
        "        self.head.conv.weight.copy_(tf2th(weights[f'{prefix}head/conv2d/kernel']))\n",
        "        self.head.conv.bias.copy_(tf2th(weights[f'{prefix}head/conv2d/bias']))\n",
        "\n",
        "      for bname, block in self.body.named_children():\n",
        "        for uname, unit in block.named_children():\n",
        "          unit.load_from(weights, prefix=f'{prefix}{bname}/{uname}/')\n",
        "    return self"
      ]
    },
    {
      "cell_type": "markdown",
      "metadata": {
        "id": "zDMzHsUFsmRu"
      },
      "source": [
        "# Boilerplate"
      ]
    },
    {
      "cell_type": "code",
      "execution_count": 14,
      "metadata": {
        "id": "yk7RAE3bsntF"
      },
      "outputs": [],
      "source": [
        "from IPython.display import HTML, display\n",
        "\n",
        "def progress(value, max=100):\n",
        "    return HTML(\"\"\"\n",
        "        <progress\n",
        "            value='{value}'\n",
        "            max='{max}',\n",
        "            style='width: 100%'\n",
        "        >\n",
        "            {value}\n",
        "        </progress>\n",
        "    \"\"\".format(value=value, max=max))"
      ]
    },
    {
      "cell_type": "code",
      "execution_count": 15,
      "metadata": {
        "id": "6wSnf5r8V4-T"
      },
      "outputs": [],
      "source": [
        "def stairs(s, v, *svs):\n",
        "    \"\"\" Implements a typical \"stairs\" schedule for learning-rates.\n",
        "    Best explained by example:\n",
        "    stairs(s, 0.1, 10, 0.01, 20, 0.001)\n",
        "    will return 0.1 if s<10, 0.01 if 10<=s<20, and 0.001 if 20<=s\n",
        "    \"\"\"\n",
        "    for s0, v0 in zip(svs[::2], svs[1::2]):\n",
        "        if s < s0:\n",
        "            break\n",
        "        v = v0\n",
        "    return v\n",
        "\n",
        "def rampup(s, peak_s, peak_lr):\n",
        "  if s < peak_s:  # Warmup\n",
        "    return s/peak_s * peak_lr\n",
        "  else:\n",
        "    return peak_lr\n",
        "\n",
        "def schedule(s):\n",
        "  step_lr = stairs(s, 3e-3, 200, 3e-4, 300, 3e-5, 400, 3e-6, 500, None)\n",
        "  return rampup(s, 100, step_lr)"
      ]
    },
    {
      "cell_type": "markdown",
      "metadata": {
        "id": "M3Cad5gsWeAC"
      },
      "source": [
        "# CIFAR-10 Example"
      ]
    },
    {
      "cell_type": "code",
      "execution_count": 16,
      "metadata": {
        "id": "3BgTS5vKcjJI"
      },
      "outputs": [],
      "source": [
        "import PIL"
      ]
    },
    {
      "cell_type": "code",
      "execution_count": 17,
      "metadata": {
        "id": "jnf9xjSoUacE"
      },
      "outputs": [],
      "source": [
        "import torchvision.transforms as transforms\n",
        "import os\n",
        "from torch.utils.data import random_split\n",
        "\n",
        "# Define the root path to the train and test folders\n",
        "root_folder = '/content/drive/MyDrive/korea_influencer/'\n",
        "\n",
        "# Define subfolder paths\n",
        "# train_folder = os.path.join(root_folder, 'train')\n",
        "test_folder = os.path.join(root_folder, 'test')\n",
        "train_tiny_folder = os.path.join(root_folder, 'KI_tiny_10')\n",
        "\n",
        "preprocess_train = tv.transforms.Compose([\n",
        "    tv.transforms.Resize((160, 160), interpolation=PIL.Image.BILINEAR),  # It's the default, just being explicit for the reader.\n",
        "    tv.transforms.RandomCrop((128, 128)),\n",
        "    tv.transforms.RandomHorizontalFlip(),\n",
        "    tv.transforms.ToTensor(),\n",
        "    tv.transforms.Normalize((0.5, 0.5, 0.5), (0.5, 0.5, 0.5))  # Get data into [-1, 1]\n",
        "])\n",
        "\n",
        "preprocess_val = tv.transforms.Compose([\n",
        "    tv.transforms.Resize((128, 128), interpolation=PIL.Image.BILINEAR),\n",
        "    tv.transforms.ToTensor(),\n",
        "    tv.transforms.Normalize((0.5, 0.5, 0.5), (0.5, 0.5, 0.5))\n",
        "])\n",
        "\n",
        "preprocess_eval = tv.transforms.Compose([\n",
        "    tv.transforms.Resize((128, 128), interpolation=PIL.Image.BILINEAR),\n",
        "    tv.transforms.ToTensor(),\n",
        "    tv.transforms.Normalize((0.5, 0.5, 0.5), (0.5, 0.5, 0.5))\n",
        "])\n",
        "\n",
        "# Create custom datasets using the ImageFolder dataset class\n",
        "# train_dataset = tv.datasets.ImageFolder(root=train_folder, transform=preprocess_train)\n",
        "test_dataset = tv.datasets.ImageFolder(root=test_folder, transform=preprocess_eval)\n",
        "\n",
        "# # Load only 5 pieces of data for each class\n",
        "# num_samples_per_class = 10\n",
        "# subset_indices_train = []\n",
        "# for class_idx_train in range(len(train_dataset.classes)):\n",
        "#     class_indices_train = [idx for idx, label in enumerate(train_dataset.targets) if label == class_idx_train]\n",
        "#     subset_indices_train.extend(class_indices_train[:num_samples_per_class])\n",
        "\n",
        "# # Create a subset dataset with only 5 samples per class\n",
        "# train_dataset_subset = torch.utils.data.Subset(train_dataset, subset_indices_train)\n",
        "\n",
        "#train / val 9:1\n",
        "# dataset_size = len(train_dataset)\n",
        "# train_size = int(dataset_size * 0.9)\n",
        "# val_size = dataset_size - train_size\n",
        "\n",
        "# train_dataset_jin, val_dataset_jin = random_split(train_dataset, [train_size, val_size])\n",
        "\n",
        "# Set batch sizes and create data loaders\n",
        "batch_size_train = 10\n",
        "batch_size_val = 10\n",
        "batch_size_test = 10\n",
        "\n",
        "# trainset = torch.utils.data.DataLoader(train_dataset_jin, batch_size=batch_size_train, shuffle=True, num_workers=4)\n",
        "# valset = torch.utils.data.DataLoader(val_dataset_jin, batch_size=batch_size_val, shuffle=False, num_workers = 4)\n",
        "# testset = torch.utils.data.DataLoader(test_dataset, batch_size=batch_size_test, shuffle=False, num_workers=4)"
      ]
    },
    {
      "cell_type": "markdown",
      "metadata": {
        "id": "V7aYBd532f0n"
      },
      "source": [
        "## Eval pre-trained model (verify conversion)"
      ]
    },
    {
      "cell_type": "code",
      "execution_count": 18,
      "metadata": {
        "id": "Ih562Vl820Fw"
      },
      "outputs": [],
      "source": [
        "model = ResNetV2(ResNetV2.BLOCK_UNITS['r101'], width_factor=1, head_size=21843)  # NOTE: No new head.\n",
        "model.load_from(weights)\n",
        "model.to(device);"
      ]
    },
    {
      "cell_type": "code",
      "execution_count": 19,
      "metadata": {
        "colab": {
          "base_uri": "https://localhost:8080/"
        },
        "id": "MWJ512GVeYZK",
        "outputId": "848e8f07-3dc7-446c-c1d2-62753235a3f2"
      },
      "outputs": [
        {
          "output_type": "execute_result",
          "data": {
            "text/plain": [
              "ResNetV2(\n",
              "  (root): Sequential(\n",
              "    (conv): StdConv2d(3, 64, kernel_size=(7, 7), stride=(2, 2), padding=(3, 3), bias=False)\n",
              "    (padp): ConstantPad2d(padding=(1, 1, 1, 1), value=0)\n",
              "    (pool): MaxPool2d(kernel_size=3, stride=2, padding=0, dilation=1, ceil_mode=False)\n",
              "  )\n",
              "  (body): Sequential(\n",
              "    (block1): Sequential(\n",
              "      (unit01): PreActBottleneck(\n",
              "        (gn1): GroupNorm(32, 64, eps=1e-05, affine=True)\n",
              "        (conv1): StdConv2d(64, 64, kernel_size=(1, 1), stride=(1, 1), bias=False)\n",
              "        (gn2): GroupNorm(32, 64, eps=1e-05, affine=True)\n",
              "        (conv2): StdConv2d(64, 64, kernel_size=(3, 3), stride=(1, 1), padding=(1, 1), bias=False)\n",
              "        (gn3): GroupNorm(32, 64, eps=1e-05, affine=True)\n",
              "        (conv3): StdConv2d(64, 256, kernel_size=(1, 1), stride=(1, 1), bias=False)\n",
              "        (relu): ReLU(inplace=True)\n",
              "        (downsample): StdConv2d(64, 256, kernel_size=(1, 1), stride=(1, 1), bias=False)\n",
              "      )\n",
              "      (unit02): PreActBottleneck(\n",
              "        (gn1): GroupNorm(32, 256, eps=1e-05, affine=True)\n",
              "        (conv1): StdConv2d(256, 64, kernel_size=(1, 1), stride=(1, 1), bias=False)\n",
              "        (gn2): GroupNorm(32, 64, eps=1e-05, affine=True)\n",
              "        (conv2): StdConv2d(64, 64, kernel_size=(3, 3), stride=(1, 1), padding=(1, 1), bias=False)\n",
              "        (gn3): GroupNorm(32, 64, eps=1e-05, affine=True)\n",
              "        (conv3): StdConv2d(64, 256, kernel_size=(1, 1), stride=(1, 1), bias=False)\n",
              "        (relu): ReLU(inplace=True)\n",
              "      )\n",
              "      (unit03): PreActBottleneck(\n",
              "        (gn1): GroupNorm(32, 256, eps=1e-05, affine=True)\n",
              "        (conv1): StdConv2d(256, 64, kernel_size=(1, 1), stride=(1, 1), bias=False)\n",
              "        (gn2): GroupNorm(32, 64, eps=1e-05, affine=True)\n",
              "        (conv2): StdConv2d(64, 64, kernel_size=(3, 3), stride=(1, 1), padding=(1, 1), bias=False)\n",
              "        (gn3): GroupNorm(32, 64, eps=1e-05, affine=True)\n",
              "        (conv3): StdConv2d(64, 256, kernel_size=(1, 1), stride=(1, 1), bias=False)\n",
              "        (relu): ReLU(inplace=True)\n",
              "      )\n",
              "    )\n",
              "    (block2): Sequential(\n",
              "      (unit01): PreActBottleneck(\n",
              "        (gn1): GroupNorm(32, 256, eps=1e-05, affine=True)\n",
              "        (conv1): StdConv2d(256, 128, kernel_size=(1, 1), stride=(1, 1), bias=False)\n",
              "        (gn2): GroupNorm(32, 128, eps=1e-05, affine=True)\n",
              "        (conv2): StdConv2d(128, 128, kernel_size=(3, 3), stride=(2, 2), padding=(1, 1), bias=False)\n",
              "        (gn3): GroupNorm(32, 128, eps=1e-05, affine=True)\n",
              "        (conv3): StdConv2d(128, 512, kernel_size=(1, 1), stride=(1, 1), bias=False)\n",
              "        (relu): ReLU(inplace=True)\n",
              "        (downsample): StdConv2d(256, 512, kernel_size=(1, 1), stride=(2, 2), bias=False)\n",
              "      )\n",
              "      (unit02): PreActBottleneck(\n",
              "        (gn1): GroupNorm(32, 512, eps=1e-05, affine=True)\n",
              "        (conv1): StdConv2d(512, 128, kernel_size=(1, 1), stride=(1, 1), bias=False)\n",
              "        (gn2): GroupNorm(32, 128, eps=1e-05, affine=True)\n",
              "        (conv2): StdConv2d(128, 128, kernel_size=(3, 3), stride=(1, 1), padding=(1, 1), bias=False)\n",
              "        (gn3): GroupNorm(32, 128, eps=1e-05, affine=True)\n",
              "        (conv3): StdConv2d(128, 512, kernel_size=(1, 1), stride=(1, 1), bias=False)\n",
              "        (relu): ReLU(inplace=True)\n",
              "      )\n",
              "      (unit03): PreActBottleneck(\n",
              "        (gn1): GroupNorm(32, 512, eps=1e-05, affine=True)\n",
              "        (conv1): StdConv2d(512, 128, kernel_size=(1, 1), stride=(1, 1), bias=False)\n",
              "        (gn2): GroupNorm(32, 128, eps=1e-05, affine=True)\n",
              "        (conv2): StdConv2d(128, 128, kernel_size=(3, 3), stride=(1, 1), padding=(1, 1), bias=False)\n",
              "        (gn3): GroupNorm(32, 128, eps=1e-05, affine=True)\n",
              "        (conv3): StdConv2d(128, 512, kernel_size=(1, 1), stride=(1, 1), bias=False)\n",
              "        (relu): ReLU(inplace=True)\n",
              "      )\n",
              "      (unit04): PreActBottleneck(\n",
              "        (gn1): GroupNorm(32, 512, eps=1e-05, affine=True)\n",
              "        (conv1): StdConv2d(512, 128, kernel_size=(1, 1), stride=(1, 1), bias=False)\n",
              "        (gn2): GroupNorm(32, 128, eps=1e-05, affine=True)\n",
              "        (conv2): StdConv2d(128, 128, kernel_size=(3, 3), stride=(1, 1), padding=(1, 1), bias=False)\n",
              "        (gn3): GroupNorm(32, 128, eps=1e-05, affine=True)\n",
              "        (conv3): StdConv2d(128, 512, kernel_size=(1, 1), stride=(1, 1), bias=False)\n",
              "        (relu): ReLU(inplace=True)\n",
              "      )\n",
              "    )\n",
              "    (block3): Sequential(\n",
              "      (unit01): PreActBottleneck(\n",
              "        (gn1): GroupNorm(32, 512, eps=1e-05, affine=True)\n",
              "        (conv1): StdConv2d(512, 256, kernel_size=(1, 1), stride=(1, 1), bias=False)\n",
              "        (gn2): GroupNorm(32, 256, eps=1e-05, affine=True)\n",
              "        (conv2): StdConv2d(256, 256, kernel_size=(3, 3), stride=(2, 2), padding=(1, 1), bias=False)\n",
              "        (gn3): GroupNorm(32, 256, eps=1e-05, affine=True)\n",
              "        (conv3): StdConv2d(256, 1024, kernel_size=(1, 1), stride=(1, 1), bias=False)\n",
              "        (relu): ReLU(inplace=True)\n",
              "        (downsample): StdConv2d(512, 1024, kernel_size=(1, 1), stride=(2, 2), bias=False)\n",
              "      )\n",
              "      (unit02): PreActBottleneck(\n",
              "        (gn1): GroupNorm(32, 1024, eps=1e-05, affine=True)\n",
              "        (conv1): StdConv2d(1024, 256, kernel_size=(1, 1), stride=(1, 1), bias=False)\n",
              "        (gn2): GroupNorm(32, 256, eps=1e-05, affine=True)\n",
              "        (conv2): StdConv2d(256, 256, kernel_size=(3, 3), stride=(1, 1), padding=(1, 1), bias=False)\n",
              "        (gn3): GroupNorm(32, 256, eps=1e-05, affine=True)\n",
              "        (conv3): StdConv2d(256, 1024, kernel_size=(1, 1), stride=(1, 1), bias=False)\n",
              "        (relu): ReLU(inplace=True)\n",
              "      )\n",
              "      (unit03): PreActBottleneck(\n",
              "        (gn1): GroupNorm(32, 1024, eps=1e-05, affine=True)\n",
              "        (conv1): StdConv2d(1024, 256, kernel_size=(1, 1), stride=(1, 1), bias=False)\n",
              "        (gn2): GroupNorm(32, 256, eps=1e-05, affine=True)\n",
              "        (conv2): StdConv2d(256, 256, kernel_size=(3, 3), stride=(1, 1), padding=(1, 1), bias=False)\n",
              "        (gn3): GroupNorm(32, 256, eps=1e-05, affine=True)\n",
              "        (conv3): StdConv2d(256, 1024, kernel_size=(1, 1), stride=(1, 1), bias=False)\n",
              "        (relu): ReLU(inplace=True)\n",
              "      )\n",
              "      (unit04): PreActBottleneck(\n",
              "        (gn1): GroupNorm(32, 1024, eps=1e-05, affine=True)\n",
              "        (conv1): StdConv2d(1024, 256, kernel_size=(1, 1), stride=(1, 1), bias=False)\n",
              "        (gn2): GroupNorm(32, 256, eps=1e-05, affine=True)\n",
              "        (conv2): StdConv2d(256, 256, kernel_size=(3, 3), stride=(1, 1), padding=(1, 1), bias=False)\n",
              "        (gn3): GroupNorm(32, 256, eps=1e-05, affine=True)\n",
              "        (conv3): StdConv2d(256, 1024, kernel_size=(1, 1), stride=(1, 1), bias=False)\n",
              "        (relu): ReLU(inplace=True)\n",
              "      )\n",
              "      (unit05): PreActBottleneck(\n",
              "        (gn1): GroupNorm(32, 1024, eps=1e-05, affine=True)\n",
              "        (conv1): StdConv2d(1024, 256, kernel_size=(1, 1), stride=(1, 1), bias=False)\n",
              "        (gn2): GroupNorm(32, 256, eps=1e-05, affine=True)\n",
              "        (conv2): StdConv2d(256, 256, kernel_size=(3, 3), stride=(1, 1), padding=(1, 1), bias=False)\n",
              "        (gn3): GroupNorm(32, 256, eps=1e-05, affine=True)\n",
              "        (conv3): StdConv2d(256, 1024, kernel_size=(1, 1), stride=(1, 1), bias=False)\n",
              "        (relu): ReLU(inplace=True)\n",
              "      )\n",
              "      (unit06): PreActBottleneck(\n",
              "        (gn1): GroupNorm(32, 1024, eps=1e-05, affine=True)\n",
              "        (conv1): StdConv2d(1024, 256, kernel_size=(1, 1), stride=(1, 1), bias=False)\n",
              "        (gn2): GroupNorm(32, 256, eps=1e-05, affine=True)\n",
              "        (conv2): StdConv2d(256, 256, kernel_size=(3, 3), stride=(1, 1), padding=(1, 1), bias=False)\n",
              "        (gn3): GroupNorm(32, 256, eps=1e-05, affine=True)\n",
              "        (conv3): StdConv2d(256, 1024, kernel_size=(1, 1), stride=(1, 1), bias=False)\n",
              "        (relu): ReLU(inplace=True)\n",
              "      )\n",
              "      (unit07): PreActBottleneck(\n",
              "        (gn1): GroupNorm(32, 1024, eps=1e-05, affine=True)\n",
              "        (conv1): StdConv2d(1024, 256, kernel_size=(1, 1), stride=(1, 1), bias=False)\n",
              "        (gn2): GroupNorm(32, 256, eps=1e-05, affine=True)\n",
              "        (conv2): StdConv2d(256, 256, kernel_size=(3, 3), stride=(1, 1), padding=(1, 1), bias=False)\n",
              "        (gn3): GroupNorm(32, 256, eps=1e-05, affine=True)\n",
              "        (conv3): StdConv2d(256, 1024, kernel_size=(1, 1), stride=(1, 1), bias=False)\n",
              "        (relu): ReLU(inplace=True)\n",
              "      )\n",
              "      (unit08): PreActBottleneck(\n",
              "        (gn1): GroupNorm(32, 1024, eps=1e-05, affine=True)\n",
              "        (conv1): StdConv2d(1024, 256, kernel_size=(1, 1), stride=(1, 1), bias=False)\n",
              "        (gn2): GroupNorm(32, 256, eps=1e-05, affine=True)\n",
              "        (conv2): StdConv2d(256, 256, kernel_size=(3, 3), stride=(1, 1), padding=(1, 1), bias=False)\n",
              "        (gn3): GroupNorm(32, 256, eps=1e-05, affine=True)\n",
              "        (conv3): StdConv2d(256, 1024, kernel_size=(1, 1), stride=(1, 1), bias=False)\n",
              "        (relu): ReLU(inplace=True)\n",
              "      )\n",
              "      (unit09): PreActBottleneck(\n",
              "        (gn1): GroupNorm(32, 1024, eps=1e-05, affine=True)\n",
              "        (conv1): StdConv2d(1024, 256, kernel_size=(1, 1), stride=(1, 1), bias=False)\n",
              "        (gn2): GroupNorm(32, 256, eps=1e-05, affine=True)\n",
              "        (conv2): StdConv2d(256, 256, kernel_size=(3, 3), stride=(1, 1), padding=(1, 1), bias=False)\n",
              "        (gn3): GroupNorm(32, 256, eps=1e-05, affine=True)\n",
              "        (conv3): StdConv2d(256, 1024, kernel_size=(1, 1), stride=(1, 1), bias=False)\n",
              "        (relu): ReLU(inplace=True)\n",
              "      )\n",
              "      (unit10): PreActBottleneck(\n",
              "        (gn1): GroupNorm(32, 1024, eps=1e-05, affine=True)\n",
              "        (conv1): StdConv2d(1024, 256, kernel_size=(1, 1), stride=(1, 1), bias=False)\n",
              "        (gn2): GroupNorm(32, 256, eps=1e-05, affine=True)\n",
              "        (conv2): StdConv2d(256, 256, kernel_size=(3, 3), stride=(1, 1), padding=(1, 1), bias=False)\n",
              "        (gn3): GroupNorm(32, 256, eps=1e-05, affine=True)\n",
              "        (conv3): StdConv2d(256, 1024, kernel_size=(1, 1), stride=(1, 1), bias=False)\n",
              "        (relu): ReLU(inplace=True)\n",
              "      )\n",
              "      (unit11): PreActBottleneck(\n",
              "        (gn1): GroupNorm(32, 1024, eps=1e-05, affine=True)\n",
              "        (conv1): StdConv2d(1024, 256, kernel_size=(1, 1), stride=(1, 1), bias=False)\n",
              "        (gn2): GroupNorm(32, 256, eps=1e-05, affine=True)\n",
              "        (conv2): StdConv2d(256, 256, kernel_size=(3, 3), stride=(1, 1), padding=(1, 1), bias=False)\n",
              "        (gn3): GroupNorm(32, 256, eps=1e-05, affine=True)\n",
              "        (conv3): StdConv2d(256, 1024, kernel_size=(1, 1), stride=(1, 1), bias=False)\n",
              "        (relu): ReLU(inplace=True)\n",
              "      )\n",
              "      (unit12): PreActBottleneck(\n",
              "        (gn1): GroupNorm(32, 1024, eps=1e-05, affine=True)\n",
              "        (conv1): StdConv2d(1024, 256, kernel_size=(1, 1), stride=(1, 1), bias=False)\n",
              "        (gn2): GroupNorm(32, 256, eps=1e-05, affine=True)\n",
              "        (conv2): StdConv2d(256, 256, kernel_size=(3, 3), stride=(1, 1), padding=(1, 1), bias=False)\n",
              "        (gn3): GroupNorm(32, 256, eps=1e-05, affine=True)\n",
              "        (conv3): StdConv2d(256, 1024, kernel_size=(1, 1), stride=(1, 1), bias=False)\n",
              "        (relu): ReLU(inplace=True)\n",
              "      )\n",
              "      (unit13): PreActBottleneck(\n",
              "        (gn1): GroupNorm(32, 1024, eps=1e-05, affine=True)\n",
              "        (conv1): StdConv2d(1024, 256, kernel_size=(1, 1), stride=(1, 1), bias=False)\n",
              "        (gn2): GroupNorm(32, 256, eps=1e-05, affine=True)\n",
              "        (conv2): StdConv2d(256, 256, kernel_size=(3, 3), stride=(1, 1), padding=(1, 1), bias=False)\n",
              "        (gn3): GroupNorm(32, 256, eps=1e-05, affine=True)\n",
              "        (conv3): StdConv2d(256, 1024, kernel_size=(1, 1), stride=(1, 1), bias=False)\n",
              "        (relu): ReLU(inplace=True)\n",
              "      )\n",
              "      (unit14): PreActBottleneck(\n",
              "        (gn1): GroupNorm(32, 1024, eps=1e-05, affine=True)\n",
              "        (conv1): StdConv2d(1024, 256, kernel_size=(1, 1), stride=(1, 1), bias=False)\n",
              "        (gn2): GroupNorm(32, 256, eps=1e-05, affine=True)\n",
              "        (conv2): StdConv2d(256, 256, kernel_size=(3, 3), stride=(1, 1), padding=(1, 1), bias=False)\n",
              "        (gn3): GroupNorm(32, 256, eps=1e-05, affine=True)\n",
              "        (conv3): StdConv2d(256, 1024, kernel_size=(1, 1), stride=(1, 1), bias=False)\n",
              "        (relu): ReLU(inplace=True)\n",
              "      )\n",
              "      (unit15): PreActBottleneck(\n",
              "        (gn1): GroupNorm(32, 1024, eps=1e-05, affine=True)\n",
              "        (conv1): StdConv2d(1024, 256, kernel_size=(1, 1), stride=(1, 1), bias=False)\n",
              "        (gn2): GroupNorm(32, 256, eps=1e-05, affine=True)\n",
              "        (conv2): StdConv2d(256, 256, kernel_size=(3, 3), stride=(1, 1), padding=(1, 1), bias=False)\n",
              "        (gn3): GroupNorm(32, 256, eps=1e-05, affine=True)\n",
              "        (conv3): StdConv2d(256, 1024, kernel_size=(1, 1), stride=(1, 1), bias=False)\n",
              "        (relu): ReLU(inplace=True)\n",
              "      )\n",
              "      (unit16): PreActBottleneck(\n",
              "        (gn1): GroupNorm(32, 1024, eps=1e-05, affine=True)\n",
              "        (conv1): StdConv2d(1024, 256, kernel_size=(1, 1), stride=(1, 1), bias=False)\n",
              "        (gn2): GroupNorm(32, 256, eps=1e-05, affine=True)\n",
              "        (conv2): StdConv2d(256, 256, kernel_size=(3, 3), stride=(1, 1), padding=(1, 1), bias=False)\n",
              "        (gn3): GroupNorm(32, 256, eps=1e-05, affine=True)\n",
              "        (conv3): StdConv2d(256, 1024, kernel_size=(1, 1), stride=(1, 1), bias=False)\n",
              "        (relu): ReLU(inplace=True)\n",
              "      )\n",
              "      (unit17): PreActBottleneck(\n",
              "        (gn1): GroupNorm(32, 1024, eps=1e-05, affine=True)\n",
              "        (conv1): StdConv2d(1024, 256, kernel_size=(1, 1), stride=(1, 1), bias=False)\n",
              "        (gn2): GroupNorm(32, 256, eps=1e-05, affine=True)\n",
              "        (conv2): StdConv2d(256, 256, kernel_size=(3, 3), stride=(1, 1), padding=(1, 1), bias=False)\n",
              "        (gn3): GroupNorm(32, 256, eps=1e-05, affine=True)\n",
              "        (conv3): StdConv2d(256, 1024, kernel_size=(1, 1), stride=(1, 1), bias=False)\n",
              "        (relu): ReLU(inplace=True)\n",
              "      )\n",
              "      (unit18): PreActBottleneck(\n",
              "        (gn1): GroupNorm(32, 1024, eps=1e-05, affine=True)\n",
              "        (conv1): StdConv2d(1024, 256, kernel_size=(1, 1), stride=(1, 1), bias=False)\n",
              "        (gn2): GroupNorm(32, 256, eps=1e-05, affine=True)\n",
              "        (conv2): StdConv2d(256, 256, kernel_size=(3, 3), stride=(1, 1), padding=(1, 1), bias=False)\n",
              "        (gn3): GroupNorm(32, 256, eps=1e-05, affine=True)\n",
              "        (conv3): StdConv2d(256, 1024, kernel_size=(1, 1), stride=(1, 1), bias=False)\n",
              "        (relu): ReLU(inplace=True)\n",
              "      )\n",
              "      (unit19): PreActBottleneck(\n",
              "        (gn1): GroupNorm(32, 1024, eps=1e-05, affine=True)\n",
              "        (conv1): StdConv2d(1024, 256, kernel_size=(1, 1), stride=(1, 1), bias=False)\n",
              "        (gn2): GroupNorm(32, 256, eps=1e-05, affine=True)\n",
              "        (conv2): StdConv2d(256, 256, kernel_size=(3, 3), stride=(1, 1), padding=(1, 1), bias=False)\n",
              "        (gn3): GroupNorm(32, 256, eps=1e-05, affine=True)\n",
              "        (conv3): StdConv2d(256, 1024, kernel_size=(1, 1), stride=(1, 1), bias=False)\n",
              "        (relu): ReLU(inplace=True)\n",
              "      )\n",
              "      (unit20): PreActBottleneck(\n",
              "        (gn1): GroupNorm(32, 1024, eps=1e-05, affine=True)\n",
              "        (conv1): StdConv2d(1024, 256, kernel_size=(1, 1), stride=(1, 1), bias=False)\n",
              "        (gn2): GroupNorm(32, 256, eps=1e-05, affine=True)\n",
              "        (conv2): StdConv2d(256, 256, kernel_size=(3, 3), stride=(1, 1), padding=(1, 1), bias=False)\n",
              "        (gn3): GroupNorm(32, 256, eps=1e-05, affine=True)\n",
              "        (conv3): StdConv2d(256, 1024, kernel_size=(1, 1), stride=(1, 1), bias=False)\n",
              "        (relu): ReLU(inplace=True)\n",
              "      )\n",
              "      (unit21): PreActBottleneck(\n",
              "        (gn1): GroupNorm(32, 1024, eps=1e-05, affine=True)\n",
              "        (conv1): StdConv2d(1024, 256, kernel_size=(1, 1), stride=(1, 1), bias=False)\n",
              "        (gn2): GroupNorm(32, 256, eps=1e-05, affine=True)\n",
              "        (conv2): StdConv2d(256, 256, kernel_size=(3, 3), stride=(1, 1), padding=(1, 1), bias=False)\n",
              "        (gn3): GroupNorm(32, 256, eps=1e-05, affine=True)\n",
              "        (conv3): StdConv2d(256, 1024, kernel_size=(1, 1), stride=(1, 1), bias=False)\n",
              "        (relu): ReLU(inplace=True)\n",
              "      )\n",
              "      (unit22): PreActBottleneck(\n",
              "        (gn1): GroupNorm(32, 1024, eps=1e-05, affine=True)\n",
              "        (conv1): StdConv2d(1024, 256, kernel_size=(1, 1), stride=(1, 1), bias=False)\n",
              "        (gn2): GroupNorm(32, 256, eps=1e-05, affine=True)\n",
              "        (conv2): StdConv2d(256, 256, kernel_size=(3, 3), stride=(1, 1), padding=(1, 1), bias=False)\n",
              "        (gn3): GroupNorm(32, 256, eps=1e-05, affine=True)\n",
              "        (conv3): StdConv2d(256, 1024, kernel_size=(1, 1), stride=(1, 1), bias=False)\n",
              "        (relu): ReLU(inplace=True)\n",
              "      )\n",
              "      (unit23): PreActBottleneck(\n",
              "        (gn1): GroupNorm(32, 1024, eps=1e-05, affine=True)\n",
              "        (conv1): StdConv2d(1024, 256, kernel_size=(1, 1), stride=(1, 1), bias=False)\n",
              "        (gn2): GroupNorm(32, 256, eps=1e-05, affine=True)\n",
              "        (conv2): StdConv2d(256, 256, kernel_size=(3, 3), stride=(1, 1), padding=(1, 1), bias=False)\n",
              "        (gn3): GroupNorm(32, 256, eps=1e-05, affine=True)\n",
              "        (conv3): StdConv2d(256, 1024, kernel_size=(1, 1), stride=(1, 1), bias=False)\n",
              "        (relu): ReLU(inplace=True)\n",
              "      )\n",
              "    )\n",
              "    (block4): Sequential(\n",
              "      (unit01): PreActBottleneck(\n",
              "        (gn1): GroupNorm(32, 1024, eps=1e-05, affine=True)\n",
              "        (conv1): StdConv2d(1024, 512, kernel_size=(1, 1), stride=(1, 1), bias=False)\n",
              "        (gn2): GroupNorm(32, 512, eps=1e-05, affine=True)\n",
              "        (conv2): StdConv2d(512, 512, kernel_size=(3, 3), stride=(2, 2), padding=(1, 1), bias=False)\n",
              "        (gn3): GroupNorm(32, 512, eps=1e-05, affine=True)\n",
              "        (conv3): StdConv2d(512, 2048, kernel_size=(1, 1), stride=(1, 1), bias=False)\n",
              "        (relu): ReLU(inplace=True)\n",
              "        (downsample): StdConv2d(1024, 2048, kernel_size=(1, 1), stride=(2, 2), bias=False)\n",
              "      )\n",
              "      (unit02): PreActBottleneck(\n",
              "        (gn1): GroupNorm(32, 2048, eps=1e-05, affine=True)\n",
              "        (conv1): StdConv2d(2048, 512, kernel_size=(1, 1), stride=(1, 1), bias=False)\n",
              "        (gn2): GroupNorm(32, 512, eps=1e-05, affine=True)\n",
              "        (conv2): StdConv2d(512, 512, kernel_size=(3, 3), stride=(1, 1), padding=(1, 1), bias=False)\n",
              "        (gn3): GroupNorm(32, 512, eps=1e-05, affine=True)\n",
              "        (conv3): StdConv2d(512, 2048, kernel_size=(1, 1), stride=(1, 1), bias=False)\n",
              "        (relu): ReLU(inplace=True)\n",
              "      )\n",
              "      (unit03): PreActBottleneck(\n",
              "        (gn1): GroupNorm(32, 2048, eps=1e-05, affine=True)\n",
              "        (conv1): StdConv2d(2048, 512, kernel_size=(1, 1), stride=(1, 1), bias=False)\n",
              "        (gn2): GroupNorm(32, 512, eps=1e-05, affine=True)\n",
              "        (conv2): StdConv2d(512, 512, kernel_size=(3, 3), stride=(1, 1), padding=(1, 1), bias=False)\n",
              "        (gn3): GroupNorm(32, 512, eps=1e-05, affine=True)\n",
              "        (conv3): StdConv2d(512, 2048, kernel_size=(1, 1), stride=(1, 1), bias=False)\n",
              "        (relu): ReLU(inplace=True)\n",
              "      )\n",
              "    )\n",
              "  )\n",
              "  (head): Sequential(\n",
              "    (gn): GroupNorm(32, 2048, eps=1e-05, affine=True)\n",
              "    (relu): ReLU(inplace=True)\n",
              "    (avg): AdaptiveAvgPool2d(output_size=1)\n",
              "    (conv): Conv2d(2048, 21843, kernel_size=(1, 1), stride=(1, 1))\n",
              "  )\n",
              ")"
            ]
          },
          "metadata": {},
          "execution_count": 19
        }
      ],
      "source": [
        "model"
      ]
    },
    {
      "cell_type": "code",
      "execution_count": 20,
      "metadata": {
        "colab": {
          "base_uri": "https://localhost:8080/"
        },
        "id": "fBcxRPUFfKH0",
        "outputId": "70c93b9a-acfb-417f-a6fa-a7c899a17856"
      },
      "outputs": [
        {
          "output_type": "execute_result",
          "data": {
            "text/plain": [
              "ResNetV2(\n",
              "  (root): Sequential(\n",
              "    (conv): StdConv2d(3, 64, kernel_size=(7, 7), stride=(2, 2), padding=(3, 3), bias=False)\n",
              "    (padp): ConstantPad2d(padding=(1, 1, 1, 1), value=0)\n",
              "    (pool): MaxPool2d(kernel_size=3, stride=2, padding=0, dilation=1, ceil_mode=False)\n",
              "  )\n",
              "  (body): Sequential(\n",
              "    (block1): Sequential(\n",
              "      (unit01): PreActBottleneck(\n",
              "        (gn1): GroupNorm(32, 64, eps=1e-05, affine=True)\n",
              "        (conv1): StdConv2d(64, 64, kernel_size=(1, 1), stride=(1, 1), bias=False)\n",
              "        (gn2): GroupNorm(32, 64, eps=1e-05, affine=True)\n",
              "        (conv2): StdConv2d(64, 64, kernel_size=(3, 3), stride=(1, 1), padding=(1, 1), bias=False)\n",
              "        (gn3): GroupNorm(32, 64, eps=1e-05, affine=True)\n",
              "        (conv3): StdConv2d(64, 256, kernel_size=(1, 1), stride=(1, 1), bias=False)\n",
              "        (relu): ReLU(inplace=True)\n",
              "        (downsample): StdConv2d(64, 256, kernel_size=(1, 1), stride=(1, 1), bias=False)\n",
              "      )\n",
              "      (unit02): PreActBottleneck(\n",
              "        (gn1): GroupNorm(32, 256, eps=1e-05, affine=True)\n",
              "        (conv1): StdConv2d(256, 64, kernel_size=(1, 1), stride=(1, 1), bias=False)\n",
              "        (gn2): GroupNorm(32, 64, eps=1e-05, affine=True)\n",
              "        (conv2): StdConv2d(64, 64, kernel_size=(3, 3), stride=(1, 1), padding=(1, 1), bias=False)\n",
              "        (gn3): GroupNorm(32, 64, eps=1e-05, affine=True)\n",
              "        (conv3): StdConv2d(64, 256, kernel_size=(1, 1), stride=(1, 1), bias=False)\n",
              "        (relu): ReLU(inplace=True)\n",
              "      )\n",
              "      (unit03): PreActBottleneck(\n",
              "        (gn1): GroupNorm(32, 256, eps=1e-05, affine=True)\n",
              "        (conv1): StdConv2d(256, 64, kernel_size=(1, 1), stride=(1, 1), bias=False)\n",
              "        (gn2): GroupNorm(32, 64, eps=1e-05, affine=True)\n",
              "        (conv2): StdConv2d(64, 64, kernel_size=(3, 3), stride=(1, 1), padding=(1, 1), bias=False)\n",
              "        (gn3): GroupNorm(32, 64, eps=1e-05, affine=True)\n",
              "        (conv3): StdConv2d(64, 256, kernel_size=(1, 1), stride=(1, 1), bias=False)\n",
              "        (relu): ReLU(inplace=True)\n",
              "      )\n",
              "    )\n",
              "    (block2): Sequential(\n",
              "      (unit01): PreActBottleneck(\n",
              "        (gn1): GroupNorm(32, 256, eps=1e-05, affine=True)\n",
              "        (conv1): StdConv2d(256, 128, kernel_size=(1, 1), stride=(1, 1), bias=False)\n",
              "        (gn2): GroupNorm(32, 128, eps=1e-05, affine=True)\n",
              "        (conv2): StdConv2d(128, 128, kernel_size=(3, 3), stride=(2, 2), padding=(1, 1), bias=False)\n",
              "        (gn3): GroupNorm(32, 128, eps=1e-05, affine=True)\n",
              "        (conv3): StdConv2d(128, 512, kernel_size=(1, 1), stride=(1, 1), bias=False)\n",
              "        (relu): ReLU(inplace=True)\n",
              "        (downsample): StdConv2d(256, 512, kernel_size=(1, 1), stride=(2, 2), bias=False)\n",
              "      )\n",
              "      (unit02): PreActBottleneck(\n",
              "        (gn1): GroupNorm(32, 512, eps=1e-05, affine=True)\n",
              "        (conv1): StdConv2d(512, 128, kernel_size=(1, 1), stride=(1, 1), bias=False)\n",
              "        (gn2): GroupNorm(32, 128, eps=1e-05, affine=True)\n",
              "        (conv2): StdConv2d(128, 128, kernel_size=(3, 3), stride=(1, 1), padding=(1, 1), bias=False)\n",
              "        (gn3): GroupNorm(32, 128, eps=1e-05, affine=True)\n",
              "        (conv3): StdConv2d(128, 512, kernel_size=(1, 1), stride=(1, 1), bias=False)\n",
              "        (relu): ReLU(inplace=True)\n",
              "      )\n",
              "      (unit03): PreActBottleneck(\n",
              "        (gn1): GroupNorm(32, 512, eps=1e-05, affine=True)\n",
              "        (conv1): StdConv2d(512, 128, kernel_size=(1, 1), stride=(1, 1), bias=False)\n",
              "        (gn2): GroupNorm(32, 128, eps=1e-05, affine=True)\n",
              "        (conv2): StdConv2d(128, 128, kernel_size=(3, 3), stride=(1, 1), padding=(1, 1), bias=False)\n",
              "        (gn3): GroupNorm(32, 128, eps=1e-05, affine=True)\n",
              "        (conv3): StdConv2d(128, 512, kernel_size=(1, 1), stride=(1, 1), bias=False)\n",
              "        (relu): ReLU(inplace=True)\n",
              "      )\n",
              "      (unit04): PreActBottleneck(\n",
              "        (gn1): GroupNorm(32, 512, eps=1e-05, affine=True)\n",
              "        (conv1): StdConv2d(512, 128, kernel_size=(1, 1), stride=(1, 1), bias=False)\n",
              "        (gn2): GroupNorm(32, 128, eps=1e-05, affine=True)\n",
              "        (conv2): StdConv2d(128, 128, kernel_size=(3, 3), stride=(1, 1), padding=(1, 1), bias=False)\n",
              "        (gn3): GroupNorm(32, 128, eps=1e-05, affine=True)\n",
              "        (conv3): StdConv2d(128, 512, kernel_size=(1, 1), stride=(1, 1), bias=False)\n",
              "        (relu): ReLU(inplace=True)\n",
              "      )\n",
              "    )\n",
              "    (block3): Sequential(\n",
              "      (unit01): PreActBottleneck(\n",
              "        (gn1): GroupNorm(32, 512, eps=1e-05, affine=True)\n",
              "        (conv1): StdConv2d(512, 256, kernel_size=(1, 1), stride=(1, 1), bias=False)\n",
              "        (gn2): GroupNorm(32, 256, eps=1e-05, affine=True)\n",
              "        (conv2): StdConv2d(256, 256, kernel_size=(3, 3), stride=(2, 2), padding=(1, 1), bias=False)\n",
              "        (gn3): GroupNorm(32, 256, eps=1e-05, affine=True)\n",
              "        (conv3): StdConv2d(256, 1024, kernel_size=(1, 1), stride=(1, 1), bias=False)\n",
              "        (relu): ReLU(inplace=True)\n",
              "        (downsample): StdConv2d(512, 1024, kernel_size=(1, 1), stride=(2, 2), bias=False)\n",
              "      )\n",
              "      (unit02): PreActBottleneck(\n",
              "        (gn1): GroupNorm(32, 1024, eps=1e-05, affine=True)\n",
              "        (conv1): StdConv2d(1024, 256, kernel_size=(1, 1), stride=(1, 1), bias=False)\n",
              "        (gn2): GroupNorm(32, 256, eps=1e-05, affine=True)\n",
              "        (conv2): StdConv2d(256, 256, kernel_size=(3, 3), stride=(1, 1), padding=(1, 1), bias=False)\n",
              "        (gn3): GroupNorm(32, 256, eps=1e-05, affine=True)\n",
              "        (conv3): StdConv2d(256, 1024, kernel_size=(1, 1), stride=(1, 1), bias=False)\n",
              "        (relu): ReLU(inplace=True)\n",
              "      )\n",
              "      (unit03): PreActBottleneck(\n",
              "        (gn1): GroupNorm(32, 1024, eps=1e-05, affine=True)\n",
              "        (conv1): StdConv2d(1024, 256, kernel_size=(1, 1), stride=(1, 1), bias=False)\n",
              "        (gn2): GroupNorm(32, 256, eps=1e-05, affine=True)\n",
              "        (conv2): StdConv2d(256, 256, kernel_size=(3, 3), stride=(1, 1), padding=(1, 1), bias=False)\n",
              "        (gn3): GroupNorm(32, 256, eps=1e-05, affine=True)\n",
              "        (conv3): StdConv2d(256, 1024, kernel_size=(1, 1), stride=(1, 1), bias=False)\n",
              "        (relu): ReLU(inplace=True)\n",
              "      )\n",
              "      (unit04): PreActBottleneck(\n",
              "        (gn1): GroupNorm(32, 1024, eps=1e-05, affine=True)\n",
              "        (conv1): StdConv2d(1024, 256, kernel_size=(1, 1), stride=(1, 1), bias=False)\n",
              "        (gn2): GroupNorm(32, 256, eps=1e-05, affine=True)\n",
              "        (conv2): StdConv2d(256, 256, kernel_size=(3, 3), stride=(1, 1), padding=(1, 1), bias=False)\n",
              "        (gn3): GroupNorm(32, 256, eps=1e-05, affine=True)\n",
              "        (conv3): StdConv2d(256, 1024, kernel_size=(1, 1), stride=(1, 1), bias=False)\n",
              "        (relu): ReLU(inplace=True)\n",
              "      )\n",
              "      (unit05): PreActBottleneck(\n",
              "        (gn1): GroupNorm(32, 1024, eps=1e-05, affine=True)\n",
              "        (conv1): StdConv2d(1024, 256, kernel_size=(1, 1), stride=(1, 1), bias=False)\n",
              "        (gn2): GroupNorm(32, 256, eps=1e-05, affine=True)\n",
              "        (conv2): StdConv2d(256, 256, kernel_size=(3, 3), stride=(1, 1), padding=(1, 1), bias=False)\n",
              "        (gn3): GroupNorm(32, 256, eps=1e-05, affine=True)\n",
              "        (conv3): StdConv2d(256, 1024, kernel_size=(1, 1), stride=(1, 1), bias=False)\n",
              "        (relu): ReLU(inplace=True)\n",
              "      )\n",
              "      (unit06): PreActBottleneck(\n",
              "        (gn1): GroupNorm(32, 1024, eps=1e-05, affine=True)\n",
              "        (conv1): StdConv2d(1024, 256, kernel_size=(1, 1), stride=(1, 1), bias=False)\n",
              "        (gn2): GroupNorm(32, 256, eps=1e-05, affine=True)\n",
              "        (conv2): StdConv2d(256, 256, kernel_size=(3, 3), stride=(1, 1), padding=(1, 1), bias=False)\n",
              "        (gn3): GroupNorm(32, 256, eps=1e-05, affine=True)\n",
              "        (conv3): StdConv2d(256, 1024, kernel_size=(1, 1), stride=(1, 1), bias=False)\n",
              "        (relu): ReLU(inplace=True)\n",
              "      )\n",
              "      (unit07): PreActBottleneck(\n",
              "        (gn1): GroupNorm(32, 1024, eps=1e-05, affine=True)\n",
              "        (conv1): StdConv2d(1024, 256, kernel_size=(1, 1), stride=(1, 1), bias=False)\n",
              "        (gn2): GroupNorm(32, 256, eps=1e-05, affine=True)\n",
              "        (conv2): StdConv2d(256, 256, kernel_size=(3, 3), stride=(1, 1), padding=(1, 1), bias=False)\n",
              "        (gn3): GroupNorm(32, 256, eps=1e-05, affine=True)\n",
              "        (conv3): StdConv2d(256, 1024, kernel_size=(1, 1), stride=(1, 1), bias=False)\n",
              "        (relu): ReLU(inplace=True)\n",
              "      )\n",
              "      (unit08): PreActBottleneck(\n",
              "        (gn1): GroupNorm(32, 1024, eps=1e-05, affine=True)\n",
              "        (conv1): StdConv2d(1024, 256, kernel_size=(1, 1), stride=(1, 1), bias=False)\n",
              "        (gn2): GroupNorm(32, 256, eps=1e-05, affine=True)\n",
              "        (conv2): StdConv2d(256, 256, kernel_size=(3, 3), stride=(1, 1), padding=(1, 1), bias=False)\n",
              "        (gn3): GroupNorm(32, 256, eps=1e-05, affine=True)\n",
              "        (conv3): StdConv2d(256, 1024, kernel_size=(1, 1), stride=(1, 1), bias=False)\n",
              "        (relu): ReLU(inplace=True)\n",
              "      )\n",
              "      (unit09): PreActBottleneck(\n",
              "        (gn1): GroupNorm(32, 1024, eps=1e-05, affine=True)\n",
              "        (conv1): StdConv2d(1024, 256, kernel_size=(1, 1), stride=(1, 1), bias=False)\n",
              "        (gn2): GroupNorm(32, 256, eps=1e-05, affine=True)\n",
              "        (conv2): StdConv2d(256, 256, kernel_size=(3, 3), stride=(1, 1), padding=(1, 1), bias=False)\n",
              "        (gn3): GroupNorm(32, 256, eps=1e-05, affine=True)\n",
              "        (conv3): StdConv2d(256, 1024, kernel_size=(1, 1), stride=(1, 1), bias=False)\n",
              "        (relu): ReLU(inplace=True)\n",
              "      )\n",
              "      (unit10): PreActBottleneck(\n",
              "        (gn1): GroupNorm(32, 1024, eps=1e-05, affine=True)\n",
              "        (conv1): StdConv2d(1024, 256, kernel_size=(1, 1), stride=(1, 1), bias=False)\n",
              "        (gn2): GroupNorm(32, 256, eps=1e-05, affine=True)\n",
              "        (conv2): StdConv2d(256, 256, kernel_size=(3, 3), stride=(1, 1), padding=(1, 1), bias=False)\n",
              "        (gn3): GroupNorm(32, 256, eps=1e-05, affine=True)\n",
              "        (conv3): StdConv2d(256, 1024, kernel_size=(1, 1), stride=(1, 1), bias=False)\n",
              "        (relu): ReLU(inplace=True)\n",
              "      )\n",
              "      (unit11): PreActBottleneck(\n",
              "        (gn1): GroupNorm(32, 1024, eps=1e-05, affine=True)\n",
              "        (conv1): StdConv2d(1024, 256, kernel_size=(1, 1), stride=(1, 1), bias=False)\n",
              "        (gn2): GroupNorm(32, 256, eps=1e-05, affine=True)\n",
              "        (conv2): StdConv2d(256, 256, kernel_size=(3, 3), stride=(1, 1), padding=(1, 1), bias=False)\n",
              "        (gn3): GroupNorm(32, 256, eps=1e-05, affine=True)\n",
              "        (conv3): StdConv2d(256, 1024, kernel_size=(1, 1), stride=(1, 1), bias=False)\n",
              "        (relu): ReLU(inplace=True)\n",
              "      )\n",
              "      (unit12): PreActBottleneck(\n",
              "        (gn1): GroupNorm(32, 1024, eps=1e-05, affine=True)\n",
              "        (conv1): StdConv2d(1024, 256, kernel_size=(1, 1), stride=(1, 1), bias=False)\n",
              "        (gn2): GroupNorm(32, 256, eps=1e-05, affine=True)\n",
              "        (conv2): StdConv2d(256, 256, kernel_size=(3, 3), stride=(1, 1), padding=(1, 1), bias=False)\n",
              "        (gn3): GroupNorm(32, 256, eps=1e-05, affine=True)\n",
              "        (conv3): StdConv2d(256, 1024, kernel_size=(1, 1), stride=(1, 1), bias=False)\n",
              "        (relu): ReLU(inplace=True)\n",
              "      )\n",
              "      (unit13): PreActBottleneck(\n",
              "        (gn1): GroupNorm(32, 1024, eps=1e-05, affine=True)\n",
              "        (conv1): StdConv2d(1024, 256, kernel_size=(1, 1), stride=(1, 1), bias=False)\n",
              "        (gn2): GroupNorm(32, 256, eps=1e-05, affine=True)\n",
              "        (conv2): StdConv2d(256, 256, kernel_size=(3, 3), stride=(1, 1), padding=(1, 1), bias=False)\n",
              "        (gn3): GroupNorm(32, 256, eps=1e-05, affine=True)\n",
              "        (conv3): StdConv2d(256, 1024, kernel_size=(1, 1), stride=(1, 1), bias=False)\n",
              "        (relu): ReLU(inplace=True)\n",
              "      )\n",
              "      (unit14): PreActBottleneck(\n",
              "        (gn1): GroupNorm(32, 1024, eps=1e-05, affine=True)\n",
              "        (conv1): StdConv2d(1024, 256, kernel_size=(1, 1), stride=(1, 1), bias=False)\n",
              "        (gn2): GroupNorm(32, 256, eps=1e-05, affine=True)\n",
              "        (conv2): StdConv2d(256, 256, kernel_size=(3, 3), stride=(1, 1), padding=(1, 1), bias=False)\n",
              "        (gn3): GroupNorm(32, 256, eps=1e-05, affine=True)\n",
              "        (conv3): StdConv2d(256, 1024, kernel_size=(1, 1), stride=(1, 1), bias=False)\n",
              "        (relu): ReLU(inplace=True)\n",
              "      )\n",
              "      (unit15): PreActBottleneck(\n",
              "        (gn1): GroupNorm(32, 1024, eps=1e-05, affine=True)\n",
              "        (conv1): StdConv2d(1024, 256, kernel_size=(1, 1), stride=(1, 1), bias=False)\n",
              "        (gn2): GroupNorm(32, 256, eps=1e-05, affine=True)\n",
              "        (conv2): StdConv2d(256, 256, kernel_size=(3, 3), stride=(1, 1), padding=(1, 1), bias=False)\n",
              "        (gn3): GroupNorm(32, 256, eps=1e-05, affine=True)\n",
              "        (conv3): StdConv2d(256, 1024, kernel_size=(1, 1), stride=(1, 1), bias=False)\n",
              "        (relu): ReLU(inplace=True)\n",
              "      )\n",
              "      (unit16): PreActBottleneck(\n",
              "        (gn1): GroupNorm(32, 1024, eps=1e-05, affine=True)\n",
              "        (conv1): StdConv2d(1024, 256, kernel_size=(1, 1), stride=(1, 1), bias=False)\n",
              "        (gn2): GroupNorm(32, 256, eps=1e-05, affine=True)\n",
              "        (conv2): StdConv2d(256, 256, kernel_size=(3, 3), stride=(1, 1), padding=(1, 1), bias=False)\n",
              "        (gn3): GroupNorm(32, 256, eps=1e-05, affine=True)\n",
              "        (conv3): StdConv2d(256, 1024, kernel_size=(1, 1), stride=(1, 1), bias=False)\n",
              "        (relu): ReLU(inplace=True)\n",
              "      )\n",
              "      (unit17): PreActBottleneck(\n",
              "        (gn1): GroupNorm(32, 1024, eps=1e-05, affine=True)\n",
              "        (conv1): StdConv2d(1024, 256, kernel_size=(1, 1), stride=(1, 1), bias=False)\n",
              "        (gn2): GroupNorm(32, 256, eps=1e-05, affine=True)\n",
              "        (conv2): StdConv2d(256, 256, kernel_size=(3, 3), stride=(1, 1), padding=(1, 1), bias=False)\n",
              "        (gn3): GroupNorm(32, 256, eps=1e-05, affine=True)\n",
              "        (conv3): StdConv2d(256, 1024, kernel_size=(1, 1), stride=(1, 1), bias=False)\n",
              "        (relu): ReLU(inplace=True)\n",
              "      )\n",
              "      (unit18): PreActBottleneck(\n",
              "        (gn1): GroupNorm(32, 1024, eps=1e-05, affine=True)\n",
              "        (conv1): StdConv2d(1024, 256, kernel_size=(1, 1), stride=(1, 1), bias=False)\n",
              "        (gn2): GroupNorm(32, 256, eps=1e-05, affine=True)\n",
              "        (conv2): StdConv2d(256, 256, kernel_size=(3, 3), stride=(1, 1), padding=(1, 1), bias=False)\n",
              "        (gn3): GroupNorm(32, 256, eps=1e-05, affine=True)\n",
              "        (conv3): StdConv2d(256, 1024, kernel_size=(1, 1), stride=(1, 1), bias=False)\n",
              "        (relu): ReLU(inplace=True)\n",
              "      )\n",
              "      (unit19): PreActBottleneck(\n",
              "        (gn1): GroupNorm(32, 1024, eps=1e-05, affine=True)\n",
              "        (conv1): StdConv2d(1024, 256, kernel_size=(1, 1), stride=(1, 1), bias=False)\n",
              "        (gn2): GroupNorm(32, 256, eps=1e-05, affine=True)\n",
              "        (conv2): StdConv2d(256, 256, kernel_size=(3, 3), stride=(1, 1), padding=(1, 1), bias=False)\n",
              "        (gn3): GroupNorm(32, 256, eps=1e-05, affine=True)\n",
              "        (conv3): StdConv2d(256, 1024, kernel_size=(1, 1), stride=(1, 1), bias=False)\n",
              "        (relu): ReLU(inplace=True)\n",
              "      )\n",
              "      (unit20): PreActBottleneck(\n",
              "        (gn1): GroupNorm(32, 1024, eps=1e-05, affine=True)\n",
              "        (conv1): StdConv2d(1024, 256, kernel_size=(1, 1), stride=(1, 1), bias=False)\n",
              "        (gn2): GroupNorm(32, 256, eps=1e-05, affine=True)\n",
              "        (conv2): StdConv2d(256, 256, kernel_size=(3, 3), stride=(1, 1), padding=(1, 1), bias=False)\n",
              "        (gn3): GroupNorm(32, 256, eps=1e-05, affine=True)\n",
              "        (conv3): StdConv2d(256, 1024, kernel_size=(1, 1), stride=(1, 1), bias=False)\n",
              "        (relu): ReLU(inplace=True)\n",
              "      )\n",
              "      (unit21): PreActBottleneck(\n",
              "        (gn1): GroupNorm(32, 1024, eps=1e-05, affine=True)\n",
              "        (conv1): StdConv2d(1024, 256, kernel_size=(1, 1), stride=(1, 1), bias=False)\n",
              "        (gn2): GroupNorm(32, 256, eps=1e-05, affine=True)\n",
              "        (conv2): StdConv2d(256, 256, kernel_size=(3, 3), stride=(1, 1), padding=(1, 1), bias=False)\n",
              "        (gn3): GroupNorm(32, 256, eps=1e-05, affine=True)\n",
              "        (conv3): StdConv2d(256, 1024, kernel_size=(1, 1), stride=(1, 1), bias=False)\n",
              "        (relu): ReLU(inplace=True)\n",
              "      )\n",
              "      (unit22): PreActBottleneck(\n",
              "        (gn1): GroupNorm(32, 1024, eps=1e-05, affine=True)\n",
              "        (conv1): StdConv2d(1024, 256, kernel_size=(1, 1), stride=(1, 1), bias=False)\n",
              "        (gn2): GroupNorm(32, 256, eps=1e-05, affine=True)\n",
              "        (conv2): StdConv2d(256, 256, kernel_size=(3, 3), stride=(1, 1), padding=(1, 1), bias=False)\n",
              "        (gn3): GroupNorm(32, 256, eps=1e-05, affine=True)\n",
              "        (conv3): StdConv2d(256, 1024, kernel_size=(1, 1), stride=(1, 1), bias=False)\n",
              "        (relu): ReLU(inplace=True)\n",
              "      )\n",
              "      (unit23): PreActBottleneck(\n",
              "        (gn1): GroupNorm(32, 1024, eps=1e-05, affine=True)\n",
              "        (conv1): StdConv2d(1024, 256, kernel_size=(1, 1), stride=(1, 1), bias=False)\n",
              "        (gn2): GroupNorm(32, 256, eps=1e-05, affine=True)\n",
              "        (conv2): StdConv2d(256, 256, kernel_size=(3, 3), stride=(1, 1), padding=(1, 1), bias=False)\n",
              "        (gn3): GroupNorm(32, 256, eps=1e-05, affine=True)\n",
              "        (conv3): StdConv2d(256, 1024, kernel_size=(1, 1), stride=(1, 1), bias=False)\n",
              "        (relu): ReLU(inplace=True)\n",
              "      )\n",
              "    )\n",
              "    (block4): Sequential(\n",
              "      (unit01): PreActBottleneck(\n",
              "        (gn1): GroupNorm(32, 1024, eps=1e-05, affine=True)\n",
              "        (conv1): StdConv2d(1024, 512, kernel_size=(1, 1), stride=(1, 1), bias=False)\n",
              "        (gn2): GroupNorm(32, 512, eps=1e-05, affine=True)\n",
              "        (conv2): StdConv2d(512, 512, kernel_size=(3, 3), stride=(2, 2), padding=(1, 1), bias=False)\n",
              "        (gn3): GroupNorm(32, 512, eps=1e-05, affine=True)\n",
              "        (conv3): StdConv2d(512, 2048, kernel_size=(1, 1), stride=(1, 1), bias=False)\n",
              "        (relu): ReLU(inplace=True)\n",
              "        (downsample): StdConv2d(1024, 2048, kernel_size=(1, 1), stride=(2, 2), bias=False)\n",
              "      )\n",
              "      (unit02): PreActBottleneck(\n",
              "        (gn1): GroupNorm(32, 2048, eps=1e-05, affine=True)\n",
              "        (conv1): StdConv2d(2048, 512, kernel_size=(1, 1), stride=(1, 1), bias=False)\n",
              "        (gn2): GroupNorm(32, 512, eps=1e-05, affine=True)\n",
              "        (conv2): StdConv2d(512, 512, kernel_size=(3, 3), stride=(1, 1), padding=(1, 1), bias=False)\n",
              "        (gn3): GroupNorm(32, 512, eps=1e-05, affine=True)\n",
              "        (conv3): StdConv2d(512, 2048, kernel_size=(1, 1), stride=(1, 1), bias=False)\n",
              "        (relu): ReLU(inplace=True)\n",
              "      )\n",
              "      (unit03): PreActBottleneck(\n",
              "        (gn1): GroupNorm(32, 2048, eps=1e-05, affine=True)\n",
              "        (conv1): StdConv2d(2048, 512, kernel_size=(1, 1), stride=(1, 1), bias=False)\n",
              "        (gn2): GroupNorm(32, 512, eps=1e-05, affine=True)\n",
              "        (conv2): StdConv2d(512, 512, kernel_size=(3, 3), stride=(1, 1), padding=(1, 1), bias=False)\n",
              "        (gn3): GroupNorm(32, 512, eps=1e-05, affine=True)\n",
              "        (conv3): StdConv2d(512, 2048, kernel_size=(1, 1), stride=(1, 1), bias=False)\n",
              "        (relu): ReLU(inplace=True)\n",
              "      )\n",
              "    )\n",
              "  )\n",
              "  (head): Sequential(\n",
              "    (gn): GroupNorm(32, 2048, eps=1e-05, affine=True)\n",
              "    (relu): ReLU(inplace=True)\n",
              "    (avg): AdaptiveAvgPool2d(output_size=1)\n",
              "    (conv): Conv2d(2048, 50, kernel_size=(1, 1), stride=(1, 1))\n",
              "  )\n",
              ")"
            ]
          },
          "metadata": {},
          "execution_count": 20
        }
      ],
      "source": [
        "model.head.conv = nn.Conv2d(2048, 50, kernel_size=(1, 1), stride=(1, 1)).cuda()\n",
        "model = model.cuda()\n",
        "model"
      ]
    },
    {
      "cell_type": "code",
      "execution_count": 21,
      "metadata": {
        "id": "xFpmWKNf2ijx"
      },
      "outputs": [],
      "source": [
        "def eval_cifar10(model, bs=100, progressbar=True):\n",
        "\n",
        "  testset = torch.utils.data.DataLoader(test_dataset, batch_size=bs, shuffle=False, num_workers=4)\n",
        "\n",
        "  model.eval()\n",
        "\n",
        "  if progressbar is True:\n",
        "    progressbar = display(progress(0, len(testset)), display_id=True)\n",
        "\n",
        "  preds = []\n",
        "  with torch.no_grad():\n",
        "    for i, (x, t) in enumerate(testset):\n",
        "      x, t = x.to(device), t.numpy()\n",
        "      logits = model(x)\n",
        "      _, y = torch.max(logits.data, 1)\n",
        "      preds.extend(y.cpu().numpy() == t)\n",
        "      progressbar.update(progress(i+1, len(testset)))\n",
        "\n",
        "  return np.mean(preds)"
      ]
    },
    {
      "cell_type": "code",
      "execution_count": 23,
      "metadata": {
        "colab": {
          "base_uri": "https://localhost:8080/",
          "height": 53
        },
        "id": "y11FkovH2vZK",
        "outputId": "00cd3ffe-ba54-4ce4-faf8-72d51d509367"
      },
      "outputs": [
        {
          "output_type": "display_data",
          "data": {
            "text/plain": [
              "<IPython.core.display.HTML object>"
            ],
            "text/html": [
              "\n",
              "        <progress\n",
              "            value='51'\n",
              "            max='51',\n",
              "            style='width: 100%'\n",
              "        >\n",
              "            51\n",
              "        </progress>\n",
              "    "
            ]
          },
          "metadata": {}
        },
        {
          "output_type": "stream",
          "name": "stdout",
          "text": [
            "Accuracy: 2.36%\n"
          ]
        }
      ],
      "source": [
        "print(f\"Accuracy: {eval_cifar10(model):.2%}\")"
      ]
    },
    {
      "cell_type": "markdown",
      "metadata": {
        "id": "lbKA7-xhUQMr"
      },
      "source": [
        "## Find indices to create a 5-shot CIFAR10 variant"
      ]
    },
    {
      "cell_type": "code",
      "execution_count": 24,
      "metadata": {
        "id": "VRPkGcvTUWAR"
      },
      "outputs": [],
      "source": [
        "preprocess_tiny =  tv.transforms.Compose([\n",
        "    tv.transforms.Resize((160, 160), interpolation=PIL.Image.BILINEAR),  # It's the default, just being explicit for the reader.\n",
        "    tv.transforms.RandomCrop((128, 128)),\n",
        "    tv.transforms.RandomHorizontalFlip(),\n",
        "    tv.transforms.ToTensor(),\n",
        "    tv.transforms.Normalize((0.5, 0.5, 0.5), (0.5, 0.5, 0.5))  # Get data into [-1, 1]\n",
        "])\n",
        "\n",
        "# Create a subset dataset with only 5 samples per class\n",
        "trainset_tiny = tv.datasets.ImageFolder(root=train_tiny_folder, transform=preprocess_tiny)\n",
        "loader = torch.utils.data.DataLoader(trainset_tiny, batch_size=500, shuffle=False, num_workers=4)\n",
        "images, labels = next(iter(loader))"
      ]
    },
    {
      "cell_type": "code",
      "execution_count": 25,
      "metadata": {
        "id": "uQmzrwKJ-Wya"
      },
      "outputs": [],
      "source": [
        "indices = {cls: np.random.choice(np.where(labels.numpy() == cls)[0], 10, replace=False) for cls in range(50)}"
      ]
    },
    {
      "cell_type": "code",
      "execution_count": 26,
      "metadata": {
        "id": "RV2Sbfruzl3i",
        "colab": {
          "base_uri": "https://localhost:8080/"
        },
        "outputId": "9000fbfd-7abe-4054-8f39-45967befcaab"
      },
      "outputs": [
        {
          "output_type": "stream",
          "name": "stdout",
          "text": [
            "torch.Size([500, 3, 128, 128])\n",
            "tensor([ 0,  0,  0,  0,  0,  0,  0,  0,  0,  0,  1,  1,  1,  1,  1,  1,  1,  1,\n",
            "         1,  1,  2,  2,  2,  2,  2,  2,  2,  2,  2,  2,  3,  3,  3,  3,  3,  3,\n",
            "         3,  3,  3,  3,  4,  4,  4,  4,  4,  4,  4,  4,  4,  4,  5,  5,  5,  5,\n",
            "         5,  5,  5,  5,  5,  5,  6,  6,  6,  6,  6,  6,  6,  6,  6,  6,  7,  7,\n",
            "         7,  7,  7,  7,  7,  7,  7,  7,  8,  8,  8,  8,  8,  8,  8,  8,  8,  8,\n",
            "         9,  9,  9,  9,  9,  9,  9,  9,  9,  9, 10, 10, 10, 10, 10, 10, 10, 10,\n",
            "        10, 10, 11, 11, 11, 11, 11, 11, 11, 11, 11, 11, 12, 12, 12, 12, 12, 12,\n",
            "        12, 12, 12, 12, 13, 13, 13, 13, 13, 13, 13, 13, 13, 13, 14, 14, 14, 14,\n",
            "        14, 14, 14, 14, 14, 14, 15, 15, 15, 15, 15, 15, 15, 15, 15, 15, 16, 16,\n",
            "        16, 16, 16, 16, 16, 16, 16, 16, 17, 17, 17, 17, 17, 17, 17, 17, 17, 17,\n",
            "        18, 18, 18, 18, 18, 18, 18, 18, 18, 18, 19, 19, 19, 19, 19, 19, 19, 19,\n",
            "        19, 19, 20, 20, 20, 20, 20, 20, 20, 20, 20, 20, 21, 21, 21, 21, 21, 21,\n",
            "        21, 21, 21, 21, 22, 22, 22, 22, 22, 22, 22, 22, 22, 22, 23, 23, 23, 23,\n",
            "        23, 23, 23, 23, 23, 23, 24, 24, 24, 24, 24, 24, 24, 24, 24, 24, 25, 25,\n",
            "        25, 25, 25, 25, 25, 25, 25, 25, 26, 26, 26, 26, 26, 26, 26, 26, 26, 26,\n",
            "        27, 27, 27, 27, 27, 27, 27, 27, 27, 27, 28, 28, 28, 28, 28, 28, 28, 28,\n",
            "        28, 28, 29, 29, 29, 29, 29, 29, 29, 29, 29, 29, 30, 30, 30, 30, 30, 30,\n",
            "        30, 30, 30, 30, 31, 31, 31, 31, 31, 31, 31, 31, 31, 31, 32, 32, 32, 32,\n",
            "        32, 32, 32, 32, 32, 32, 33, 33, 33, 33, 33, 33, 33, 33, 33, 33, 34, 34,\n",
            "        34, 34, 34, 34, 34, 34, 34, 34, 35, 35, 35, 35, 35, 35, 35, 35, 35, 35,\n",
            "        36, 36, 36, 36, 36, 36, 36, 36, 36, 36, 37, 37, 37, 37, 37, 37, 37, 37,\n",
            "        37, 37, 38, 38, 38, 38, 38, 38, 38, 38, 38, 38, 39, 39, 39, 39, 39, 39,\n",
            "        39, 39, 39, 39, 40, 40, 40, 40, 40, 40, 40, 40, 40, 40, 41, 41, 41, 41,\n",
            "        41, 41, 41, 41, 41, 41, 42, 42, 42, 42, 42, 42, 42, 42, 42, 42, 43, 43,\n",
            "        43, 43, 43, 43, 43, 43, 43, 43, 44, 44, 44, 44, 44, 44, 44, 44, 44, 44,\n",
            "        45, 45, 45, 45, 45, 45, 45, 45, 45, 45, 46, 46, 46, 46, 46, 46, 46, 46,\n",
            "        46, 46, 47, 47, 47, 47, 47, 47, 47, 47, 47, 47, 48, 48, 48, 48, 48, 48,\n",
            "        48, 48, 48, 48, 49, 49, 49, 49, 49, 49, 49, 49, 49, 49])\n"
          ]
        }
      ],
      "source": [
        "print(images.shape)\n",
        "print(labels)"
      ]
    },
    {
      "cell_type": "code",
      "execution_count": 27,
      "metadata": {
        "id": "Vnq22Qy0jmBR",
        "colab": {
          "base_uri": "https://localhost:8080/"
        },
        "outputId": "20626615-6bbc-4584-ca5e-690a13732682"
      },
      "outputs": [
        {
          "output_type": "stream",
          "name": "stdout",
          "text": [
            "{0: array([0, 2, 9, 7, 6, 8, 5, 4, 3, 1]), 1: array([16, 14, 11, 13, 19, 15, 17, 10, 12, 18]), 2: array([20, 26, 28, 25, 23, 27, 24, 21, 22, 29]), 3: array([34, 36, 31, 39, 38, 37, 33, 35, 30, 32]), 4: array([42, 40, 48, 45, 49, 47, 44, 46, 43, 41]), 5: array([50, 57, 58, 51, 52, 53, 54, 55, 56, 59]), 6: array([61, 68, 66, 62, 65, 67, 60, 63, 64, 69]), 7: array([70, 76, 73, 71, 72, 79, 78, 74, 77, 75]), 8: array([89, 81, 83, 85, 86, 87, 80, 88, 84, 82]), 9: array([95, 99, 96, 93, 97, 90, 94, 92, 91, 98]), 10: array([106, 100, 109, 107, 103, 102, 105, 104, 101, 108]), 11: array([117, 112, 111, 118, 115, 116, 113, 110, 119, 114]), 12: array([128, 121, 125, 122, 120, 123, 127, 126, 129, 124]), 13: array([136, 132, 139, 137, 135, 131, 138, 133, 130, 134]), 14: array([145, 143, 149, 141, 146, 140, 142, 144, 147, 148]), 15: array([159, 156, 157, 151, 154, 150, 155, 158, 153, 152]), 16: array([169, 165, 164, 166, 160, 162, 161, 168, 167, 163]), 17: array([174, 171, 175, 178, 179, 170, 172, 173, 177, 176]), 18: array([189, 187, 182, 184, 185, 180, 188, 186, 181, 183]), 19: array([194, 195, 192, 191, 196, 197, 190, 198, 193, 199]), 20: array([200, 204, 205, 209, 206, 208, 202, 201, 203, 207]), 21: array([219, 211, 215, 217, 214, 218, 216, 210, 212, 213]), 22: array([229, 222, 225, 221, 220, 226, 227, 228, 223, 224]), 23: array([238, 230, 235, 239, 232, 237, 236, 231, 233, 234]), 24: array([247, 246, 244, 248, 245, 243, 242, 249, 241, 240]), 25: array([253, 254, 250, 256, 257, 251, 255, 252, 259, 258]), 26: array([269, 263, 260, 267, 265, 266, 264, 262, 268, 261]), 27: array([279, 273, 270, 278, 277, 276, 271, 275, 272, 274]), 28: array([288, 289, 287, 286, 285, 281, 282, 283, 280, 284]), 29: array([296, 293, 297, 294, 298, 292, 299, 291, 295, 290]), 30: array([300, 301, 303, 307, 302, 304, 305, 309, 306, 308]), 31: array([316, 312, 317, 315, 313, 318, 311, 314, 319, 310]), 32: array([325, 323, 321, 326, 328, 329, 324, 320, 327, 322]), 33: array([333, 336, 335, 330, 339, 337, 332, 334, 338, 331]), 34: array([343, 348, 347, 345, 341, 346, 344, 342, 340, 349]), 35: array([359, 351, 350, 356, 353, 358, 357, 354, 355, 352]), 36: array([369, 364, 368, 362, 365, 360, 367, 366, 363, 361]), 37: array([379, 375, 372, 378, 377, 374, 373, 376, 371, 370]), 38: array([388, 387, 385, 389, 386, 384, 383, 380, 381, 382]), 39: array([397, 399, 393, 394, 398, 396, 395, 392, 390, 391]), 40: array([408, 402, 403, 407, 404, 406, 409, 401, 400, 405]), 41: array([414, 410, 417, 411, 418, 413, 412, 419, 416, 415]), 42: array([426, 424, 425, 421, 427, 428, 429, 422, 423, 420]), 43: array([439, 436, 434, 430, 437, 433, 438, 435, 431, 432]), 44: array([447, 448, 440, 449, 443, 441, 445, 442, 446, 444]), 45: array([458, 451, 459, 455, 450, 457, 453, 456, 454, 452]), 46: array([465, 469, 467, 466, 464, 461, 463, 468, 460, 462]), 47: array([479, 470, 476, 478, 473, 475, 477, 472, 474, 471]), 48: array([481, 487, 480, 486, 485, 484, 482, 483, 489, 488]), 49: array([499, 493, 491, 494, 490, 495, 498, 492, 497, 496])}\n"
          ]
        }
      ],
      "source": [
        "# 각 클래스당 오직 5개의 이미지만 선택된 것을 확인할 수 있음\n",
        "print(indices)"
      ]
    },
    {
      "cell_type": "code",
      "execution_count": 28,
      "metadata": {
        "id": "g9Gn5a_NWV4k"
      },
      "outputs": [],
      "source": [
        "# fig = plt.figure(figsize=(20, 8))\n",
        "# ig = ImageGrid(fig, 111, (5, 50))\n",
        "# for c, cls in enumerate(indices):\n",
        "#   for r, i in enumerate(indices[cls]):\n",
        "#     img, _ = trainset_tiny[i]\n",
        "#     ax = ig.axes_column[c][r]\n",
        "#     ax.imshow((img.numpy().transpose([1, 2, 0]) * 127.5 + 127.5).astype(np.uint8))\n",
        "#     ax.set_axis_off()\n",
        "# fig.suptitle('The whole 5-shot KoIn dataset')"
      ]
    },
    {
      "cell_type": "code",
      "execution_count": 29,
      "metadata": {
        "id": "Vvu5XXCQY88M",
        "colab": {
          "base_uri": "https://localhost:8080/"
        },
        "outputId": "0c319285-6703-4fe3-f389-d88cbbe6b0fb"
      },
      "outputs": [
        {
          "output_type": "execute_result",
          "data": {
            "text/plain": [
              "500"
            ]
          },
          "metadata": {},
          "execution_count": 29
        }
      ],
      "source": [
        "# 전체 이미지 개수가 고작 50개인 걸 확인할 수 있음\n",
        "train_5shot = torch.utils.data.Subset(trainset_tiny, indices=[i for v in indices.values() for i in v])\n",
        "len(train_5shot)"
      ]
    },
    {
      "cell_type": "markdown",
      "metadata": {
        "id": "JMrZ1sZyUVcU"
      },
      "source": [
        "# Fine-tune BiT-M on this 5-shot CIFAR10 variant"
      ]
    },
    {
      "cell_type": "markdown",
      "metadata": {
        "id": "2qCZ4SiBfV32"
      },
      "source": [
        "**NOTE**: In this very low data regime, the performance heavily depends on how \"representative\" the 5 examples you got are of the class. As shown in the paper, variance is very large, I'm getting anywhere between 78%-85% depending on luck.\n",
        "\n",
        "Another point is that here I use `batch_size=512` for consistency with the paper. But actually, a much smaller `batch_size=50` works just as well and is about 10x faster!"
      ]
    },
    {
      "cell_type": "code",
      "execution_count": 30,
      "metadata": {
        "id": "faASYtOkYMrn"
      },
      "outputs": [],
      "source": [
        "# 본 논문에서는 batch size를 크게 설정할 때 조금 더 성능이 좋았다고 주장\n",
        "# 그래서 고작 50개의 이미지로 학습을 하지만, batch size는 256으로 설정\n",
        "\n",
        "# Yes, we still use 512 batch-size! Maybe something else is even better, who knows.\n",
        "# loader_train = torch.utils.data.DataLoader(train_5shot, batch_size=512, shuffle=True, num_workers=2)\n",
        "\n",
        "# NOTE: This is necessary when the batch-size is larger than the dataset.\n",
        "sampler = torch.utils.data.RandomSampler(train_5shot, replacement=True, num_samples=256)\n",
        "loader_train = torch.utils.data.DataLoader(train_5shot, batch_size=256, num_workers=2, sampler=sampler)"
      ]
    },
    {
      "cell_type": "code",
      "execution_count": 31,
      "metadata": {
        "id": "rqLUFicBVcu2"
      },
      "outputs": [],
      "source": [
        "# 보통 fine-tuning할 때 learning rate은 거의 마지막 step 수준으로 작게 설정\n",
        "# 말 그대로 \"미세 조정\"이니까요.\n",
        "\n",
        "# 지금 코드 상으로는 CIFAR-10에 대하여 batch-size 256으로 설정해서\n",
        "# 총 500 steps로 학습을 진행 => 256 * 500 => 총 10만 번의 \"이미지 보기\"를 수행하는 거죠.\n",
        "# 전체 데이터가 원래 50,000장인 걸 생각하면, 사실상 2 epochs도 안 되는 수준.\n",
        "# 아주 빠르게, pre-trained 모델을 이용해서 높은 성능을 달성. => transfer learning의 장점\n",
        "# 현업에서도 매우 많이 활용\n",
        "\n",
        "crit = nn.CrossEntropyLoss()\n",
        "opti = torch.optim.SGD(model.parameters(), lr=0.003, momentum=0.9)\n",
        "model.train();"
      ]
    },
    {
      "cell_type": "code",
      "execution_count": 32,
      "metadata": {
        "id": "RVmFu5m1eJa7",
        "colab": {
          "base_uri": "https://localhost:8080/",
          "height": 88
        },
        "outputId": "835df897-799f-4415-e806-b4af1629db6f"
      },
      "outputs": [
        {
          "output_type": "display_data",
          "data": {
            "text/plain": [
              "<IPython.core.display.HTML object>"
            ],
            "text/html": [
              "\n",
              "        <progress\n",
              "            value='499'\n",
              "            max='500',\n",
              "            style='width: 100%'\n",
              "        >\n",
              "            499\n",
              "        </progress>\n",
              "    "
            ]
          },
          "metadata": {}
        },
        {
          "output_type": "display_data",
          "data": {
            "text/plain": [
              "<IPython.core.display.HTML object>"
            ],
            "text/html": [
              "\n",
              "        <progress\n",
              "            value='51'\n",
              "            max='51',\n",
              "            style='width: 100%'\n",
              "        >\n",
              "            51\n",
              "        </progress>\n",
              "    "
            ]
          },
          "metadata": {}
        },
        {
          "output_type": "stream",
          "name": "stdout",
          "text": [
            "[Step 499] loss=2.42e-03 train accu=100.00% test accu=13.57% (lr=3e-06)\n",
            "Best Test Accuracy: 13.59%, Epoch: 12\n"
          ]
        }
      ],
      "source": [
        "S = 500\n",
        "def schedule(s):\n",
        "  # learning rate은 0.003 → 0.0003 → 0.00003 → 0.000003\n",
        "  # 최종적으로 500번의 step을 수행함에 따라서, 100 단위로 learning rate을 10배씩 줄여나감\n",
        "  step_lr = stairs(s, 3e-3, 200, 3e-4, 300, 3e-5, 400, 3e-6, S, None)\n",
        "  # ramp-up: 특정 learning rate이 될 때까지는 오히려 learning rate을 증가시켜나가는 거\n",
        "  # 지금 코드 상으로는 100 steps까지는 0에서 0.003으로 올려줬다가, 100 steps 단위로 10배씩 줄여나감\n",
        "  return rampup(s, 100, step_lr)\n",
        "\n",
        "pb_train = display(progress(0, S), display_id=True)\n",
        "pb_test = display(progress(0, 100), display_id=True)\n",
        "losses = [[]]\n",
        "accus_train = [[]]\n",
        "accus_test = []\n",
        "\n",
        "steps_per_iter = 512 // loader_train.batch_size\n",
        "\n",
        "# Define a variable to keep track of the highest test accuracy and the corresponding epoch\n",
        "best_test_accuracy = 0.0\n",
        "best_epoch = 0\n",
        "\n",
        "while len(losses) < S:\n",
        "  for x, t in loader_train:\n",
        "    x, t = x.to(device), t.to(device)\n",
        "\n",
        "    logits = model(x)\n",
        "    loss = crit(logits, t) / steps_per_iter\n",
        "    loss.backward()\n",
        "    losses[-1].append(loss.item())\n",
        "\n",
        "    with torch.no_grad():\n",
        "      accus_train[-1].extend(torch.max(logits, dim=1)[1].cpu().numpy() == t.cpu().numpy())\n",
        "\n",
        "    if len(losses[-1]) == steps_per_iter:\n",
        "            losses[-1] = sum(losses[-1])\n",
        "            losses.append([])\n",
        "            accus_train[-1] = np.mean(accus_train[-1])\n",
        "            accus_train.append([])\n",
        "\n",
        "            # Update learning-rate according to schedule, and stop if necessary\n",
        "            lr = schedule(len(losses) - 1)\n",
        "            for param_group in opti.param_groups:\n",
        "                param_group['lr'] = lr\n",
        "\n",
        "            opti.step()\n",
        "            opti.zero_grad()\n",
        "\n",
        "            pb_train.update(progress(len(losses) - 1, S))\n",
        "            print(f'\\r[Step {len(losses) - 1}] loss={losses[-2]:.2e} '\n",
        "                  f'train accu={accus_train[-2]:.2%} '\n",
        "                  f'test accu={accus_test[-1] if accus_test else 0:.2%} '\n",
        "                  f'(lr={lr:g})', end='', flush=True)\n",
        "\n",
        "            if len(losses) % 25 == 0:\n",
        "                test_accuracy = eval_cifar10(model, progressbar=pb_test)\n",
        "                accus_test.append(test_accuracy)\n",
        "                model.train()\n",
        "\n",
        "                # Check if this epoch's test accuracy is the best so far\n",
        "                if test_accuracy > best_test_accuracy:\n",
        "                    best_test_accuracy = test_accuracy\n",
        "                    best_epoch = len(losses) // 25  # Calculate the epoch based on the step count\n",
        "\n",
        "                    # Save the model's state dictionary\n",
        "                    torch.save(model.state_dict(), f'BiT_m_r101_cls_10_best_epoch.pth')\n",
        "\n",
        "# Print the best test accuracy and the corresponding epoch\n",
        "print(f'\\nBest Test Accuracy: {best_test_accuracy:.2%}, Epoch: {best_epoch}')"
      ]
    },
    {
      "cell_type": "code",
      "execution_count": 33,
      "metadata": {
        "id": "TZQBHq1Gh1ty",
        "colab": {
          "base_uri": "https://localhost:8080/",
          "height": 390
        },
        "outputId": "a74e527e-e319-4c9d-c634-95c0702519b2"
      },
      "outputs": [
        {
          "output_type": "display_data",
          "data": {
            "text/plain": [
              "<Figure size 1500x400 with 3 Axes>"
            ],
            "image/png": "[encoded data removed]"
          },
          "metadata": {
            "image/png": {
              "width": 1224,
              "height": 373
            }
          }
        }
      ],
      "source": [
        "fig, (ax1, ax2, ax3) = plt.subplots(1, 3, figsize=(15, 4))\n",
        "ax1.plot(losses[:-1])\n",
        "ax1.set_yscale('log')\n",
        "ax1.set_title('loss')\n",
        "ax2.plot(accus_train[:-1])\n",
        "ax2.set_title('training accuracy')\n",
        "ax3.plot(np.arange(25, 501, 25), accus_test)\n",
        "ax3.set_title('test accuracy');"
      ]
    }
  ],
  "metadata": {
    "accelerator": "GPU",
    "colab": {
      "machine_shape": "hm",
      "provenance": [],
      "gpuType": "T4"
    },
    "kernelspec": {
      "display_name": "Python 3",
      "name": "python3"
    }
  },
  "nbformat": 4,
  "nbformat_minor": 0
}