{
  "cells": [
    {
      "cell_type": "markdown",
      "metadata": {
        "id": "sXhZm0kpPpH6"
      },
      "source": [
        "##### Copyright 2020 Google LLC."
      ]
    },
    {
      "cell_type": "code",
      "execution_count": null,
      "metadata": {
        "cellView": "form",
        "id": "KfmzfvFxPuk7"
      },
      "outputs": [],
      "source": [
        "#@title Licensed under the Apache License, Version 2.0 (the \"License\");\n",
        "# Licensed under the Apache License, Version 2.0 (the \"License\");\n",
        "# you may not use this file except in compliance with the License.\n",
        "# You may obtain a copy of the License at\n",
        "#\n",
        "# https://www.apache.org/licenses/LICENSE-2.0\n",
        "#\n",
        "# Unless required by applicable law or agreed to in writing, software\n",
        "# distributed under the License is distributed on an \"AS IS\" BASIS,\n",
        "# WITHOUT WARRANTIES OR CONDITIONS OF ANY KIND, either express or implied.\n",
        "# See the License for the specific language governing permissions and\n",
        "# limitations under the License."
      ]
    },
    {
      "cell_type": "markdown",
      "metadata": {
        "id": "iOVCm4CnP1Do"
      },
      "source": [
        "<a href=\"https://colab.research.google.com/github/google-research/big_transfer/blob/master/colabs/big_transfer_pytorch.ipynb\" target=\"_parent\"><img src=\"https://colab.research.google.com/assets/colab-badge.svg\" alt=\"Open In Colab\"/></a>"
      ]
    },
    {
      "cell_type": "markdown",
      "metadata": {
        "id": "HlyBC_2SNzEH"
      },
      "source": [
        "# BigTransfer (BiT): A step-by-step tutorial for state-of-the-art vision\n",
        "\n",
        "This colab demonstrates how to:\n",
        "1. Load BiT models in PyTorch\n",
        "2. Make predictions using BiT pre-trained on ImageNet\n",
        "3. Fine-tune BiT on 5-shot CIFAR10 and get amazing results!\n",
        "\n",
        "It is good to get an understanding or quickly try things. However, to run longer training runs, we recommend using the commandline scripts at http://github.com/google-research/big_transfer"
      ]
    },
    {
      "cell_type": "code",
      "execution_count": 1,
      "metadata": {
        "colab": {
          "base_uri": "https://localhost:8080/"
        },
        "id": "sCcQBon0YyOu",
        "outputId": "377d21e5-0f7b-4087-fee8-eec713749b93"
      },
      "outputs": [
        {
          "output_type": "stream",
          "name": "stdout",
          "text": [
            "Mounted at /content/drive\n"
          ]
        }
      ],
      "source": [
        "from google.colab import drive\n",
        "drive.mount('/content/drive')"
      ]
    },
    {
      "cell_type": "code",
      "execution_count": 2,
      "metadata": {
        "id": "m_pYOW__egIS"
      },
      "outputs": [],
      "source": [
        "# BiT는 기본적으로 세 가지 데이터 세트에 대하여 ResNet 기반의 모델로 학습을 진행\n",
        "# 1) Small dataset: ImageNet-1k (약 100만 개)\n",
        "# 2) Medium dataset: ImageNet 원본 (약 2100만 개)\n",
        "# 3) Large dataset: 억 단위 이미지 데이터 세트\n",
        "\n",
        "# Large로 학습한 뒤에 ImageNet-1k로 Fine-tuning하면 거의 88% 얻음\n",
        "# 참고로 그냥 small dataest으로만 학습하면 80% 정도 성능 얻음"
      ]
    },
    {
      "cell_type": "code",
      "execution_count": 3,
      "metadata": {
        "id": "2MCUeLqhqh6d"
      },
      "outputs": [],
      "source": [
        "from functools import partial\n",
        "from collections import OrderedDict"
      ]
    },
    {
      "cell_type": "code",
      "execution_count": 4,
      "metadata": {
        "id": "fg2boM5BfvpF"
      },
      "outputs": [],
      "source": [
        "%config InlineBackend.figure_format = 'retina'\n",
        "\n",
        "import numpy as np\n",
        "import seaborn as sn\n",
        "import pandas as pd\n",
        "\n",
        "import matplotlib.pyplot as plt\n",
        "from mpl_toolkits.axes_grid1 import ImageGrid"
      ]
    },
    {
      "cell_type": "code",
      "execution_count": 5,
      "metadata": {
        "id": "FKYlZVpGo9jZ"
      },
      "outputs": [],
      "source": [
        "import torchvision.models as models\n",
        "import torch\n",
        "import torch.nn as nn\n",
        "import torch.nn.functional as F\n",
        "from torch.autograd import Variable\n",
        "\n",
        "import torchvision as tv\n",
        "from torch.utils.data import DataLoader\n",
        "import torch.optim as optim\n"
      ]
    },
    {
      "cell_type": "code",
      "execution_count": 6,
      "metadata": {
        "colab": {
          "base_uri": "https://localhost:8080/"
        },
        "id": "gW-XMhiVi0nh",
        "outputId": "cfd671b4-7359-43d3-ad25-5b4571d3d7fd"
      },
      "outputs": [
        {
          "output_type": "stream",
          "name": "stdout",
          "text": [
            "cuda:0\n"
          ]
        }
      ],
      "source": [
        "device = torch.device(\"cuda:0\" if torch.cuda.is_available() else \"cpu\")\n",
        "print(device)"
      ]
    },
    {
      "cell_type": "markdown",
      "metadata": {
        "id": "C_lOBZYwy1SW"
      },
      "source": [
        "# Reading weight data from the Cloud bucket"
      ]
    },
    {
      "cell_type": "code",
      "execution_count": 7,
      "metadata": {
        "id": "sg5HNzLyzubz"
      },
      "outputs": [],
      "source": [
        "import requests\n",
        "import io"
      ]
    },
    {
      "cell_type": "code",
      "execution_count": 8,
      "metadata": {
        "id": "xC6YhfLb1ZGE"
      },
      "outputs": [],
      "source": [
        "def get_weights(bit_variant):\n",
        "  response = requests.get(f'https://storage.googleapis.com/bit_models/{bit_variant}.npz')\n",
        "  response.raise_for_status()\n",
        "  return np.load(io.BytesIO(response.content))"
      ]
    },
    {
      "cell_type": "code",
      "execution_count": 9,
      "metadata": {
        "id": "Exuy13Igwa_X"
      },
      "outputs": [],
      "source": [
        "weights = get_weights('BiT-M-R50x1')  # You could use other variants, such as R101x3 or R152x4 here, but it is not advisable in a colab."
      ]
    },
    {
      "cell_type": "markdown",
      "metadata": {
        "id": "mWzT0g8x6feo"
      },
      "source": [
        "# Defining the architecture and loading weights"
      ]
    },
    {
      "cell_type": "code",
      "execution_count": 10,
      "metadata": {
        "id": "y00wwFQvrwsX"
      },
      "outputs": [],
      "source": [
        "class StdConv2d(nn.Conv2d):\n",
        "  def forward(self, x):\n",
        "    w = self.weight\n",
        "    v, m = torch.var_mean(w, dim=[1, 2, 3], keepdim=True, unbiased=False)\n",
        "    w = (w - m) / torch.sqrt(v + 1e-10)\n",
        "    return F.conv2d(x, w, self.bias, self.stride, self.padding, self.dilation, self.groups)"
      ]
    },
    {
      "cell_type": "code",
      "execution_count": 11,
      "metadata": {
        "id": "lgXeQXKVpPqV"
      },
      "outputs": [],
      "source": [
        "def conv3x3(cin, cout, stride=1, groups=1, bias=False):\n",
        "  return StdConv2d(cin, cout, kernel_size=3, stride=stride, padding=1, bias=bias, groups=groups)\n",
        "\n",
        "def conv1x1(cin, cout, stride=1, bias=False):\n",
        "  return StdConv2d(cin, cout, kernel_size=1, stride=stride, padding=0, bias=bias)"
      ]
    },
    {
      "cell_type": "code",
      "execution_count": 12,
      "metadata": {
        "id": "f4yzODhR6U6p"
      },
      "outputs": [],
      "source": [
        "def tf2th(conv_weights):\n",
        "  \"\"\"Possibly convert HWIO to OIHW\"\"\"\n",
        "  if conv_weights.ndim == 4:\n",
        "    conv_weights = np.transpose(conv_weights, [3, 2, 0, 1])\n",
        "  return torch.from_numpy(conv_weights)"
      ]
    },
    {
      "cell_type": "code",
      "execution_count": 13,
      "metadata": {
        "id": "tNq34tmsqgXG"
      },
      "outputs": [],
      "source": [
        "class PreActBottleneck(nn.Module):\n",
        "  \"\"\"\n",
        "  Follows the implementation of \"Identity Mappings in Deep Residual Networks\" here:\n",
        "  https://github.com/KaimingHe/resnet-1k-layers/blob/master/resnet-pre-act.lua\n",
        "\n",
        "  Except it puts the stride on 3x3 conv when available.\n",
        "  \"\"\"\n",
        "  def __init__(self, cin, cout=None, cmid=None, stride=1):\n",
        "    super().__init__()\n",
        "    cout = cout or cin\n",
        "    cmid = cmid or cout//4\n",
        "\n",
        "    self.gn1 = nn.GroupNorm(32, cin)\n",
        "    self.conv1 = conv1x1(cin, cmid)\n",
        "    self.gn2 = nn.GroupNorm(32, cmid)\n",
        "    self.conv2 = conv3x3(cmid, cmid, stride)  # Original ResNetv2 has it on conv1!!\n",
        "    self.gn3 = nn.GroupNorm(32, cmid)\n",
        "    self.conv3 = conv1x1(cmid, cout)\n",
        "    self.relu = nn.ReLU(inplace=True)\n",
        "\n",
        "    if (stride != 1 or cin != cout):\n",
        "      # Projection also with pre-activation according to paper.\n",
        "      self.downsample = conv1x1(cin, cout, stride)\n",
        "\n",
        "  def forward(self, x):\n",
        "      # Conv'ed branch\n",
        "      out = self.relu(self.gn1(x))\n",
        "\n",
        "      # Residual branch\n",
        "      residual = x\n",
        "      if hasattr(self, 'downsample'):\n",
        "          residual = self.downsample(out)\n",
        "\n",
        "      # The first block has already applied pre-act before splitting, see Appendix.\n",
        "      out = self.conv1(out)\n",
        "      out = self.conv2(self.relu(self.gn2(out)))\n",
        "      out = self.conv3(self.relu(self.gn3(out)))\n",
        "\n",
        "      return out + residual\n",
        "\n",
        "  def load_from(self, weights, prefix=''):\n",
        "    with torch.no_grad():\n",
        "      self.conv1.weight.copy_(tf2th(weights[prefix + 'a/standardized_conv2d/kernel']))\n",
        "      self.conv2.weight.copy_(tf2th(weights[prefix + 'b/standardized_conv2d/kernel']))\n",
        "      self.conv3.weight.copy_(tf2th(weights[prefix + 'c/standardized_conv2d/kernel']))\n",
        "      self.gn1.weight.copy_(tf2th(weights[prefix + 'a/group_norm/gamma']))\n",
        "      self.gn2.weight.copy_(tf2th(weights[prefix + 'b/group_norm/gamma']))\n",
        "      self.gn3.weight.copy_(tf2th(weights[prefix + 'c/group_norm/gamma']))\n",
        "      self.gn1.bias.copy_(tf2th(weights[prefix + 'a/group_norm/beta']))\n",
        "      self.gn2.bias.copy_(tf2th(weights[prefix + 'b/group_norm/beta']))\n",
        "      self.gn3.bias.copy_(tf2th(weights[prefix + 'c/group_norm/beta']))\n",
        "      if hasattr(self, 'downsample'):\n",
        "        self.downsample.weight.copy_(tf2th(weights[prefix + 'a/proj/standardized_conv2d/kernel']))\n",
        "    return self"
      ]
    },
    {
      "cell_type": "code",
      "execution_count": 14,
      "metadata": {
        "id": "6fGKjfXm60pY"
      },
      "outputs": [],
      "source": [
        "class ResNetV2(nn.Module):\n",
        "  BLOCK_UNITS = {\n",
        "      'r50': [3, 4, 6, 3],\n",
        "      'r101': [3, 4, 23, 3],\n",
        "      'r152': [3, 8, 36, 3],\n",
        "  }\n",
        "\n",
        "  def __init__(self, block_units, width_factor, head_size=21843, zero_head=False):\n",
        "    super().__init__()\n",
        "    wf = width_factor  # shortcut 'cause we'll use it a lot.\n",
        "\n",
        "    self.root = nn.Sequential(OrderedDict([\n",
        "        ('conv', StdConv2d(3, 64*wf, kernel_size=7, stride=2, padding=3, bias=False)),\n",
        "        ('padp', nn.ConstantPad2d(1, 0)),\n",
        "        ('pool', nn.MaxPool2d(kernel_size=3, stride=2, padding=0)),\n",
        "        # The following is subtly not the same!\n",
        "        #('pool', nn.MaxPool2d(kernel_size=3, stride=2, padding=1)),\n",
        "    ]))\n",
        "\n",
        "    self.body = nn.Sequential(OrderedDict([\n",
        "        ('block1', nn.Sequential(OrderedDict(\n",
        "            [('unit01', PreActBottleneck(cin= 64*wf, cout=256*wf, cmid=64*wf))] +\n",
        "            [(f'unit{i:02d}', PreActBottleneck(cin=256*wf, cout=256*wf, cmid=64*wf)) for i in range(2, block_units[0] + 1)],\n",
        "        ))),\n",
        "        ('block2', nn.Sequential(OrderedDict(\n",
        "            [('unit01', PreActBottleneck(cin=256*wf, cout=512*wf, cmid=128*wf, stride=2))] +\n",
        "            [(f'unit{i:02d}', PreActBottleneck(cin=512*wf, cout=512*wf, cmid=128*wf)) for i in range(2, block_units[1] + 1)],\n",
        "        ))),\n",
        "        ('block3', nn.Sequential(OrderedDict(\n",
        "            [('unit01', PreActBottleneck(cin= 512*wf, cout=1024*wf, cmid=256*wf, stride=2))] +\n",
        "            [(f'unit{i:02d}', PreActBottleneck(cin=1024*wf, cout=1024*wf, cmid=256*wf)) for i in range(2, block_units[2] + 1)],\n",
        "        ))),\n",
        "        ('block4', nn.Sequential(OrderedDict(\n",
        "            [('unit01', PreActBottleneck(cin=1024*wf, cout=2048*wf, cmid=512*wf, stride=2))] +\n",
        "            [(f'unit{i:02d}', PreActBottleneck(cin=2048*wf, cout=2048*wf, cmid=512*wf)) for i in range(2, block_units[3] + 1)],\n",
        "        ))),\n",
        "    ]))\n",
        "\n",
        "    self.zero_head = zero_head\n",
        "    self.head = nn.Sequential(OrderedDict([\n",
        "        ('gn', nn.GroupNorm(32, 2048*wf)),\n",
        "        ('relu', nn.ReLU(inplace=True)),\n",
        "        ('avg', nn.AdaptiveAvgPool2d(output_size=1)),\n",
        "        ('conv', nn.Conv2d(2048*wf, head_size, kernel_size=1, bias=True)),\n",
        "    ]))\n",
        "\n",
        "  def forward(self, x):\n",
        "    x = self.head(self.body(self.root(x)))\n",
        "    assert x.shape[-2:] == (1, 1)  # We should have no spatial shape left.\n",
        "    return x[...,0,0]\n",
        "\n",
        "  def load_from(self, weights, prefix='resnet/'):\n",
        "    with torch.no_grad():\n",
        "      self.root.conv.weight.copy_(tf2th(weights[f'{prefix}root_block/standardized_conv2d/kernel']))\n",
        "      self.head.gn.weight.copy_(tf2th(weights[f'{prefix}group_norm/gamma']))\n",
        "      self.head.gn.bias.copy_(tf2th(weights[f'{prefix}group_norm/beta']))\n",
        "      if self.zero_head:\n",
        "        nn.init.zeros_(self.head.conv.weight)\n",
        "        nn.init.zeros_(self.head.conv.bias)\n",
        "      else:\n",
        "        self.head.conv.weight.copy_(tf2th(weights[f'{prefix}head/conv2d/kernel']))\n",
        "        self.head.conv.bias.copy_(tf2th(weights[f'{prefix}head/conv2d/bias']))\n",
        "\n",
        "      for bname, block in self.body.named_children():\n",
        "        for uname, unit in block.named_children():\n",
        "          unit.load_from(weights, prefix=f'{prefix}{bname}/{uname}/')\n",
        "    return self"
      ]
    },
    {
      "cell_type": "markdown",
      "metadata": {
        "id": "zDMzHsUFsmRu"
      },
      "source": [
        "# Boilerplate"
      ]
    },
    {
      "cell_type": "code",
      "execution_count": 15,
      "metadata": {
        "id": "yk7RAE3bsntF"
      },
      "outputs": [],
      "source": [
        "from IPython.display import HTML, display\n",
        "\n",
        "def progress(value, max=100):\n",
        "    return HTML(\"\"\"\n",
        "        <progress\n",
        "            value='{value}'\n",
        "            max='{max}',\n",
        "            style='width: 100%'\n",
        "        >\n",
        "            {value}\n",
        "        </progress>\n",
        "    \"\"\".format(value=value, max=max))"
      ]
    },
    {
      "cell_type": "code",
      "execution_count": 16,
      "metadata": {
        "id": "6wSnf5r8V4-T"
      },
      "outputs": [],
      "source": [
        "def stairs(s, v, *svs):\n",
        "    \"\"\" Implements a typical \"stairs\" schedule for learning-rates.\n",
        "    Best explained by example:\n",
        "    stairs(s, 0.1, 10, 0.01, 20, 0.001)\n",
        "    will return 0.1 if s<10, 0.01 if 10<=s<20, and 0.001 if 20<=s\n",
        "    \"\"\"\n",
        "    for s0, v0 in zip(svs[::2], svs[1::2]):\n",
        "        if s < s0:\n",
        "            break\n",
        "        v = v0\n",
        "    return v\n",
        "\n",
        "def rampup(s, peak_s, peak_lr):\n",
        "  if s < peak_s:  # Warmup\n",
        "    return s/peak_s * peak_lr\n",
        "  else:\n",
        "    return peak_lr\n",
        "\n",
        "def schedule(s):\n",
        "  step_lr = stairs(s, 3e-3, 200, 3e-4, 300, 3e-5, 400, 3e-6, 500, None)\n",
        "  return rampup(s, 100, step_lr)"
      ]
    },
    {
      "cell_type": "markdown",
      "metadata": {
        "id": "M3Cad5gsWeAC"
      },
      "source": [
        "# CIFAR-10 Example"
      ]
    },
    {
      "cell_type": "code",
      "execution_count": 17,
      "metadata": {
        "id": "3BgTS5vKcjJI"
      },
      "outputs": [],
      "source": [
        "import PIL"
      ]
    },
    {
      "cell_type": "code",
      "execution_count": 18,
      "metadata": {
        "id": "jnf9xjSoUacE"
      },
      "outputs": [],
      "source": [
        "import torchvision.transforms as transforms\n",
        "import os\n",
        "from torch.utils.data import random_split\n",
        "\n",
        "# Define the root path to the train and test folders\n",
        "root_folder = '/content/drive/MyDrive/korea_influencer/'\n",
        "\n",
        "# Define subfolder paths\n",
        "# train_folder = os.path.join(root_folder, 'train')\n",
        "test_folder = os.path.join(root_folder, 'test')\n",
        "train_tiny_folder = os.path.join(root_folder, 'KI_tiny_10')\n",
        "\n",
        "preprocess_train = tv.transforms.Compose([\n",
        "    tv.transforms.Resize((160, 160), interpolation=PIL.Image.BILINEAR),  # It's the default, just being explicit for the reader.\n",
        "    tv.transforms.RandomCrop((128, 128)),\n",
        "    tv.transforms.RandomHorizontalFlip(),\n",
        "    tv.transforms.ToTensor(),\n",
        "    tv.transforms.Normalize((0.5, 0.5, 0.5), (0.5, 0.5, 0.5))  # Get data into [-1, 1]\n",
        "])\n",
        "\n",
        "preprocess_val = tv.transforms.Compose([\n",
        "    tv.transforms.Resize((128, 128), interpolation=PIL.Image.BILINEAR),\n",
        "    tv.transforms.ToTensor(),\n",
        "    tv.transforms.Normalize((0.5, 0.5, 0.5), (0.5, 0.5, 0.5))\n",
        "])\n",
        "\n",
        "preprocess_eval = tv.transforms.Compose([\n",
        "    tv.transforms.Resize((128, 128), interpolation=PIL.Image.BILINEAR),\n",
        "    tv.transforms.ToTensor(),\n",
        "    tv.transforms.Normalize((0.5, 0.5, 0.5), (0.5, 0.5, 0.5))\n",
        "])\n",
        "\n",
        "# Create custom datasets using the ImageFolder dataset class\n",
        "# train_dataset = tv.datasets.ImageFolder(root=train_folder, transform=preprocess_train)\n",
        "test_dataset = tv.datasets.ImageFolder(root=test_folder, transform=preprocess_eval)\n",
        "\n",
        "# # Load only 5 pieces of data for each class\n",
        "# num_samples_per_class = 10\n",
        "# subset_indices_train = []\n",
        "# for class_idx_train in range(len(train_dataset.classes)):\n",
        "#     class_indices_train = [idx for idx, label in enumerate(train_dataset.targets) if label == class_idx_train]\n",
        "#     subset_indices_train.extend(class_indices_train[:num_samples_per_class])\n",
        "\n",
        "# # Create a subset dataset with only 5 samples per class\n",
        "# train_dataset_subset = torch.utils.data.Subset(train_dataset, subset_indices_train)\n",
        "\n",
        "#train / val 9:1\n",
        "# dataset_size = len(train_dataset)\n",
        "# train_size = int(dataset_size * 0.9)\n",
        "# val_size = dataset_size - train_size\n",
        "\n",
        "# train_dataset_jin, val_dataset_jin = random_split(train_dataset, [train_size, val_size])\n",
        "\n",
        "# Set batch sizes and create data loaders\n",
        "batch_size_train = 64\n",
        "batch_size_val = 64\n",
        "batch_size_test = 64\n",
        "\n",
        "# trainset = torch.utils.data.DataLoader(train_dataset_jin, batch_size=batch_size_train, shuffle=True, num_workers=4)\n",
        "# valset = torch.utils.data.DataLoader(val_dataset_jin, batch_size=batch_size_val, shuffle=False, num_workers = 4)\n",
        "# testset = torch.utils.data.DataLoader(test_dataset, batch_size=batch_size_test, shuffle=False, num_workers=4)"
      ]
    },
    {
      "cell_type": "markdown",
      "metadata": {
        "id": "V7aYBd532f0n"
      },
      "source": [
        "## Eval pre-trained model (verify conversion)"
      ]
    },
    {
      "cell_type": "code",
      "execution_count": 19,
      "metadata": {
        "id": "Ih562Vl820Fw"
      },
      "outputs": [],
      "source": [
        "model = ResNetV2(ResNetV2.BLOCK_UNITS['r50'], width_factor=1, head_size=21843)  # NOTE: No new head.\n",
        "model.load_from(weights)\n",
        "model.to(device);"
      ]
    },
    {
      "cell_type": "code",
      "execution_count": 20,
      "metadata": {
        "colab": {
          "base_uri": "https://localhost:8080/"
        },
        "id": "MWJ512GVeYZK",
        "outputId": "24ecba6b-41ae-455a-bf8b-7e72d1ce79fc"
      },
      "outputs": [
        {
          "output_type": "execute_result",
          "data": {
            "text/plain": [
              "ResNetV2(\n",
              "  (root): Sequential(\n",
              "    (conv): StdConv2d(3, 64, kernel_size=(7, 7), stride=(2, 2), padding=(3, 3), bias=False)\n",
              "    (padp): ConstantPad2d(padding=(1, 1, 1, 1), value=0)\n",
              "    (pool): MaxPool2d(kernel_size=3, stride=2, padding=0, dilation=1, ceil_mode=False)\n",
              "  )\n",
              "  (body): Sequential(\n",
              "    (block1): Sequential(\n",
              "      (unit01): PreActBottleneck(\n",
              "        (gn1): GroupNorm(32, 64, eps=1e-05, affine=True)\n",
              "        (conv1): StdConv2d(64, 64, kernel_size=(1, 1), stride=(1, 1), bias=False)\n",
              "        (gn2): GroupNorm(32, 64, eps=1e-05, affine=True)\n",
              "        (conv2): StdConv2d(64, 64, kernel_size=(3, 3), stride=(1, 1), padding=(1, 1), bias=False)\n",
              "        (gn3): GroupNorm(32, 64, eps=1e-05, affine=True)\n",
              "        (conv3): StdConv2d(64, 256, kernel_size=(1, 1), stride=(1, 1), bias=False)\n",
              "        (relu): ReLU(inplace=True)\n",
              "        (downsample): StdConv2d(64, 256, kernel_size=(1, 1), stride=(1, 1), bias=False)\n",
              "      )\n",
              "      (unit02): PreActBottleneck(\n",
              "        (gn1): GroupNorm(32, 256, eps=1e-05, affine=True)\n",
              "        (conv1): StdConv2d(256, 64, kernel_size=(1, 1), stride=(1, 1), bias=False)\n",
              "        (gn2): GroupNorm(32, 64, eps=1e-05, affine=True)\n",
              "        (conv2): StdConv2d(64, 64, kernel_size=(3, 3), stride=(1, 1), padding=(1, 1), bias=False)\n",
              "        (gn3): GroupNorm(32, 64, eps=1e-05, affine=True)\n",
              "        (conv3): StdConv2d(64, 256, kernel_size=(1, 1), stride=(1, 1), bias=False)\n",
              "        (relu): ReLU(inplace=True)\n",
              "      )\n",
              "      (unit03): PreActBottleneck(\n",
              "        (gn1): GroupNorm(32, 256, eps=1e-05, affine=True)\n",
              "        (conv1): StdConv2d(256, 64, kernel_size=(1, 1), stride=(1, 1), bias=False)\n",
              "        (gn2): GroupNorm(32, 64, eps=1e-05, affine=True)\n",
              "        (conv2): StdConv2d(64, 64, kernel_size=(3, 3), stride=(1, 1), padding=(1, 1), bias=False)\n",
              "        (gn3): GroupNorm(32, 64, eps=1e-05, affine=True)\n",
              "        (conv3): StdConv2d(64, 256, kernel_size=(1, 1), stride=(1, 1), bias=False)\n",
              "        (relu): ReLU(inplace=True)\n",
              "      )\n",
              "    )\n",
              "    (block2): Sequential(\n",
              "      (unit01): PreActBottleneck(\n",
              "        (gn1): GroupNorm(32, 256, eps=1e-05, affine=True)\n",
              "        (conv1): StdConv2d(256, 128, kernel_size=(1, 1), stride=(1, 1), bias=False)\n",
              "        (gn2): GroupNorm(32, 128, eps=1e-05, affine=True)\n",
              "        (conv2): StdConv2d(128, 128, kernel_size=(3, 3), stride=(2, 2), padding=(1, 1), bias=False)\n",
              "        (gn3): GroupNorm(32, 128, eps=1e-05, affine=True)\n",
              "        (conv3): StdConv2d(128, 512, kernel_size=(1, 1), stride=(1, 1), bias=False)\n",
              "        (relu): ReLU(inplace=True)\n",
              "        (downsample): StdConv2d(256, 512, kernel_size=(1, 1), stride=(2, 2), bias=False)\n",
              "      )\n",
              "      (unit02): PreActBottleneck(\n",
              "        (gn1): GroupNorm(32, 512, eps=1e-05, affine=True)\n",
              "        (conv1): StdConv2d(512, 128, kernel_size=(1, 1), stride=(1, 1), bias=False)\n",
              "        (gn2): GroupNorm(32, 128, eps=1e-05, affine=True)\n",
              "        (conv2): StdConv2d(128, 128, kernel_size=(3, 3), stride=(1, 1), padding=(1, 1), bias=False)\n",
              "        (gn3): GroupNorm(32, 128, eps=1e-05, affine=True)\n",
              "        (conv3): StdConv2d(128, 512, kernel_size=(1, 1), stride=(1, 1), bias=False)\n",
              "        (relu): ReLU(inplace=True)\n",
              "      )\n",
              "      (unit03): PreActBottleneck(\n",
              "        (gn1): GroupNorm(32, 512, eps=1e-05, affine=True)\n",
              "        (conv1): StdConv2d(512, 128, kernel_size=(1, 1), stride=(1, 1), bias=False)\n",
              "        (gn2): GroupNorm(32, 128, eps=1e-05, affine=True)\n",
              "        (conv2): StdConv2d(128, 128, kernel_size=(3, 3), stride=(1, 1), padding=(1, 1), bias=False)\n",
              "        (gn3): GroupNorm(32, 128, eps=1e-05, affine=True)\n",
              "        (conv3): StdConv2d(128, 512, kernel_size=(1, 1), stride=(1, 1), bias=False)\n",
              "        (relu): ReLU(inplace=True)\n",
              "      )\n",
              "      (unit04): PreActBottleneck(\n",
              "        (gn1): GroupNorm(32, 512, eps=1e-05, affine=True)\n",
              "        (conv1): StdConv2d(512, 128, kernel_size=(1, 1), stride=(1, 1), bias=False)\n",
              "        (gn2): GroupNorm(32, 128, eps=1e-05, affine=True)\n",
              "        (conv2): StdConv2d(128, 128, kernel_size=(3, 3), stride=(1, 1), padding=(1, 1), bias=False)\n",
              "        (gn3): GroupNorm(32, 128, eps=1e-05, affine=True)\n",
              "        (conv3): StdConv2d(128, 512, kernel_size=(1, 1), stride=(1, 1), bias=False)\n",
              "        (relu): ReLU(inplace=True)\n",
              "      )\n",
              "    )\n",
              "    (block3): Sequential(\n",
              "      (unit01): PreActBottleneck(\n",
              "        (gn1): GroupNorm(32, 512, eps=1e-05, affine=True)\n",
              "        (conv1): StdConv2d(512, 256, kernel_size=(1, 1), stride=(1, 1), bias=False)\n",
              "        (gn2): GroupNorm(32, 256, eps=1e-05, affine=True)\n",
              "        (conv2): StdConv2d(256, 256, kernel_size=(3, 3), stride=(2, 2), padding=(1, 1), bias=False)\n",
              "        (gn3): GroupNorm(32, 256, eps=1e-05, affine=True)\n",
              "        (conv3): StdConv2d(256, 1024, kernel_size=(1, 1), stride=(1, 1), bias=False)\n",
              "        (relu): ReLU(inplace=True)\n",
              "        (downsample): StdConv2d(512, 1024, kernel_size=(1, 1), stride=(2, 2), bias=False)\n",
              "      )\n",
              "      (unit02): PreActBottleneck(\n",
              "        (gn1): GroupNorm(32, 1024, eps=1e-05, affine=True)\n",
              "        (conv1): StdConv2d(1024, 256, kernel_size=(1, 1), stride=(1, 1), bias=False)\n",
              "        (gn2): GroupNorm(32, 256, eps=1e-05, affine=True)\n",
              "        (conv2): StdConv2d(256, 256, kernel_size=(3, 3), stride=(1, 1), padding=(1, 1), bias=False)\n",
              "        (gn3): GroupNorm(32, 256, eps=1e-05, affine=True)\n",
              "        (conv3): StdConv2d(256, 1024, kernel_size=(1, 1), stride=(1, 1), bias=False)\n",
              "        (relu): ReLU(inplace=True)\n",
              "      )\n",
              "      (unit03): PreActBottleneck(\n",
              "        (gn1): GroupNorm(32, 1024, eps=1e-05, affine=True)\n",
              "        (conv1): StdConv2d(1024, 256, kernel_size=(1, 1), stride=(1, 1), bias=False)\n",
              "        (gn2): GroupNorm(32, 256, eps=1e-05, affine=True)\n",
              "        (conv2): StdConv2d(256, 256, kernel_size=(3, 3), stride=(1, 1), padding=(1, 1), bias=False)\n",
              "        (gn3): GroupNorm(32, 256, eps=1e-05, affine=True)\n",
              "        (conv3): StdConv2d(256, 1024, kernel_size=(1, 1), stride=(1, 1), bias=False)\n",
              "        (relu): ReLU(inplace=True)\n",
              "      )\n",
              "      (unit04): PreActBottleneck(\n",
              "        (gn1): GroupNorm(32, 1024, eps=1e-05, affine=True)\n",
              "        (conv1): StdConv2d(1024, 256, kernel_size=(1, 1), stride=(1, 1), bias=False)\n",
              "        (gn2): GroupNorm(32, 256, eps=1e-05, affine=True)\n",
              "        (conv2): StdConv2d(256, 256, kernel_size=(3, 3), stride=(1, 1), padding=(1, 1), bias=False)\n",
              "        (gn3): GroupNorm(32, 256, eps=1e-05, affine=True)\n",
              "        (conv3): StdConv2d(256, 1024, kernel_size=(1, 1), stride=(1, 1), bias=False)\n",
              "        (relu): ReLU(inplace=True)\n",
              "      )\n",
              "      (unit05): PreActBottleneck(\n",
              "        (gn1): GroupNorm(32, 1024, eps=1e-05, affine=True)\n",
              "        (conv1): StdConv2d(1024, 256, kernel_size=(1, 1), stride=(1, 1), bias=False)\n",
              "        (gn2): GroupNorm(32, 256, eps=1e-05, affine=True)\n",
              "        (conv2): StdConv2d(256, 256, kernel_size=(3, 3), stride=(1, 1), padding=(1, 1), bias=False)\n",
              "        (gn3): GroupNorm(32, 256, eps=1e-05, affine=True)\n",
              "        (conv3): StdConv2d(256, 1024, kernel_size=(1, 1), stride=(1, 1), bias=False)\n",
              "        (relu): ReLU(inplace=True)\n",
              "      )\n",
              "      (unit06): PreActBottleneck(\n",
              "        (gn1): GroupNorm(32, 1024, eps=1e-05, affine=True)\n",
              "        (conv1): StdConv2d(1024, 256, kernel_size=(1, 1), stride=(1, 1), bias=False)\n",
              "        (gn2): GroupNorm(32, 256, eps=1e-05, affine=True)\n",
              "        (conv2): StdConv2d(256, 256, kernel_size=(3, 3), stride=(1, 1), padding=(1, 1), bias=False)\n",
              "        (gn3): GroupNorm(32, 256, eps=1e-05, affine=True)\n",
              "        (conv3): StdConv2d(256, 1024, kernel_size=(1, 1), stride=(1, 1), bias=False)\n",
              "        (relu): ReLU(inplace=True)\n",
              "      )\n",
              "    )\n",
              "    (block4): Sequential(\n",
              "      (unit01): PreActBottleneck(\n",
              "        (gn1): GroupNorm(32, 1024, eps=1e-05, affine=True)\n",
              "        (conv1): StdConv2d(1024, 512, kernel_size=(1, 1), stride=(1, 1), bias=False)\n",
              "        (gn2): GroupNorm(32, 512, eps=1e-05, affine=True)\n",
              "        (conv2): StdConv2d(512, 512, kernel_size=(3, 3), stride=(2, 2), padding=(1, 1), bias=False)\n",
              "        (gn3): GroupNorm(32, 512, eps=1e-05, affine=True)\n",
              "        (conv3): StdConv2d(512, 2048, kernel_size=(1, 1), stride=(1, 1), bias=False)\n",
              "        (relu): ReLU(inplace=True)\n",
              "        (downsample): StdConv2d(1024, 2048, kernel_size=(1, 1), stride=(2, 2), bias=False)\n",
              "      )\n",
              "      (unit02): PreActBottleneck(\n",
              "        (gn1): GroupNorm(32, 2048, eps=1e-05, affine=True)\n",
              "        (conv1): StdConv2d(2048, 512, kernel_size=(1, 1), stride=(1, 1), bias=False)\n",
              "        (gn2): GroupNorm(32, 512, eps=1e-05, affine=True)\n",
              "        (conv2): StdConv2d(512, 512, kernel_size=(3, 3), stride=(1, 1), padding=(1, 1), bias=False)\n",
              "        (gn3): GroupNorm(32, 512, eps=1e-05, affine=True)\n",
              "        (conv3): StdConv2d(512, 2048, kernel_size=(1, 1), stride=(1, 1), bias=False)\n",
              "        (relu): ReLU(inplace=True)\n",
              "      )\n",
              "      (unit03): PreActBottleneck(\n",
              "        (gn1): GroupNorm(32, 2048, eps=1e-05, affine=True)\n",
              "        (conv1): StdConv2d(2048, 512, kernel_size=(1, 1), stride=(1, 1), bias=False)\n",
              "        (gn2): GroupNorm(32, 512, eps=1e-05, affine=True)\n",
              "        (conv2): StdConv2d(512, 512, kernel_size=(3, 3), stride=(1, 1), padding=(1, 1), bias=False)\n",
              "        (gn3): GroupNorm(32, 512, eps=1e-05, affine=True)\n",
              "        (conv3): StdConv2d(512, 2048, kernel_size=(1, 1), stride=(1, 1), bias=False)\n",
              "        (relu): ReLU(inplace=True)\n",
              "      )\n",
              "    )\n",
              "  )\n",
              "  (head): Sequential(\n",
              "    (gn): GroupNorm(32, 2048, eps=1e-05, affine=True)\n",
              "    (relu): ReLU(inplace=True)\n",
              "    (avg): AdaptiveAvgPool2d(output_size=1)\n",
              "    (conv): Conv2d(2048, 21843, kernel_size=(1, 1), stride=(1, 1))\n",
              "  )\n",
              ")"
            ]
          },
          "metadata": {},
          "execution_count": 20
        }
      ],
      "source": [
        "model"
      ]
    },
    {
      "cell_type": "code",
      "execution_count": 21,
      "metadata": {
        "colab": {
          "base_uri": "https://localhost:8080/"
        },
        "id": "fBcxRPUFfKH0",
        "outputId": "eeb0d2be-360b-407e-ca72-ece4cee42996"
      },
      "outputs": [
        {
          "output_type": "execute_result",
          "data": {
            "text/plain": [
              "ResNetV2(\n",
              "  (root): Sequential(\n",
              "    (conv): StdConv2d(3, 64, kernel_size=(7, 7), stride=(2, 2), padding=(3, 3), bias=False)\n",
              "    (padp): ConstantPad2d(padding=(1, 1, 1, 1), value=0)\n",
              "    (pool): MaxPool2d(kernel_size=3, stride=2, padding=0, dilation=1, ceil_mode=False)\n",
              "  )\n",
              "  (body): Sequential(\n",
              "    (block1): Sequential(\n",
              "      (unit01): PreActBottleneck(\n",
              "        (gn1): GroupNorm(32, 64, eps=1e-05, affine=True)\n",
              "        (conv1): StdConv2d(64, 64, kernel_size=(1, 1), stride=(1, 1), bias=False)\n",
              "        (gn2): GroupNorm(32, 64, eps=1e-05, affine=True)\n",
              "        (conv2): StdConv2d(64, 64, kernel_size=(3, 3), stride=(1, 1), padding=(1, 1), bias=False)\n",
              "        (gn3): GroupNorm(32, 64, eps=1e-05, affine=True)\n",
              "        (conv3): StdConv2d(64, 256, kernel_size=(1, 1), stride=(1, 1), bias=False)\n",
              "        (relu): ReLU(inplace=True)\n",
              "        (downsample): StdConv2d(64, 256, kernel_size=(1, 1), stride=(1, 1), bias=False)\n",
              "      )\n",
              "      (unit02): PreActBottleneck(\n",
              "        (gn1): GroupNorm(32, 256, eps=1e-05, affine=True)\n",
              "        (conv1): StdConv2d(256, 64, kernel_size=(1, 1), stride=(1, 1), bias=False)\n",
              "        (gn2): GroupNorm(32, 64, eps=1e-05, affine=True)\n",
              "        (conv2): StdConv2d(64, 64, kernel_size=(3, 3), stride=(1, 1), padding=(1, 1), bias=False)\n",
              "        (gn3): GroupNorm(32, 64, eps=1e-05, affine=True)\n",
              "        (conv3): StdConv2d(64, 256, kernel_size=(1, 1), stride=(1, 1), bias=False)\n",
              "        (relu): ReLU(inplace=True)\n",
              "      )\n",
              "      (unit03): PreActBottleneck(\n",
              "        (gn1): GroupNorm(32, 256, eps=1e-05, affine=True)\n",
              "        (conv1): StdConv2d(256, 64, kernel_size=(1, 1), stride=(1, 1), bias=False)\n",
              "        (gn2): GroupNorm(32, 64, eps=1e-05, affine=True)\n",
              "        (conv2): StdConv2d(64, 64, kernel_size=(3, 3), stride=(1, 1), padding=(1, 1), bias=False)\n",
              "        (gn3): GroupNorm(32, 64, eps=1e-05, affine=True)\n",
              "        (conv3): StdConv2d(64, 256, kernel_size=(1, 1), stride=(1, 1), bias=False)\n",
              "        (relu): ReLU(inplace=True)\n",
              "      )\n",
              "    )\n",
              "    (block2): Sequential(\n",
              "      (unit01): PreActBottleneck(\n",
              "        (gn1): GroupNorm(32, 256, eps=1e-05, affine=True)\n",
              "        (conv1): StdConv2d(256, 128, kernel_size=(1, 1), stride=(1, 1), bias=False)\n",
              "        (gn2): GroupNorm(32, 128, eps=1e-05, affine=True)\n",
              "        (conv2): StdConv2d(128, 128, kernel_size=(3, 3), stride=(2, 2), padding=(1, 1), bias=False)\n",
              "        (gn3): GroupNorm(32, 128, eps=1e-05, affine=True)\n",
              "        (conv3): StdConv2d(128, 512, kernel_size=(1, 1), stride=(1, 1), bias=False)\n",
              "        (relu): ReLU(inplace=True)\n",
              "        (downsample): StdConv2d(256, 512, kernel_size=(1, 1), stride=(2, 2), bias=False)\n",
              "      )\n",
              "      (unit02): PreActBottleneck(\n",
              "        (gn1): GroupNorm(32, 512, eps=1e-05, affine=True)\n",
              "        (conv1): StdConv2d(512, 128, kernel_size=(1, 1), stride=(1, 1), bias=False)\n",
              "        (gn2): GroupNorm(32, 128, eps=1e-05, affine=True)\n",
              "        (conv2): StdConv2d(128, 128, kernel_size=(3, 3), stride=(1, 1), padding=(1, 1), bias=False)\n",
              "        (gn3): GroupNorm(32, 128, eps=1e-05, affine=True)\n",
              "        (conv3): StdConv2d(128, 512, kernel_size=(1, 1), stride=(1, 1), bias=False)\n",
              "        (relu): ReLU(inplace=True)\n",
              "      )\n",
              "      (unit03): PreActBottleneck(\n",
              "        (gn1): GroupNorm(32, 512, eps=1e-05, affine=True)\n",
              "        (conv1): StdConv2d(512, 128, kernel_size=(1, 1), stride=(1, 1), bias=False)\n",
              "        (gn2): GroupNorm(32, 128, eps=1e-05, affine=True)\n",
              "        (conv2): StdConv2d(128, 128, kernel_size=(3, 3), stride=(1, 1), padding=(1, 1), bias=False)\n",
              "        (gn3): GroupNorm(32, 128, eps=1e-05, affine=True)\n",
              "        (conv3): StdConv2d(128, 512, kernel_size=(1, 1), stride=(1, 1), bias=False)\n",
              "        (relu): ReLU(inplace=True)\n",
              "      )\n",
              "      (unit04): PreActBottleneck(\n",
              "        (gn1): GroupNorm(32, 512, eps=1e-05, affine=True)\n",
              "        (conv1): StdConv2d(512, 128, kernel_size=(1, 1), stride=(1, 1), bias=False)\n",
              "        (gn2): GroupNorm(32, 128, eps=1e-05, affine=True)\n",
              "        (conv2): StdConv2d(128, 128, kernel_size=(3, 3), stride=(1, 1), padding=(1, 1), bias=False)\n",
              "        (gn3): GroupNorm(32, 128, eps=1e-05, affine=True)\n",
              "        (conv3): StdConv2d(128, 512, kernel_size=(1, 1), stride=(1, 1), bias=False)\n",
              "        (relu): ReLU(inplace=True)\n",
              "      )\n",
              "    )\n",
              "    (block3): Sequential(\n",
              "      (unit01): PreActBottleneck(\n",
              "        (gn1): GroupNorm(32, 512, eps=1e-05, affine=True)\n",
              "        (conv1): StdConv2d(512, 256, kernel_size=(1, 1), stride=(1, 1), bias=False)\n",
              "        (gn2): GroupNorm(32, 256, eps=1e-05, affine=True)\n",
              "        (conv2): StdConv2d(256, 256, kernel_size=(3, 3), stride=(2, 2), padding=(1, 1), bias=False)\n",
              "        (gn3): GroupNorm(32, 256, eps=1e-05, affine=True)\n",
              "        (conv3): StdConv2d(256, 1024, kernel_size=(1, 1), stride=(1, 1), bias=False)\n",
              "        (relu): ReLU(inplace=True)\n",
              "        (downsample): StdConv2d(512, 1024, kernel_size=(1, 1), stride=(2, 2), bias=False)\n",
              "      )\n",
              "      (unit02): PreActBottleneck(\n",
              "        (gn1): GroupNorm(32, 1024, eps=1e-05, affine=True)\n",
              "        (conv1): StdConv2d(1024, 256, kernel_size=(1, 1), stride=(1, 1), bias=False)\n",
              "        (gn2): GroupNorm(32, 256, eps=1e-05, affine=True)\n",
              "        (conv2): StdConv2d(256, 256, kernel_size=(3, 3), stride=(1, 1), padding=(1, 1), bias=False)\n",
              "        (gn3): GroupNorm(32, 256, eps=1e-05, affine=True)\n",
              "        (conv3): StdConv2d(256, 1024, kernel_size=(1, 1), stride=(1, 1), bias=False)\n",
              "        (relu): ReLU(inplace=True)\n",
              "      )\n",
              "      (unit03): PreActBottleneck(\n",
              "        (gn1): GroupNorm(32, 1024, eps=1e-05, affine=True)\n",
              "        (conv1): StdConv2d(1024, 256, kernel_size=(1, 1), stride=(1, 1), bias=False)\n",
              "        (gn2): GroupNorm(32, 256, eps=1e-05, affine=True)\n",
              "        (conv2): StdConv2d(256, 256, kernel_size=(3, 3), stride=(1, 1), padding=(1, 1), bias=False)\n",
              "        (gn3): GroupNorm(32, 256, eps=1e-05, affine=True)\n",
              "        (conv3): StdConv2d(256, 1024, kernel_size=(1, 1), stride=(1, 1), bias=False)\n",
              "        (relu): ReLU(inplace=True)\n",
              "      )\n",
              "      (unit04): PreActBottleneck(\n",
              "        (gn1): GroupNorm(32, 1024, eps=1e-05, affine=True)\n",
              "        (conv1): StdConv2d(1024, 256, kernel_size=(1, 1), stride=(1, 1), bias=False)\n",
              "        (gn2): GroupNorm(32, 256, eps=1e-05, affine=True)\n",
              "        (conv2): StdConv2d(256, 256, kernel_size=(3, 3), stride=(1, 1), padding=(1, 1), bias=False)\n",
              "        (gn3): GroupNorm(32, 256, eps=1e-05, affine=True)\n",
              "        (conv3): StdConv2d(256, 1024, kernel_size=(1, 1), stride=(1, 1), bias=False)\n",
              "        (relu): ReLU(inplace=True)\n",
              "      )\n",
              "      (unit05): PreActBottleneck(\n",
              "        (gn1): GroupNorm(32, 1024, eps=1e-05, affine=True)\n",
              "        (conv1): StdConv2d(1024, 256, kernel_size=(1, 1), stride=(1, 1), bias=False)\n",
              "        (gn2): GroupNorm(32, 256, eps=1e-05, affine=True)\n",
              "        (conv2): StdConv2d(256, 256, kernel_size=(3, 3), stride=(1, 1), padding=(1, 1), bias=False)\n",
              "        (gn3): GroupNorm(32, 256, eps=1e-05, affine=True)\n",
              "        (conv3): StdConv2d(256, 1024, kernel_size=(1, 1), stride=(1, 1), bias=False)\n",
              "        (relu): ReLU(inplace=True)\n",
              "      )\n",
              "      (unit06): PreActBottleneck(\n",
              "        (gn1): GroupNorm(32, 1024, eps=1e-05, affine=True)\n",
              "        (conv1): StdConv2d(1024, 256, kernel_size=(1, 1), stride=(1, 1), bias=False)\n",
              "        (gn2): GroupNorm(32, 256, eps=1e-05, affine=True)\n",
              "        (conv2): StdConv2d(256, 256, kernel_size=(3, 3), stride=(1, 1), padding=(1, 1), bias=False)\n",
              "        (gn3): GroupNorm(32, 256, eps=1e-05, affine=True)\n",
              "        (conv3): StdConv2d(256, 1024, kernel_size=(1, 1), stride=(1, 1), bias=False)\n",
              "        (relu): ReLU(inplace=True)\n",
              "      )\n",
              "    )\n",
              "    (block4): Sequential(\n",
              "      (unit01): PreActBottleneck(\n",
              "        (gn1): GroupNorm(32, 1024, eps=1e-05, affine=True)\n",
              "        (conv1): StdConv2d(1024, 512, kernel_size=(1, 1), stride=(1, 1), bias=False)\n",
              "        (gn2): GroupNorm(32, 512, eps=1e-05, affine=True)\n",
              "        (conv2): StdConv2d(512, 512, kernel_size=(3, 3), stride=(2, 2), padding=(1, 1), bias=False)\n",
              "        (gn3): GroupNorm(32, 512, eps=1e-05, affine=True)\n",
              "        (conv3): StdConv2d(512, 2048, kernel_size=(1, 1), stride=(1, 1), bias=False)\n",
              "        (relu): ReLU(inplace=True)\n",
              "        (downsample): StdConv2d(1024, 2048, kernel_size=(1, 1), stride=(2, 2), bias=False)\n",
              "      )\n",
              "      (unit02): PreActBottleneck(\n",
              "        (gn1): GroupNorm(32, 2048, eps=1e-05, affine=True)\n",
              "        (conv1): StdConv2d(2048, 512, kernel_size=(1, 1), stride=(1, 1), bias=False)\n",
              "        (gn2): GroupNorm(32, 512, eps=1e-05, affine=True)\n",
              "        (conv2): StdConv2d(512, 512, kernel_size=(3, 3), stride=(1, 1), padding=(1, 1), bias=False)\n",
              "        (gn3): GroupNorm(32, 512, eps=1e-05, affine=True)\n",
              "        (conv3): StdConv2d(512, 2048, kernel_size=(1, 1), stride=(1, 1), bias=False)\n",
              "        (relu): ReLU(inplace=True)\n",
              "      )\n",
              "      (unit03): PreActBottleneck(\n",
              "        (gn1): GroupNorm(32, 2048, eps=1e-05, affine=True)\n",
              "        (conv1): StdConv2d(2048, 512, kernel_size=(1, 1), stride=(1, 1), bias=False)\n",
              "        (gn2): GroupNorm(32, 512, eps=1e-05, affine=True)\n",
              "        (conv2): StdConv2d(512, 512, kernel_size=(3, 3), stride=(1, 1), padding=(1, 1), bias=False)\n",
              "        (gn3): GroupNorm(32, 512, eps=1e-05, affine=True)\n",
              "        (conv3): StdConv2d(512, 2048, kernel_size=(1, 1), stride=(1, 1), bias=False)\n",
              "        (relu): ReLU(inplace=True)\n",
              "      )\n",
              "    )\n",
              "  )\n",
              "  (head): Sequential(\n",
              "    (gn): GroupNorm(32, 2048, eps=1e-05, affine=True)\n",
              "    (relu): ReLU(inplace=True)\n",
              "    (avg): AdaptiveAvgPool2d(output_size=1)\n",
              "    (conv): Conv2d(2048, 50, kernel_size=(1, 1), stride=(1, 1))\n",
              "  )\n",
              ")"
            ]
          },
          "metadata": {},
          "execution_count": 21
        }
      ],
      "source": [
        "model.head.conv = nn.Conv2d(2048, 50, kernel_size=(1, 1), stride=(1, 1)).cuda()\n",
        "model = model.cuda()\n",
        "model"
      ]
    },
    {
      "cell_type": "code",
      "execution_count": 22,
      "metadata": {
        "id": "xFpmWKNf2ijx"
      },
      "outputs": [],
      "source": [
        "def eval_cifar10(model, bs=100, progressbar=True):\n",
        "\n",
        "  testset = torch.utils.data.DataLoader(test_dataset, batch_size=bs, shuffle=False, num_workers=4)\n",
        "\n",
        "  model.eval()\n",
        "\n",
        "  if progressbar is True:\n",
        "    progressbar = display(progress(0, len(testset)), display_id=True)\n",
        "\n",
        "  preds = []\n",
        "  with torch.no_grad():\n",
        "    for i, (x, t) in enumerate(testset):\n",
        "      x, t = x.to(device), t.numpy()\n",
        "      logits = model(x)\n",
        "      _, y = torch.max(logits.data, 1)\n",
        "      preds.extend(y.cpu().numpy() == t)\n",
        "      progressbar.update(progress(i+1, len(testset)))\n",
        "\n",
        "  return np.mean(preds)"
      ]
    },
    {
      "cell_type": "code",
      "execution_count": 23,
      "metadata": {
        "colab": {
          "base_uri": "https://localhost:8080/",
          "height": 53
        },
        "id": "y11FkovH2vZK",
        "outputId": "b28ed341-d86d-46d6-d2d8-969dbbf3f387"
      },
      "outputs": [
        {
          "output_type": "display_data",
          "data": {
            "text/plain": [
              "<IPython.core.display.HTML object>"
            ],
            "text/html": [
              "\n",
              "        <progress\n",
              "            value='51'\n",
              "            max='51',\n",
              "            style='width: 100%'\n",
              "        >\n",
              "            51\n",
              "        </progress>\n",
              "    "
            ]
          },
          "metadata": {}
        },
        {
          "output_type": "stream",
          "name": "stdout",
          "text": [
            "Accuracy: 1.45%\n"
          ]
        }
      ],
      "source": [
        "print(f\"Accuracy: {eval_cifar10(model):.2%}\")"
      ]
    },
    {
      "cell_type": "markdown",
      "metadata": {
        "id": "lbKA7-xhUQMr"
      },
      "source": [
        "## Find indices to create a 5-shot CIFAR10 variant"
      ]
    },
    {
      "cell_type": "code",
      "source": [
        "model = ResNetV2(ResNetV2.BLOCK_UNITS['r50'], width_factor=1, head_size=21843)  # NOTE: No new head.\n",
        "model.load_from(weights)\n",
        "model.to(device);"
      ],
      "metadata": {
        "id": "1gIW414ymWwH"
      },
      "execution_count": 24,
      "outputs": []
    },
    {
      "cell_type": "code",
      "source": [
        "model.head.conv = nn.Conv2d(2048, 50, kernel_size=(1, 1), stride=(1, 1)).cuda()\n",
        "model = model.cuda()\n",
        "model"
      ],
      "metadata": {
        "colab": {
          "base_uri": "https://localhost:8080/"
        },
        "id": "U5ZcwoXTmXik",
        "outputId": "4f0dd40b-1429-4ffd-87e8-a04e387b1e6b"
      },
      "execution_count": 25,
      "outputs": [
        {
          "output_type": "execute_result",
          "data": {
            "text/plain": [
              "ResNetV2(\n",
              "  (root): Sequential(\n",
              "    (conv): StdConv2d(3, 64, kernel_size=(7, 7), stride=(2, 2), padding=(3, 3), bias=False)\n",
              "    (padp): ConstantPad2d(padding=(1, 1, 1, 1), value=0)\n",
              "    (pool): MaxPool2d(kernel_size=3, stride=2, padding=0, dilation=1, ceil_mode=False)\n",
              "  )\n",
              "  (body): Sequential(\n",
              "    (block1): Sequential(\n",
              "      (unit01): PreActBottleneck(\n",
              "        (gn1): GroupNorm(32, 64, eps=1e-05, affine=True)\n",
              "        (conv1): StdConv2d(64, 64, kernel_size=(1, 1), stride=(1, 1), bias=False)\n",
              "        (gn2): GroupNorm(32, 64, eps=1e-05, affine=True)\n",
              "        (conv2): StdConv2d(64, 64, kernel_size=(3, 3), stride=(1, 1), padding=(1, 1), bias=False)\n",
              "        (gn3): GroupNorm(32, 64, eps=1e-05, affine=True)\n",
              "        (conv3): StdConv2d(64, 256, kernel_size=(1, 1), stride=(1, 1), bias=False)\n",
              "        (relu): ReLU(inplace=True)\n",
              "        (downsample): StdConv2d(64, 256, kernel_size=(1, 1), stride=(1, 1), bias=False)\n",
              "      )\n",
              "      (unit02): PreActBottleneck(\n",
              "        (gn1): GroupNorm(32, 256, eps=1e-05, affine=True)\n",
              "        (conv1): StdConv2d(256, 64, kernel_size=(1, 1), stride=(1, 1), bias=False)\n",
              "        (gn2): GroupNorm(32, 64, eps=1e-05, affine=True)\n",
              "        (conv2): StdConv2d(64, 64, kernel_size=(3, 3), stride=(1, 1), padding=(1, 1), bias=False)\n",
              "        (gn3): GroupNorm(32, 64, eps=1e-05, affine=True)\n",
              "        (conv3): StdConv2d(64, 256, kernel_size=(1, 1), stride=(1, 1), bias=False)\n",
              "        (relu): ReLU(inplace=True)\n",
              "      )\n",
              "      (unit03): PreActBottleneck(\n",
              "        (gn1): GroupNorm(32, 256, eps=1e-05, affine=True)\n",
              "        (conv1): StdConv2d(256, 64, kernel_size=(1, 1), stride=(1, 1), bias=False)\n",
              "        (gn2): GroupNorm(32, 64, eps=1e-05, affine=True)\n",
              "        (conv2): StdConv2d(64, 64, kernel_size=(3, 3), stride=(1, 1), padding=(1, 1), bias=False)\n",
              "        (gn3): GroupNorm(32, 64, eps=1e-05, affine=True)\n",
              "        (conv3): StdConv2d(64, 256, kernel_size=(1, 1), stride=(1, 1), bias=False)\n",
              "        (relu): ReLU(inplace=True)\n",
              "      )\n",
              "    )\n",
              "    (block2): Sequential(\n",
              "      (unit01): PreActBottleneck(\n",
              "        (gn1): GroupNorm(32, 256, eps=1e-05, affine=True)\n",
              "        (conv1): StdConv2d(256, 128, kernel_size=(1, 1), stride=(1, 1), bias=False)\n",
              "        (gn2): GroupNorm(32, 128, eps=1e-05, affine=True)\n",
              "        (conv2): StdConv2d(128, 128, kernel_size=(3, 3), stride=(2, 2), padding=(1, 1), bias=False)\n",
              "        (gn3): GroupNorm(32, 128, eps=1e-05, affine=True)\n",
              "        (conv3): StdConv2d(128, 512, kernel_size=(1, 1), stride=(1, 1), bias=False)\n",
              "        (relu): ReLU(inplace=True)\n",
              "        (downsample): StdConv2d(256, 512, kernel_size=(1, 1), stride=(2, 2), bias=False)\n",
              "      )\n",
              "      (unit02): PreActBottleneck(\n",
              "        (gn1): GroupNorm(32, 512, eps=1e-05, affine=True)\n",
              "        (conv1): StdConv2d(512, 128, kernel_size=(1, 1), stride=(1, 1), bias=False)\n",
              "        (gn2): GroupNorm(32, 128, eps=1e-05, affine=True)\n",
              "        (conv2): StdConv2d(128, 128, kernel_size=(3, 3), stride=(1, 1), padding=(1, 1), bias=False)\n",
              "        (gn3): GroupNorm(32, 128, eps=1e-05, affine=True)\n",
              "        (conv3): StdConv2d(128, 512, kernel_size=(1, 1), stride=(1, 1), bias=False)\n",
              "        (relu): ReLU(inplace=True)\n",
              "      )\n",
              "      (unit03): PreActBottleneck(\n",
              "        (gn1): GroupNorm(32, 512, eps=1e-05, affine=True)\n",
              "        (conv1): StdConv2d(512, 128, kernel_size=(1, 1), stride=(1, 1), bias=False)\n",
              "        (gn2): GroupNorm(32, 128, eps=1e-05, affine=True)\n",
              "        (conv2): StdConv2d(128, 128, kernel_size=(3, 3), stride=(1, 1), padding=(1, 1), bias=False)\n",
              "        (gn3): GroupNorm(32, 128, eps=1e-05, affine=True)\n",
              "        (conv3): StdConv2d(128, 512, kernel_size=(1, 1), stride=(1, 1), bias=False)\n",
              "        (relu): ReLU(inplace=True)\n",
              "      )\n",
              "      (unit04): PreActBottleneck(\n",
              "        (gn1): GroupNorm(32, 512, eps=1e-05, affine=True)\n",
              "        (conv1): StdConv2d(512, 128, kernel_size=(1, 1), stride=(1, 1), bias=False)\n",
              "        (gn2): GroupNorm(32, 128, eps=1e-05, affine=True)\n",
              "        (conv2): StdConv2d(128, 128, kernel_size=(3, 3), stride=(1, 1), padding=(1, 1), bias=False)\n",
              "        (gn3): GroupNorm(32, 128, eps=1e-05, affine=True)\n",
              "        (conv3): StdConv2d(128, 512, kernel_size=(1, 1), stride=(1, 1), bias=False)\n",
              "        (relu): ReLU(inplace=True)\n",
              "      )\n",
              "    )\n",
              "    (block3): Sequential(\n",
              "      (unit01): PreActBottleneck(\n",
              "        (gn1): GroupNorm(32, 512, eps=1e-05, affine=True)\n",
              "        (conv1): StdConv2d(512, 256, kernel_size=(1, 1), stride=(1, 1), bias=False)\n",
              "        (gn2): GroupNorm(32, 256, eps=1e-05, affine=True)\n",
              "        (conv2): StdConv2d(256, 256, kernel_size=(3, 3), stride=(2, 2), padding=(1, 1), bias=False)\n",
              "        (gn3): GroupNorm(32, 256, eps=1e-05, affine=True)\n",
              "        (conv3): StdConv2d(256, 1024, kernel_size=(1, 1), stride=(1, 1), bias=False)\n",
              "        (relu): ReLU(inplace=True)\n",
              "        (downsample): StdConv2d(512, 1024, kernel_size=(1, 1), stride=(2, 2), bias=False)\n",
              "      )\n",
              "      (unit02): PreActBottleneck(\n",
              "        (gn1): GroupNorm(32, 1024, eps=1e-05, affine=True)\n",
              "        (conv1): StdConv2d(1024, 256, kernel_size=(1, 1), stride=(1, 1), bias=False)\n",
              "        (gn2): GroupNorm(32, 256, eps=1e-05, affine=True)\n",
              "        (conv2): StdConv2d(256, 256, kernel_size=(3, 3), stride=(1, 1), padding=(1, 1), bias=False)\n",
              "        (gn3): GroupNorm(32, 256, eps=1e-05, affine=True)\n",
              "        (conv3): StdConv2d(256, 1024, kernel_size=(1, 1), stride=(1, 1), bias=False)\n",
              "        (relu): ReLU(inplace=True)\n",
              "      )\n",
              "      (unit03): PreActBottleneck(\n",
              "        (gn1): GroupNorm(32, 1024, eps=1e-05, affine=True)\n",
              "        (conv1): StdConv2d(1024, 256, kernel_size=(1, 1), stride=(1, 1), bias=False)\n",
              "        (gn2): GroupNorm(32, 256, eps=1e-05, affine=True)\n",
              "        (conv2): StdConv2d(256, 256, kernel_size=(3, 3), stride=(1, 1), padding=(1, 1), bias=False)\n",
              "        (gn3): GroupNorm(32, 256, eps=1e-05, affine=True)\n",
              "        (conv3): StdConv2d(256, 1024, kernel_size=(1, 1), stride=(1, 1), bias=False)\n",
              "        (relu): ReLU(inplace=True)\n",
              "      )\n",
              "      (unit04): PreActBottleneck(\n",
              "        (gn1): GroupNorm(32, 1024, eps=1e-05, affine=True)\n",
              "        (conv1): StdConv2d(1024, 256, kernel_size=(1, 1), stride=(1, 1), bias=False)\n",
              "        (gn2): GroupNorm(32, 256, eps=1e-05, affine=True)\n",
              "        (conv2): StdConv2d(256, 256, kernel_size=(3, 3), stride=(1, 1), padding=(1, 1), bias=False)\n",
              "        (gn3): GroupNorm(32, 256, eps=1e-05, affine=True)\n",
              "        (conv3): StdConv2d(256, 1024, kernel_size=(1, 1), stride=(1, 1), bias=False)\n",
              "        (relu): ReLU(inplace=True)\n",
              "      )\n",
              "      (unit05): PreActBottleneck(\n",
              "        (gn1): GroupNorm(32, 1024, eps=1e-05, affine=True)\n",
              "        (conv1): StdConv2d(1024, 256, kernel_size=(1, 1), stride=(1, 1), bias=False)\n",
              "        (gn2): GroupNorm(32, 256, eps=1e-05, affine=True)\n",
              "        (conv2): StdConv2d(256, 256, kernel_size=(3, 3), stride=(1, 1), padding=(1, 1), bias=False)\n",
              "        (gn3): GroupNorm(32, 256, eps=1e-05, affine=True)\n",
              "        (conv3): StdConv2d(256, 1024, kernel_size=(1, 1), stride=(1, 1), bias=False)\n",
              "        (relu): ReLU(inplace=True)\n",
              "      )\n",
              "      (unit06): PreActBottleneck(\n",
              "        (gn1): GroupNorm(32, 1024, eps=1e-05, affine=True)\n",
              "        (conv1): StdConv2d(1024, 256, kernel_size=(1, 1), stride=(1, 1), bias=False)\n",
              "        (gn2): GroupNorm(32, 256, eps=1e-05, affine=True)\n",
              "        (conv2): StdConv2d(256, 256, kernel_size=(3, 3), stride=(1, 1), padding=(1, 1), bias=False)\n",
              "        (gn3): GroupNorm(32, 256, eps=1e-05, affine=True)\n",
              "        (conv3): StdConv2d(256, 1024, kernel_size=(1, 1), stride=(1, 1), bias=False)\n",
              "        (relu): ReLU(inplace=True)\n",
              "      )\n",
              "    )\n",
              "    (block4): Sequential(\n",
              "      (unit01): PreActBottleneck(\n",
              "        (gn1): GroupNorm(32, 1024, eps=1e-05, affine=True)\n",
              "        (conv1): StdConv2d(1024, 512, kernel_size=(1, 1), stride=(1, 1), bias=False)\n",
              "        (gn2): GroupNorm(32, 512, eps=1e-05, affine=True)\n",
              "        (conv2): StdConv2d(512, 512, kernel_size=(3, 3), stride=(2, 2), padding=(1, 1), bias=False)\n",
              "        (gn3): GroupNorm(32, 512, eps=1e-05, affine=True)\n",
              "        (conv3): StdConv2d(512, 2048, kernel_size=(1, 1), stride=(1, 1), bias=False)\n",
              "        (relu): ReLU(inplace=True)\n",
              "        (downsample): StdConv2d(1024, 2048, kernel_size=(1, 1), stride=(2, 2), bias=False)\n",
              "      )\n",
              "      (unit02): PreActBottleneck(\n",
              "        (gn1): GroupNorm(32, 2048, eps=1e-05, affine=True)\n",
              "        (conv1): StdConv2d(2048, 512, kernel_size=(1, 1), stride=(1, 1), bias=False)\n",
              "        (gn2): GroupNorm(32, 512, eps=1e-05, affine=True)\n",
              "        (conv2): StdConv2d(512, 512, kernel_size=(3, 3), stride=(1, 1), padding=(1, 1), bias=False)\n",
              "        (gn3): GroupNorm(32, 512, eps=1e-05, affine=True)\n",
              "        (conv3): StdConv2d(512, 2048, kernel_size=(1, 1), stride=(1, 1), bias=False)\n",
              "        (relu): ReLU(inplace=True)\n",
              "      )\n",
              "      (unit03): PreActBottleneck(\n",
              "        (gn1): GroupNorm(32, 2048, eps=1e-05, affine=True)\n",
              "        (conv1): StdConv2d(2048, 512, kernel_size=(1, 1), stride=(1, 1), bias=False)\n",
              "        (gn2): GroupNorm(32, 512, eps=1e-05, affine=True)\n",
              "        (conv2): StdConv2d(512, 512, kernel_size=(3, 3), stride=(1, 1), padding=(1, 1), bias=False)\n",
              "        (gn3): GroupNorm(32, 512, eps=1e-05, affine=True)\n",
              "        (conv3): StdConv2d(512, 2048, kernel_size=(1, 1), stride=(1, 1), bias=False)\n",
              "        (relu): ReLU(inplace=True)\n",
              "      )\n",
              "    )\n",
              "  )\n",
              "  (head): Sequential(\n",
              "    (gn): GroupNorm(32, 2048, eps=1e-05, affine=True)\n",
              "    (relu): ReLU(inplace=True)\n",
              "    (avg): AdaptiveAvgPool2d(output_size=1)\n",
              "    (conv): Conv2d(2048, 50, kernel_size=(1, 1), stride=(1, 1))\n",
              "  )\n",
              ")"
            ]
          },
          "metadata": {},
          "execution_count": 25
        }
      ]
    },
    {
      "cell_type": "code",
      "execution_count": 26,
      "metadata": {
        "id": "VRPkGcvTUWAR"
      },
      "outputs": [],
      "source": [
        "preprocess_tiny =  tv.transforms.Compose([\n",
        "    tv.transforms.Resize((160, 160), interpolation=PIL.Image.BILINEAR),  # It's the default, just being explicit for the reader.\n",
        "    tv.transforms.RandomCrop((128, 128)),\n",
        "    tv.transforms.RandomHorizontalFlip(),\n",
        "    tv.transforms.ToTensor(),\n",
        "    tv.transforms.Normalize((0.5, 0.5, 0.5), (0.5, 0.5, 0.5))  # Get data into [-1, 1]\n",
        "])\n",
        "\n",
        "# Create a subset dataset with only 5 samples per class\n",
        "trainset_tiny = tv.datasets.ImageFolder(root=train_tiny_folder, transform=preprocess_tiny)\n",
        "loader = torch.utils.data.DataLoader(trainset_tiny, batch_size=500, shuffle=False, num_workers=4)\n",
        "images, labels = next(iter(loader))"
      ]
    },
    {
      "cell_type": "code",
      "execution_count": 27,
      "metadata": {
        "id": "uQmzrwKJ-Wya"
      },
      "outputs": [],
      "source": [
        "indices = {cls: np.random.choice(np.where(labels.numpy() == cls)[0], 10, replace=False) for cls in range(50)}"
      ]
    },
    {
      "cell_type": "code",
      "execution_count": 28,
      "metadata": {
        "id": "RV2Sbfruzl3i",
        "colab": {
          "base_uri": "https://localhost:8080/"
        },
        "outputId": "9ab12aaf-824e-4946-a109-e40126807873"
      },
      "outputs": [
        {
          "output_type": "stream",
          "name": "stdout",
          "text": [
            "torch.Size([500, 3, 128, 128])\n",
            "tensor([ 0,  0,  0,  0,  0,  0,  0,  0,  0,  0,  1,  1,  1,  1,  1,  1,  1,  1,\n",
            "         1,  1,  2,  2,  2,  2,  2,  2,  2,  2,  2,  2,  3,  3,  3,  3,  3,  3,\n",
            "         3,  3,  3,  3,  4,  4,  4,  4,  4,  4,  4,  4,  4,  4,  5,  5,  5,  5,\n",
            "         5,  5,  5,  5,  5,  5,  6,  6,  6,  6,  6,  6,  6,  6,  6,  6,  7,  7,\n",
            "         7,  7,  7,  7,  7,  7,  7,  7,  8,  8,  8,  8,  8,  8,  8,  8,  8,  8,\n",
            "         9,  9,  9,  9,  9,  9,  9,  9,  9,  9, 10, 10, 10, 10, 10, 10, 10, 10,\n",
            "        10, 10, 11, 11, 11, 11, 11, 11, 11, 11, 11, 11, 12, 12, 12, 12, 12, 12,\n",
            "        12, 12, 12, 12, 13, 13, 13, 13, 13, 13, 13, 13, 13, 13, 14, 14, 14, 14,\n",
            "        14, 14, 14, 14, 14, 14, 15, 15, 15, 15, 15, 15, 15, 15, 15, 15, 16, 16,\n",
            "        16, 16, 16, 16, 16, 16, 16, 16, 17, 17, 17, 17, 17, 17, 17, 17, 17, 17,\n",
            "        18, 18, 18, 18, 18, 18, 18, 18, 18, 18, 19, 19, 19, 19, 19, 19, 19, 19,\n",
            "        19, 19, 20, 20, 20, 20, 20, 20, 20, 20, 20, 20, 21, 21, 21, 21, 21, 21,\n",
            "        21, 21, 21, 21, 22, 22, 22, 22, 22, 22, 22, 22, 22, 22, 23, 23, 23, 23,\n",
            "        23, 23, 23, 23, 23, 23, 24, 24, 24, 24, 24, 24, 24, 24, 24, 24, 25, 25,\n",
            "        25, 25, 25, 25, 25, 25, 25, 25, 26, 26, 26, 26, 26, 26, 26, 26, 26, 26,\n",
            "        27, 27, 27, 27, 27, 27, 27, 27, 27, 27, 28, 28, 28, 28, 28, 28, 28, 28,\n",
            "        28, 28, 29, 29, 29, 29, 29, 29, 29, 29, 29, 29, 30, 30, 30, 30, 30, 30,\n",
            "        30, 30, 30, 30, 31, 31, 31, 31, 31, 31, 31, 31, 31, 31, 32, 32, 32, 32,\n",
            "        32, 32, 32, 32, 32, 32, 33, 33, 33, 33, 33, 33, 33, 33, 33, 33, 34, 34,\n",
            "        34, 34, 34, 34, 34, 34, 34, 34, 35, 35, 35, 35, 35, 35, 35, 35, 35, 35,\n",
            "        36, 36, 36, 36, 36, 36, 36, 36, 36, 36, 37, 37, 37, 37, 37, 37, 37, 37,\n",
            "        37, 37, 38, 38, 38, 38, 38, 38, 38, 38, 38, 38, 39, 39, 39, 39, 39, 39,\n",
            "        39, 39, 39, 39, 40, 40, 40, 40, 40, 40, 40, 40, 40, 40, 41, 41, 41, 41,\n",
            "        41, 41, 41, 41, 41, 41, 42, 42, 42, 42, 42, 42, 42, 42, 42, 42, 43, 43,\n",
            "        43, 43, 43, 43, 43, 43, 43, 43, 44, 44, 44, 44, 44, 44, 44, 44, 44, 44,\n",
            "        45, 45, 45, 45, 45, 45, 45, 45, 45, 45, 46, 46, 46, 46, 46, 46, 46, 46,\n",
            "        46, 46, 47, 47, 47, 47, 47, 47, 47, 47, 47, 47, 48, 48, 48, 48, 48, 48,\n",
            "        48, 48, 48, 48, 49, 49, 49, 49, 49, 49, 49, 49, 49, 49])\n"
          ]
        }
      ],
      "source": [
        "print(images.shape)\n",
        "print(labels)"
      ]
    },
    {
      "cell_type": "code",
      "execution_count": 29,
      "metadata": {
        "id": "Vnq22Qy0jmBR",
        "colab": {
          "base_uri": "https://localhost:8080/"
        },
        "outputId": "e817e363-0e0f-4aa4-8fcf-07c2db010068"
      },
      "outputs": [
        {
          "output_type": "stream",
          "name": "stdout",
          "text": [
            "{0: array([6, 9, 7, 8, 3, 2, 5, 4, 1, 0]), 1: array([16, 13, 19, 12, 18, 14, 17, 15, 10, 11]), 2: array([27, 25, 26, 24, 28, 29, 23, 20, 22, 21]), 3: array([31, 35, 38, 30, 36, 39, 37, 32, 33, 34]), 4: array([46, 47, 43, 40, 41, 48, 49, 45, 42, 44]), 5: array([58, 56, 57, 51, 54, 53, 50, 55, 52, 59]), 6: array([64, 67, 62, 61, 60, 63, 66, 69, 68, 65]), 7: array([72, 76, 77, 70, 74, 79, 73, 75, 78, 71]), 8: array([84, 85, 80, 86, 82, 88, 83, 87, 89, 81]), 9: array([91, 97, 96, 93, 94, 90, 99, 98, 92, 95]), 10: array([107, 101, 102, 100, 106, 103, 109, 104, 105, 108]), 11: array([114, 112, 116, 118, 119, 115, 111, 117, 110, 113]), 12: array([129, 120, 122, 127, 126, 121, 128, 123, 124, 125]), 13: array([133, 135, 132, 130, 138, 139, 134, 136, 137, 131]), 14: array([141, 146, 142, 145, 140, 144, 143, 147, 149, 148]), 15: array([152, 150, 159, 151, 153, 155, 157, 158, 156, 154]), 16: array([163, 166, 160, 164, 167, 162, 168, 161, 169, 165]), 17: array([178, 172, 177, 175, 171, 179, 170, 174, 176, 173]), 18: array([183, 189, 185, 184, 180, 182, 188, 181, 186, 187]), 19: array([190, 195, 193, 194, 191, 199, 198, 196, 197, 192]), 20: array([209, 200, 204, 205, 203, 208, 201, 207, 202, 206]), 21: array([211, 213, 210, 212, 215, 216, 219, 214, 218, 217]), 22: array([226, 222, 223, 228, 224, 225, 227, 229, 220, 221]), 23: array([234, 230, 238, 235, 239, 233, 231, 237, 232, 236]), 24: array([245, 242, 246, 249, 243, 247, 244, 241, 248, 240]), 25: array([257, 253, 252, 259, 255, 250, 251, 258, 256, 254]), 26: array([261, 263, 264, 269, 265, 260, 268, 267, 262, 266]), 27: array([271, 279, 276, 273, 272, 274, 270, 277, 275, 278]), 28: array([288, 280, 284, 283, 289, 287, 285, 282, 286, 281]), 29: array([291, 293, 299, 295, 298, 296, 294, 290, 297, 292]), 30: array([302, 301, 307, 300, 309, 304, 305, 303, 306, 308]), 31: array([312, 319, 317, 314, 316, 310, 318, 311, 313, 315]), 32: array([329, 322, 323, 321, 324, 325, 326, 328, 327, 320]), 33: array([336, 338, 335, 334, 332, 339, 337, 330, 331, 333]), 34: array([343, 346, 340, 347, 345, 344, 349, 341, 348, 342]), 35: array([357, 354, 352, 350, 358, 359, 353, 356, 351, 355]), 36: array([363, 369, 361, 360, 365, 368, 364, 367, 362, 366]), 37: array([377, 375, 371, 370, 373, 374, 378, 372, 379, 376]), 38: array([388, 382, 386, 380, 385, 381, 389, 387, 383, 384]), 39: array([392, 393, 391, 398, 397, 395, 396, 390, 394, 399]), 40: array([407, 406, 408, 409, 405, 404, 402, 400, 401, 403]), 41: array([419, 414, 418, 417, 411, 413, 415, 410, 416, 412]), 42: array([424, 425, 428, 422, 421, 429, 426, 420, 427, 423]), 43: array([431, 434, 435, 438, 433, 439, 430, 432, 437, 436]), 44: array([441, 440, 445, 446, 444, 447, 448, 449, 443, 442]), 45: array([456, 454, 453, 459, 457, 450, 451, 452, 455, 458]), 46: array([461, 463, 467, 462, 465, 466, 464, 469, 468, 460]), 47: array([471, 475, 472, 476, 478, 473, 474, 479, 477, 470]), 48: array([480, 489, 484, 487, 483, 485, 486, 482, 481, 488]), 49: array([492, 496, 498, 499, 490, 494, 491, 497, 493, 495])}\n"
          ]
        }
      ],
      "source": [
        "# 각 클래스당 오직 5개의 이미지만 선택된 것을 확인할 수 있음\n",
        "print(indices)"
      ]
    },
    {
      "cell_type": "code",
      "execution_count": 30,
      "metadata": {
        "id": "g9Gn5a_NWV4k"
      },
      "outputs": [],
      "source": [
        "# fig = plt.figure(figsize=(20, 8))\n",
        "# ig = ImageGrid(fig, 111, (5, 50))\n",
        "# for c, cls in enumerate(indices):\n",
        "#   for r, i in enumerate(indices[cls]):\n",
        "#     img, _ = trainset_tiny[i]\n",
        "#     ax = ig.axes_column[c][r]\n",
        "#     ax.imshow((img.numpy().transpose([1, 2, 0]) * 127.5 + 127.5).astype(np.uint8))\n",
        "#     ax.set_axis_off()\n",
        "# fig.suptitle('The whole 5-shot KoIn dataset')"
      ]
    },
    {
      "cell_type": "code",
      "execution_count": 31,
      "metadata": {
        "id": "Vvu5XXCQY88M",
        "colab": {
          "base_uri": "https://localhost:8080/"
        },
        "outputId": "8fceb75c-c496-42f6-9a02-a36ea11b6894"
      },
      "outputs": [
        {
          "output_type": "execute_result",
          "data": {
            "text/plain": [
              "500"
            ]
          },
          "metadata": {},
          "execution_count": 31
        }
      ],
      "source": [
        "# 전체 이미지 개수가 고작 50개인 걸 확인할 수 있음\n",
        "train_5shot = torch.utils.data.Subset(trainset_tiny, indices=[i for v in indices.values() for i in v])\n",
        "len(train_5shot)"
      ]
    },
    {
      "cell_type": "markdown",
      "metadata": {
        "id": "JMrZ1sZyUVcU"
      },
      "source": [
        "# Fine-tune BiT-M on this 5-shot CIFAR10 variant"
      ]
    },
    {
      "cell_type": "markdown",
      "metadata": {
        "id": "2qCZ4SiBfV32"
      },
      "source": [
        "**NOTE**: In this very low data regime, the performance heavily depends on how \"representative\" the 5 examples you got are of the class. As shown in the paper, variance is very large, I'm getting anywhere between 78%-85% depending on luck.\n",
        "\n",
        "Another point is that here I use `batch_size=512` for consistency with the paper. But actually, a much smaller `batch_size=50` works just as well and is about 10x faster!"
      ]
    },
    {
      "cell_type": "code",
      "execution_count": 32,
      "metadata": {
        "id": "faASYtOkYMrn"
      },
      "outputs": [],
      "source": [
        "# 본 논문에서는 batch size를 크게 설정할 때 조금 더 성능이 좋았다고 주장\n",
        "# 그래서 고작 50개의 이미지로 학습을 하지만, batch size는 256으로 설정\n",
        "\n",
        "# Yes, we still use 512 batch-size! Maybe something else is even better, who knows.\n",
        "# loader_train = torch.utils.data.DataLoader(train_5shot, batch_size=512, shuffle=True, num_workers=2)\n",
        "\n",
        "# NOTE: This is necessary when the batch-size is larger than the dataset.\n",
        "sampler = torch.utils.data.RandomSampler(train_5shot, replacement=True, num_samples=256)\n",
        "loader_train = torch.utils.data.DataLoader(train_5shot, batch_size=256, num_workers=2, sampler=sampler)"
      ]
    },
    {
      "cell_type": "code",
      "execution_count": 33,
      "metadata": {
        "id": "rqLUFicBVcu2"
      },
      "outputs": [],
      "source": [
        "# 보통 fine-tuning할 때 learning rate은 거의 마지막 step 수준으로 작게 설정\n",
        "# 말 그대로 \"미세 조정\"이니까요.\n",
        "\n",
        "# 지금 코드 상으로는 CIFAR-10에 대하여 batch-size 256으로 설정해서\n",
        "# 총 500 steps로 학습을 진행 => 256 * 500 => 총 10만 번의 \"이미지 보기\"를 수행하는 거죠.\n",
        "# 전체 데이터가 원래 50,000장인 걸 생각하면, 사실상 2 epochs도 안 되는 수준.\n",
        "# 아주 빠르게, pre-trained 모델을 이용해서 높은 성능을 달성. => transfer learning의 장점\n",
        "# 현업에서도 매우 많이 활용\n",
        "\n",
        "crit = nn.CrossEntropyLoss()\n",
        "opti = torch.optim.SGD(model.parameters(), lr=0.003, momentum=0.9)\n",
        "model.train();"
      ]
    },
    {
      "cell_type": "code",
      "execution_count": 34,
      "metadata": {
        "id": "RVmFu5m1eJa7",
        "colab": {
          "base_uri": "https://localhost:8080/",
          "height": 89
        },
        "outputId": "6b8980f5-e4c2-441e-a7d6-8d7053a8f327"
      },
      "outputs": [
        {
          "output_type": "display_data",
          "data": {
            "text/plain": [
              "<IPython.core.display.HTML object>"
            ],
            "text/html": [
              "\n",
              "        <progress\n",
              "            value='499'\n",
              "            max='500',\n",
              "            style='width: 100%'\n",
              "        >\n",
              "            499\n",
              "        </progress>\n",
              "    "
            ]
          },
          "metadata": {}
        },
        {
          "output_type": "display_data",
          "data": {
            "text/plain": [
              "<IPython.core.display.HTML object>"
            ],
            "text/html": [
              "\n",
              "        <progress\n",
              "            value='51'\n",
              "            max='51',\n",
              "            style='width: 100%'\n",
              "        >\n",
              "            51\n",
              "        </progress>\n",
              "    "
            ]
          },
          "metadata": {}
        },
        {
          "output_type": "stream",
          "name": "stdout",
          "text": [
            "[Step 499] loss=3.48e-03 train accu=100.00% test accu=11.18% (lr=3e-06)\n",
            "Best Test Accuracy: 11.28%, Epoch: 6\n"
          ]
        }
      ],
      "source": [
        "S = 500\n",
        "def schedule(s):\n",
        "  # learning rate은 0.003 → 0.0003 → 0.00003 → 0.000003\n",
        "  # 최종적으로 500번의 step을 수행함에 따라서, 100 단위로 learning rate을 10배씩 줄여나감\n",
        "  step_lr = stairs(s, 3e-3, 200, 3e-4, 300, 3e-5, 400, 3e-6, S, None)\n",
        "  # ramp-up: 특정 learning rate이 될 때까지는 오히려 learning rate을 증가시켜나가는 거\n",
        "  # 지금 코드 상으로는 100 steps까지는 0에서 0.003으로 올려줬다가, 100 steps 단위로 10배씩 줄여나감\n",
        "  return rampup(s, 100, step_lr)\n",
        "\n",
        "pb_train = display(progress(0, S), display_id=True)\n",
        "pb_test = display(progress(0, 100), display_id=True)\n",
        "losses = [[]]\n",
        "accus_train = [[]]\n",
        "accus_test = []\n",
        "\n",
        "steps_per_iter = 512 // loader_train.batch_size\n",
        "\n",
        "# Define a variable to keep track of the highest test accuracy and the corresponding epoch\n",
        "best_test_accuracy = 0.0\n",
        "best_epoch = 0\n",
        "\n",
        "while len(losses) < S:\n",
        "  for x, t in loader_train:\n",
        "    x, t = x.to(device), t.to(device)\n",
        "\n",
        "    logits = model(x)\n",
        "    loss = crit(logits, t) / steps_per_iter\n",
        "    loss.backward()\n",
        "    losses[-1].append(loss.item())\n",
        "\n",
        "    with torch.no_grad():\n",
        "      accus_train[-1].extend(torch.max(logits, dim=1)[1].cpu().numpy() == t.cpu().numpy())\n",
        "\n",
        "    if len(losses[-1]) == steps_per_iter:\n",
        "            losses[-1] = sum(losses[-1])\n",
        "            losses.append([])\n",
        "            accus_train[-1] = np.mean(accus_train[-1])\n",
        "            accus_train.append([])\n",
        "\n",
        "            # Update learning-rate according to schedule, and stop if necessary\n",
        "            lr = schedule(len(losses) - 1)\n",
        "            for param_group in opti.param_groups:\n",
        "                param_group['lr'] = lr\n",
        "\n",
        "            opti.step()\n",
        "            opti.zero_grad()\n",
        "\n",
        "            pb_train.update(progress(len(losses) - 1, S))\n",
        "            print(f'\\r[Step {len(losses) - 1}] loss={losses[-2]:.2e} '\n",
        "                  f'train accu={accus_train[-2]:.2%} '\n",
        "                  f'test accu={accus_test[-1] if accus_test else 0:.2%} '\n",
        "                  f'(lr={lr:g})', end='', flush=True)\n",
        "\n",
        "            if len(losses) % 25 == 0:\n",
        "                test_accuracy = eval_cifar10(model, progressbar=pb_test)\n",
        "                accus_test.append(test_accuracy)\n",
        "                model.train()\n",
        "\n",
        "                # Check if this epoch's test accuracy is the best so far\n",
        "                if test_accuracy > best_test_accuracy:\n",
        "                    best_test_accuracy = test_accuracy\n",
        "                    best_epoch = len(losses) // 25  # Calculate the epoch based on the step count\n",
        "\n",
        "                    # Save the model's state dictionary\n",
        "                    torch.save(model.state_dict(), f'BiT_m_cls_10_best_epoch.pth')\n",
        "\n",
        "# Print the best test accuracy and the corresponding epoch\n",
        "print(f'\\nBest Test Accuracy: {best_test_accuracy:.2%}, Epoch: {best_epoch}')"
      ]
    },
    {
      "cell_type": "code",
      "execution_count": 35,
      "metadata": {
        "id": "TZQBHq1Gh1ty",
        "colab": {
          "base_uri": "https://localhost:8080/",
          "height": 390
        },
        "outputId": "16e744bf-8bd6-4b11-de90-e3fdea3a7045"
      },
      "outputs": [
        {
          "output_type": "display_data",
          "data": {
            "text/plain": [
              "<Figure size 1500x400 with 3 Axes>"
            ],
            "image/png": "[encoded data removed]"
          },
          "metadata": {
            "image/png": {
              "width": 1224,
              "height": 373
            }
          }
        }
      ],
      "source": [
        "fig, (ax1, ax2, ax3) = plt.subplots(1, 3, figsize=(15, 4))\n",
        "ax1.plot(losses[:-1])\n",
        "ax1.set_yscale('log')\n",
        "ax1.set_title('loss')\n",
        "ax2.plot(accus_train[:-1])\n",
        "ax2.set_title('training accuracy')\n",
        "ax3.plot(np.arange(25, 501, 25), accus_test)\n",
        "ax3.set_title('test accuracy');"
      ]
    },
    {
      "cell_type": "code",
      "execution_count": 50,
      "metadata": {
        "id": "KD7jN0QJVlal",
        "colab": {
          "base_uri": "https://localhost:8080/",
          "height": 490
        },
        "outputId": "191e48e1-f56d-41fa-d54c-82f00ea49852"
      },
      "outputs": [
        {
          "output_type": "error",
          "ename": "RuntimeError",
          "evalue": "ignored",
          "traceback": [
            "\u001b[0;31m---------------------------------------------------------------------------\u001b[0m",
            "\u001b[0;31mRuntimeError\u001b[0m                              Traceback (most recent call last)",
            "\u001b[0;32m<ipython-input-50-54fc69f4b733>\u001b[0m in \u001b[0;36m<cell line: 39>\u001b[0;34m()\u001b[0m\n\u001b[1;32m     37\u001b[0m \u001b[0;34m\u001b[0m\u001b[0m\n\u001b[1;32m     38\u001b[0m \u001b[0;31m# Calculate top-3 accuracy using your test_loader\u001b[0m\u001b[0;34m\u001b[0m\u001b[0;34m\u001b[0m\u001b[0m\n\u001b[0;32m---> 39\u001b[0;31m \u001b[0mtop3_accuracy\u001b[0m \u001b[0;34m=\u001b[0m \u001b[0mcalculate_top3_accuracy\u001b[0m\u001b[0;34m(\u001b[0m\u001b[0mmodel\u001b[0m\u001b[0;34m,\u001b[0m \u001b[0mtestset\u001b[0m\u001b[0;34m)\u001b[0m\u001b[0;34m\u001b[0m\u001b[0;34m\u001b[0m\u001b[0m\n\u001b[0m\u001b[1;32m     40\u001b[0m \u001b[0;34m\u001b[0m\u001b[0m\n\u001b[1;32m     41\u001b[0m \u001b[0;31m# Print the top-3 accuracy\u001b[0m\u001b[0;34m\u001b[0m\u001b[0;34m\u001b[0m\u001b[0m\n",
            "\u001b[0;32m<ipython-input-50-54fc69f4b733>\u001b[0m in \u001b[0;36mcalculate_top3_accuracy\u001b[0;34m(model, data_loader)\u001b[0m\n\u001b[1;32m     27\u001b[0m             \u001b[0mlabels\u001b[0m \u001b[0;34m=\u001b[0m \u001b[0mlabels\u001b[0m\u001b[0;34m\u001b[0m\u001b[0;34m\u001b[0m\u001b[0m\n\u001b[1;32m     28\u001b[0m \u001b[0;34m\u001b[0m\u001b[0m\n\u001b[0;32m---> 29\u001b[0;31m             \u001b[0moutputs\u001b[0m \u001b[0;34m=\u001b[0m \u001b[0mmodel\u001b[0m\u001b[0;34m(\u001b[0m\u001b[0minputs\u001b[0m\u001b[0;34m)\u001b[0m\u001b[0;34m\u001b[0m\u001b[0;34m\u001b[0m\u001b[0m\n\u001b[0m\u001b[1;32m     30\u001b[0m             \u001b[0m_\u001b[0m\u001b[0;34m,\u001b[0m \u001b[0mtop3_predictions\u001b[0m \u001b[0;34m=\u001b[0m \u001b[0mtorch\u001b[0m\u001b[0;34m.\u001b[0m\u001b[0mtopk\u001b[0m\u001b[0;34m(\u001b[0m\u001b[0moutputs\u001b[0m\u001b[0;34m,\u001b[0m \u001b[0;36m3\u001b[0m\u001b[0;34m)\u001b[0m  \u001b[0;31m# Get the top-3 predictions\u001b[0m\u001b[0;34m\u001b[0m\u001b[0;34m\u001b[0m\u001b[0m\n\u001b[1;32m     31\u001b[0m \u001b[0;34m\u001b[0m\u001b[0m\n",
            "\u001b[0;32m/usr/local/lib/python3.10/dist-packages/torch/nn/modules/module.py\u001b[0m in \u001b[0;36m_call_impl\u001b[0;34m(self, *args, **kwargs)\u001b[0m\n\u001b[1;32m   1499\u001b[0m                 \u001b[0;32mor\u001b[0m \u001b[0m_global_backward_pre_hooks\u001b[0m \u001b[0;32mor\u001b[0m \u001b[0m_global_backward_hooks\u001b[0m\u001b[0;34m\u001b[0m\u001b[0;34m\u001b[0m\u001b[0m\n\u001b[1;32m   1500\u001b[0m                 or _global_forward_hooks or _global_forward_pre_hooks):\n\u001b[0;32m-> 1501\u001b[0;31m             \u001b[0;32mreturn\u001b[0m \u001b[0mforward_call\u001b[0m\u001b[0;34m(\u001b[0m\u001b[0;34m*\u001b[0m\u001b[0margs\u001b[0m\u001b[0;34m,\u001b[0m \u001b[0;34m**\u001b[0m\u001b[0mkwargs\u001b[0m\u001b[0;34m)\u001b[0m\u001b[0;34m\u001b[0m\u001b[0;34m\u001b[0m\u001b[0m\n\u001b[0m\u001b[1;32m   1502\u001b[0m         \u001b[0;31m# Do not call functions when jit is used\u001b[0m\u001b[0;34m\u001b[0m\u001b[0;34m\u001b[0m\u001b[0m\n\u001b[1;32m   1503\u001b[0m         \u001b[0mfull_backward_hooks\u001b[0m\u001b[0;34m,\u001b[0m \u001b[0mnon_full_backward_hooks\u001b[0m \u001b[0;34m=\u001b[0m \u001b[0;34m[\u001b[0m\u001b[0;34m]\u001b[0m\u001b[0;34m,\u001b[0m \u001b[0;34m[\u001b[0m\u001b[0;34m]\u001b[0m\u001b[0;34m\u001b[0m\u001b[0;34m\u001b[0m\u001b[0m\n",
            "\u001b[0;32m<ipython-input-14-9e2c2f1ea531>\u001b[0m in \u001b[0;36mforward\u001b[0;34m(self, x)\u001b[0m\n\u001b[1;32m     46\u001b[0m \u001b[0;34m\u001b[0m\u001b[0m\n\u001b[1;32m     47\u001b[0m   \u001b[0;32mdef\u001b[0m \u001b[0mforward\u001b[0m\u001b[0;34m(\u001b[0m\u001b[0mself\u001b[0m\u001b[0;34m,\u001b[0m \u001b[0mx\u001b[0m\u001b[0;34m)\u001b[0m\u001b[0;34m:\u001b[0m\u001b[0;34m\u001b[0m\u001b[0;34m\u001b[0m\u001b[0m\n\u001b[0;32m---> 48\u001b[0;31m     \u001b[0mx\u001b[0m \u001b[0;34m=\u001b[0m \u001b[0mself\u001b[0m\u001b[0;34m.\u001b[0m\u001b[0mhead\u001b[0m\u001b[0;34m(\u001b[0m\u001b[0mself\u001b[0m\u001b[0;34m.\u001b[0m\u001b[0mbody\u001b[0m\u001b[0;34m(\u001b[0m\u001b[0mself\u001b[0m\u001b[0;34m.\u001b[0m\u001b[0mroot\u001b[0m\u001b[0;34m(\u001b[0m\u001b[0mx\u001b[0m\u001b[0;34m)\u001b[0m\u001b[0;34m)\u001b[0m\u001b[0;34m)\u001b[0m\u001b[0;34m\u001b[0m\u001b[0;34m\u001b[0m\u001b[0m\n\u001b[0m\u001b[1;32m     49\u001b[0m     \u001b[0;32massert\u001b[0m \u001b[0mx\u001b[0m\u001b[0;34m.\u001b[0m\u001b[0mshape\u001b[0m\u001b[0;34m[\u001b[0m\u001b[0;34m-\u001b[0m\u001b[0;36m2\u001b[0m\u001b[0;34m:\u001b[0m\u001b[0;34m]\u001b[0m \u001b[0;34m==\u001b[0m \u001b[0;34m(\u001b[0m\u001b[0;36m1\u001b[0m\u001b[0;34m,\u001b[0m \u001b[0;36m1\u001b[0m\u001b[0;34m)\u001b[0m  \u001b[0;31m# We should have no spatial shape left.\u001b[0m\u001b[0;34m\u001b[0m\u001b[0;34m\u001b[0m\u001b[0m\n\u001b[1;32m     50\u001b[0m     \u001b[0;32mreturn\u001b[0m \u001b[0mx\u001b[0m\u001b[0;34m[\u001b[0m\u001b[0;34m...\u001b[0m\u001b[0;34m,\u001b[0m\u001b[0;36m0\u001b[0m\u001b[0;34m,\u001b[0m\u001b[0;36m0\u001b[0m\u001b[0;34m]\u001b[0m\u001b[0;34m\u001b[0m\u001b[0;34m\u001b[0m\u001b[0m\n",
            "\u001b[0;32m/usr/local/lib/python3.10/dist-packages/torch/nn/modules/module.py\u001b[0m in \u001b[0;36m_call_impl\u001b[0;34m(self, *args, **kwargs)\u001b[0m\n\u001b[1;32m   1499\u001b[0m                 \u001b[0;32mor\u001b[0m \u001b[0m_global_backward_pre_hooks\u001b[0m \u001b[0;32mor\u001b[0m \u001b[0m_global_backward_hooks\u001b[0m\u001b[0;34m\u001b[0m\u001b[0;34m\u001b[0m\u001b[0m\n\u001b[1;32m   1500\u001b[0m                 or _global_forward_hooks or _global_forward_pre_hooks):\n\u001b[0;32m-> 1501\u001b[0;31m             \u001b[0;32mreturn\u001b[0m \u001b[0mforward_call\u001b[0m\u001b[0;34m(\u001b[0m\u001b[0;34m*\u001b[0m\u001b[0margs\u001b[0m\u001b[0;34m,\u001b[0m \u001b[0;34m**\u001b[0m\u001b[0mkwargs\u001b[0m\u001b[0;34m)\u001b[0m\u001b[0;34m\u001b[0m\u001b[0;34m\u001b[0m\u001b[0m\n\u001b[0m\u001b[1;32m   1502\u001b[0m         \u001b[0;31m# Do not call functions when jit is used\u001b[0m\u001b[0;34m\u001b[0m\u001b[0;34m\u001b[0m\u001b[0m\n\u001b[1;32m   1503\u001b[0m         \u001b[0mfull_backward_hooks\u001b[0m\u001b[0;34m,\u001b[0m \u001b[0mnon_full_backward_hooks\u001b[0m \u001b[0;34m=\u001b[0m \u001b[0;34m[\u001b[0m\u001b[0;34m]\u001b[0m\u001b[0;34m,\u001b[0m \u001b[0;34m[\u001b[0m\u001b[0;34m]\u001b[0m\u001b[0;34m\u001b[0m\u001b[0;34m\u001b[0m\u001b[0m\n",
            "\u001b[0;32m/usr/local/lib/python3.10/dist-packages/torch/nn/modules/container.py\u001b[0m in \u001b[0;36mforward\u001b[0;34m(self, input)\u001b[0m\n\u001b[1;32m    215\u001b[0m     \u001b[0;32mdef\u001b[0m \u001b[0mforward\u001b[0m\u001b[0;34m(\u001b[0m\u001b[0mself\u001b[0m\u001b[0;34m,\u001b[0m \u001b[0minput\u001b[0m\u001b[0;34m)\u001b[0m\u001b[0;34m:\u001b[0m\u001b[0;34m\u001b[0m\u001b[0;34m\u001b[0m\u001b[0m\n\u001b[1;32m    216\u001b[0m         \u001b[0;32mfor\u001b[0m \u001b[0mmodule\u001b[0m \u001b[0;32min\u001b[0m \u001b[0mself\u001b[0m\u001b[0;34m:\u001b[0m\u001b[0;34m\u001b[0m\u001b[0;34m\u001b[0m\u001b[0m\n\u001b[0;32m--> 217\u001b[0;31m             \u001b[0minput\u001b[0m \u001b[0;34m=\u001b[0m \u001b[0mmodule\u001b[0m\u001b[0;34m(\u001b[0m\u001b[0minput\u001b[0m\u001b[0;34m)\u001b[0m\u001b[0;34m\u001b[0m\u001b[0;34m\u001b[0m\u001b[0m\n\u001b[0m\u001b[1;32m    218\u001b[0m         \u001b[0;32mreturn\u001b[0m \u001b[0minput\u001b[0m\u001b[0;34m\u001b[0m\u001b[0;34m\u001b[0m\u001b[0m\n\u001b[1;32m    219\u001b[0m \u001b[0;34m\u001b[0m\u001b[0m\n",
            "\u001b[0;32m/usr/local/lib/python3.10/dist-packages/torch/nn/modules/module.py\u001b[0m in \u001b[0;36m_call_impl\u001b[0;34m(self, *args, **kwargs)\u001b[0m\n\u001b[1;32m   1499\u001b[0m                 \u001b[0;32mor\u001b[0m \u001b[0m_global_backward_pre_hooks\u001b[0m \u001b[0;32mor\u001b[0m \u001b[0m_global_backward_hooks\u001b[0m\u001b[0;34m\u001b[0m\u001b[0;34m\u001b[0m\u001b[0m\n\u001b[1;32m   1500\u001b[0m                 or _global_forward_hooks or _global_forward_pre_hooks):\n\u001b[0;32m-> 1501\u001b[0;31m             \u001b[0;32mreturn\u001b[0m \u001b[0mforward_call\u001b[0m\u001b[0;34m(\u001b[0m\u001b[0;34m*\u001b[0m\u001b[0margs\u001b[0m\u001b[0;34m,\u001b[0m \u001b[0;34m**\u001b[0m\u001b[0mkwargs\u001b[0m\u001b[0;34m)\u001b[0m\u001b[0;34m\u001b[0m\u001b[0;34m\u001b[0m\u001b[0m\n\u001b[0m\u001b[1;32m   1502\u001b[0m         \u001b[0;31m# Do not call functions when jit is used\u001b[0m\u001b[0;34m\u001b[0m\u001b[0;34m\u001b[0m\u001b[0m\n\u001b[1;32m   1503\u001b[0m         \u001b[0mfull_backward_hooks\u001b[0m\u001b[0;34m,\u001b[0m \u001b[0mnon_full_backward_hooks\u001b[0m \u001b[0;34m=\u001b[0m \u001b[0;34m[\u001b[0m\u001b[0;34m]\u001b[0m\u001b[0;34m,\u001b[0m \u001b[0;34m[\u001b[0m\u001b[0;34m]\u001b[0m\u001b[0;34m\u001b[0m\u001b[0;34m\u001b[0m\u001b[0m\n",
            "\u001b[0;32m/usr/local/lib/python3.10/dist-packages/torch/nn/modules/container.py\u001b[0m in \u001b[0;36mforward\u001b[0;34m(self, input)\u001b[0m\n\u001b[1;32m    215\u001b[0m     \u001b[0;32mdef\u001b[0m \u001b[0mforward\u001b[0m\u001b[0;34m(\u001b[0m\u001b[0mself\u001b[0m\u001b[0;34m,\u001b[0m \u001b[0minput\u001b[0m\u001b[0;34m)\u001b[0m\u001b[0;34m:\u001b[0m\u001b[0;34m\u001b[0m\u001b[0;34m\u001b[0m\u001b[0m\n\u001b[1;32m    216\u001b[0m         \u001b[0;32mfor\u001b[0m \u001b[0mmodule\u001b[0m \u001b[0;32min\u001b[0m \u001b[0mself\u001b[0m\u001b[0;34m:\u001b[0m\u001b[0;34m\u001b[0m\u001b[0;34m\u001b[0m\u001b[0m\n\u001b[0;32m--> 217\u001b[0;31m             \u001b[0minput\u001b[0m \u001b[0;34m=\u001b[0m \u001b[0mmodule\u001b[0m\u001b[0;34m(\u001b[0m\u001b[0minput\u001b[0m\u001b[0;34m)\u001b[0m\u001b[0;34m\u001b[0m\u001b[0;34m\u001b[0m\u001b[0m\n\u001b[0m\u001b[1;32m    218\u001b[0m         \u001b[0;32mreturn\u001b[0m \u001b[0minput\u001b[0m\u001b[0;34m\u001b[0m\u001b[0;34m\u001b[0m\u001b[0m\n\u001b[1;32m    219\u001b[0m \u001b[0;34m\u001b[0m\u001b[0m\n",
            "\u001b[0;32m/usr/local/lib/python3.10/dist-packages/torch/nn/modules/module.py\u001b[0m in \u001b[0;36m_call_impl\u001b[0;34m(self, *args, **kwargs)\u001b[0m\n\u001b[1;32m   1499\u001b[0m                 \u001b[0;32mor\u001b[0m \u001b[0m_global_backward_pre_hooks\u001b[0m \u001b[0;32mor\u001b[0m \u001b[0m_global_backward_hooks\u001b[0m\u001b[0;34m\u001b[0m\u001b[0;34m\u001b[0m\u001b[0m\n\u001b[1;32m   1500\u001b[0m                 or _global_forward_hooks or _global_forward_pre_hooks):\n\u001b[0;32m-> 1501\u001b[0;31m             \u001b[0;32mreturn\u001b[0m \u001b[0mforward_call\u001b[0m\u001b[0;34m(\u001b[0m\u001b[0;34m*\u001b[0m\u001b[0margs\u001b[0m\u001b[0;34m,\u001b[0m \u001b[0;34m**\u001b[0m\u001b[0mkwargs\u001b[0m\u001b[0;34m)\u001b[0m\u001b[0;34m\u001b[0m\u001b[0;34m\u001b[0m\u001b[0m\n\u001b[0m\u001b[1;32m   1502\u001b[0m         \u001b[0;31m# Do not call functions when jit is used\u001b[0m\u001b[0;34m\u001b[0m\u001b[0;34m\u001b[0m\u001b[0m\n\u001b[1;32m   1503\u001b[0m         \u001b[0mfull_backward_hooks\u001b[0m\u001b[0;34m,\u001b[0m \u001b[0mnon_full_backward_hooks\u001b[0m \u001b[0;34m=\u001b[0m \u001b[0;34m[\u001b[0m\u001b[0;34m]\u001b[0m\u001b[0;34m,\u001b[0m \u001b[0;34m[\u001b[0m\u001b[0;34m]\u001b[0m\u001b[0;34m\u001b[0m\u001b[0;34m\u001b[0m\u001b[0m\n",
            "\u001b[0;32m<ipython-input-13-4dcdab586be3>\u001b[0m in \u001b[0;36mforward\u001b[0;34m(self, x)\u001b[0m\n\u001b[1;32m     25\u001b[0m   \u001b[0;32mdef\u001b[0m \u001b[0mforward\u001b[0m\u001b[0;34m(\u001b[0m\u001b[0mself\u001b[0m\u001b[0;34m,\u001b[0m \u001b[0mx\u001b[0m\u001b[0;34m)\u001b[0m\u001b[0;34m:\u001b[0m\u001b[0;34m\u001b[0m\u001b[0;34m\u001b[0m\u001b[0m\n\u001b[1;32m     26\u001b[0m       \u001b[0;31m# Conv'ed branch\u001b[0m\u001b[0;34m\u001b[0m\u001b[0;34m\u001b[0m\u001b[0m\n\u001b[0;32m---> 27\u001b[0;31m       \u001b[0mout\u001b[0m \u001b[0;34m=\u001b[0m \u001b[0mself\u001b[0m\u001b[0;34m.\u001b[0m\u001b[0mrelu\u001b[0m\u001b[0;34m(\u001b[0m\u001b[0mself\u001b[0m\u001b[0;34m.\u001b[0m\u001b[0mgn1\u001b[0m\u001b[0;34m(\u001b[0m\u001b[0mx\u001b[0m\u001b[0;34m)\u001b[0m\u001b[0;34m)\u001b[0m\u001b[0;34m\u001b[0m\u001b[0;34m\u001b[0m\u001b[0m\n\u001b[0m\u001b[1;32m     28\u001b[0m \u001b[0;34m\u001b[0m\u001b[0m\n\u001b[1;32m     29\u001b[0m       \u001b[0;31m# Residual branch\u001b[0m\u001b[0;34m\u001b[0m\u001b[0;34m\u001b[0m\u001b[0m\n",
            "\u001b[0;32m/usr/local/lib/python3.10/dist-packages/torch/nn/modules/module.py\u001b[0m in \u001b[0;36m_call_impl\u001b[0;34m(self, *args, **kwargs)\u001b[0m\n\u001b[1;32m   1499\u001b[0m                 \u001b[0;32mor\u001b[0m \u001b[0m_global_backward_pre_hooks\u001b[0m \u001b[0;32mor\u001b[0m \u001b[0m_global_backward_hooks\u001b[0m\u001b[0;34m\u001b[0m\u001b[0;34m\u001b[0m\u001b[0m\n\u001b[1;32m   1500\u001b[0m                 or _global_forward_hooks or _global_forward_pre_hooks):\n\u001b[0;32m-> 1501\u001b[0;31m             \u001b[0;32mreturn\u001b[0m \u001b[0mforward_call\u001b[0m\u001b[0;34m(\u001b[0m\u001b[0;34m*\u001b[0m\u001b[0margs\u001b[0m\u001b[0;34m,\u001b[0m \u001b[0;34m**\u001b[0m\u001b[0mkwargs\u001b[0m\u001b[0;34m)\u001b[0m\u001b[0;34m\u001b[0m\u001b[0;34m\u001b[0m\u001b[0m\n\u001b[0m\u001b[1;32m   1502\u001b[0m         \u001b[0;31m# Do not call functions when jit is used\u001b[0m\u001b[0;34m\u001b[0m\u001b[0;34m\u001b[0m\u001b[0m\n\u001b[1;32m   1503\u001b[0m         \u001b[0mfull_backward_hooks\u001b[0m\u001b[0;34m,\u001b[0m \u001b[0mnon_full_backward_hooks\u001b[0m \u001b[0;34m=\u001b[0m \u001b[0;34m[\u001b[0m\u001b[0;34m]\u001b[0m\u001b[0;34m,\u001b[0m \u001b[0;34m[\u001b[0m\u001b[0;34m]\u001b[0m\u001b[0;34m\u001b[0m\u001b[0;34m\u001b[0m\u001b[0m\n",
            "\u001b[0;32m/usr/local/lib/python3.10/dist-packages/torch/nn/modules/normalization.py\u001b[0m in \u001b[0;36mforward\u001b[0;34m(self, input)\u001b[0m\n\u001b[1;32m    271\u001b[0m \u001b[0;34m\u001b[0m\u001b[0m\n\u001b[1;32m    272\u001b[0m     \u001b[0;32mdef\u001b[0m \u001b[0mforward\u001b[0m\u001b[0;34m(\u001b[0m\u001b[0mself\u001b[0m\u001b[0;34m,\u001b[0m \u001b[0minput\u001b[0m\u001b[0;34m:\u001b[0m \u001b[0mTensor\u001b[0m\u001b[0;34m)\u001b[0m \u001b[0;34m->\u001b[0m \u001b[0mTensor\u001b[0m\u001b[0;34m:\u001b[0m\u001b[0;34m\u001b[0m\u001b[0;34m\u001b[0m\u001b[0m\n\u001b[0;32m--> 273\u001b[0;31m         return F.group_norm(\n\u001b[0m\u001b[1;32m    274\u001b[0m             input, self.num_groups, self.weight, self.bias, self.eps)\n\u001b[1;32m    275\u001b[0m \u001b[0;34m\u001b[0m\u001b[0m\n",
            "\u001b[0;32m/usr/local/lib/python3.10/dist-packages/torch/nn/functional.py\u001b[0m in \u001b[0;36mgroup_norm\u001b[0;34m(input, num_groups, weight, bias, eps)\u001b[0m\n\u001b[1;32m   2528\u001b[0m         \u001b[0;32mraise\u001b[0m \u001b[0mRuntimeError\u001b[0m\u001b[0;34m(\u001b[0m\u001b[0;34mf\"Expected at least 2 dimensions for input tensor but received {input.dim()}\"\u001b[0m\u001b[0;34m)\u001b[0m\u001b[0;34m\u001b[0m\u001b[0;34m\u001b[0m\u001b[0m\n\u001b[1;32m   2529\u001b[0m     \u001b[0m_verify_batch_size\u001b[0m\u001b[0;34m(\u001b[0m\u001b[0;34m[\u001b[0m\u001b[0minput\u001b[0m\u001b[0;34m.\u001b[0m\u001b[0msize\u001b[0m\u001b[0;34m(\u001b[0m\u001b[0;36m0\u001b[0m\u001b[0;34m)\u001b[0m \u001b[0;34m*\u001b[0m \u001b[0minput\u001b[0m\u001b[0;34m.\u001b[0m\u001b[0msize\u001b[0m\u001b[0;34m(\u001b[0m\u001b[0;36m1\u001b[0m\u001b[0;34m)\u001b[0m \u001b[0;34m//\u001b[0m \u001b[0mnum_groups\u001b[0m\u001b[0;34m,\u001b[0m \u001b[0mnum_groups\u001b[0m\u001b[0;34m]\u001b[0m \u001b[0;34m+\u001b[0m \u001b[0mlist\u001b[0m\u001b[0;34m(\u001b[0m\u001b[0minput\u001b[0m\u001b[0;34m.\u001b[0m\u001b[0msize\u001b[0m\u001b[0;34m(\u001b[0m\u001b[0;34m)\u001b[0m\u001b[0;34m[\u001b[0m\u001b[0;36m2\u001b[0m\u001b[0;34m:\u001b[0m\u001b[0;34m]\u001b[0m\u001b[0;34m)\u001b[0m\u001b[0;34m)\u001b[0m\u001b[0;34m\u001b[0m\u001b[0;34m\u001b[0m\u001b[0m\n\u001b[0;32m-> 2530\u001b[0;31m     \u001b[0;32mreturn\u001b[0m \u001b[0mtorch\u001b[0m\u001b[0;34m.\u001b[0m\u001b[0mgroup_norm\u001b[0m\u001b[0;34m(\u001b[0m\u001b[0minput\u001b[0m\u001b[0;34m,\u001b[0m \u001b[0mnum_groups\u001b[0m\u001b[0;34m,\u001b[0m \u001b[0mweight\u001b[0m\u001b[0;34m,\u001b[0m \u001b[0mbias\u001b[0m\u001b[0;34m,\u001b[0m \u001b[0meps\u001b[0m\u001b[0;34m,\u001b[0m \u001b[0mtorch\u001b[0m\u001b[0;34m.\u001b[0m\u001b[0mbackends\u001b[0m\u001b[0;34m.\u001b[0m\u001b[0mcudnn\u001b[0m\u001b[0;34m.\u001b[0m\u001b[0menabled\u001b[0m\u001b[0;34m)\u001b[0m\u001b[0;34m\u001b[0m\u001b[0;34m\u001b[0m\u001b[0m\n\u001b[0m\u001b[1;32m   2531\u001b[0m \u001b[0;34m\u001b[0m\u001b[0m\n\u001b[1;32m   2532\u001b[0m \u001b[0;34m\u001b[0m\u001b[0m\n",
            "\u001b[0;31mRuntimeError\u001b[0m: Expected weight to be a vector of size equal to the number of channels in input, but got weight of shape [64] and input of shape [64, 32, 32]"
          ]
        }
      ],
      "source": [
        "testset = torch.utils.data.DataLoader(test_dataset, batch_size=100, shuffle=False, num_workers=4)\n",
        "\n",
        "import torch\n",
        "import torch.nn as nn\n",
        "\n",
        "# Load your BiT-m model (you should replace 'your_model_path' with the actual path)\n",
        "model = ResNetV2(ResNetV2.BLOCK_UNITS['r50'], width_factor=1, head_size=21843)  # NOTE: No new head.\n",
        "# model.load_from(weights_cifar10)\n",
        "model.load_from(weights)\n",
        "model.to(device);\n",
        "model.head.conv = nn.Conv2d(2048, 50, kernel_size=(1, 1), stride=(1, 1)).cuda()\n",
        "model = model.cuda()\n",
        "model_path = 'BiT_m_cls_10_best_epoch.pth'\n",
        "model.load_state_dict(torch.load(model_path))\n",
        "\n",
        "# Assuming you have a test dataloader called 'test_loader' for your dataset\n",
        "# Make sure the data is properly preprocessed and loaded\n",
        "\n",
        "def calculate_top3_accuracy(model, data_loader):\n",
        "    model.eval()\n",
        "    top3_correct = 0\n",
        "    total_samples = 0\n",
        "\n",
        "    with torch.no_grad():\n",
        "        for inputs, labels in train_5shot:\n",
        "            inputs = inputs.to('cuda' if torch.cuda.is_available() else 'cpu')\n",
        "            labels = labels\n",
        "\n",
        "            outputs = model(inputs)\n",
        "            _, top3_predictions = torch.topk(outputs, 3)  # Get the top-3 predictions\n",
        "\n",
        "            total_samples += labels.size(0)\n",
        "            top3_correct += torch.sum(torch.any(top3_predictions == labels.view(-1, 1), dim=1))\n",
        "\n",
        "    top3_accuracy = top3_correct / total_samples\n",
        "    return top3_accuracy\n",
        "\n",
        "# Calculate top-3 accuracy using your test_loader\n",
        "top3_accuracy = calculate_top3_accuracy(model, testset)\n",
        "\n",
        "# Print the top-3 accuracy\n",
        "print(f\"Top-3 accuracy: {top3_accuracy * 100:.2f}%\")"
      ]
    },
    {
      "cell_type": "code",
      "source": [],
      "metadata": {
        "id": "yW1JAaClSM-_"
      },
      "execution_count": null,
      "outputs": []
    }
  ],
  "metadata": {
    "accelerator": "GPU",
    "colab": {
      "machine_shape": "hm",
      "provenance": [],
      "gpuType": "T4"
    },
    "kernelspec": {
      "display_name": "Python 3",
      "name": "python3"
    }
  },
  "nbformat": 4,
  "nbformat_minor": 0
}