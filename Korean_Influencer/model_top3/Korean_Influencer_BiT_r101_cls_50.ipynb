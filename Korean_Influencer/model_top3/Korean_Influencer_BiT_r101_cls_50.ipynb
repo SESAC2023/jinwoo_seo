{
  "cells": [
    {
      "cell_type": "markdown",
      "metadata": {
        "id": "sXhZm0kpPpH6"
      },
      "source": [
        "##### Copyright 2020 Google LLC."
      ]
    },
    {
      "cell_type": "code",
      "execution_count": null,
      "metadata": {
        "cellView": "form",
        "id": "KfmzfvFxPuk7"
      },
      "outputs": [],
      "source": [
        "#@title Licensed under the Apache License, Version 2.0 (the \"License\");\n",
        "# Licensed under the Apache License, Version 2.0 (the \"License\");\n",
        "# you may not use this file except in compliance with the License.\n",
        "# You may obtain a copy of the License at\n",
        "#\n",
        "# https://www.apache.org/licenses/LICENSE-2.0\n",
        "#\n",
        "# Unless required by applicable law or agreed to in writing, software\n",
        "# distributed under the License is distributed on an \"AS IS\" BASIS,\n",
        "# WITHOUT WARRANTIES OR CONDITIONS OF ANY KIND, either express or implied.\n",
        "# See the License for the specific language governing permissions and\n",
        "# limitations under the License."
      ]
    },
    {
      "cell_type": "markdown",
      "metadata": {
        "id": "iOVCm4CnP1Do"
      },
      "source": [
        "<a href=\"https://colab.research.google.com/github/google-research/big_transfer/blob/master/colabs/big_transfer_pytorch.ipynb\" target=\"_parent\"><img src=\"https://colab.research.google.com/assets/colab-badge.svg\" alt=\"Open In Colab\"/></a>"
      ]
    },
    {
      "cell_type": "markdown",
      "metadata": {
        "id": "HlyBC_2SNzEH"
      },
      "source": [
        "# BigTransfer (BiT): A step-by-step tutorial for state-of-the-art vision\n",
        "\n",
        "This colab demonstrates how to:\n",
        "1. Load BiT models in PyTorch\n",
        "2. Make predictions using BiT pre-trained on ImageNet\n",
        "3. Fine-tune BiT on 5-shot CIFAR10 and get amazing results!\n",
        "\n",
        "It is good to get an understanding or quickly try things. However, to run longer training runs, we recommend using the commandline scripts at http://github.com/google-research/big_transfer"
      ]
    },
    {
      "cell_type": "code",
      "execution_count": null,
      "metadata": {
        "colab": {
          "base_uri": "https://localhost:8080/"
        },
        "id": "sCcQBon0YyOu",
        "outputId": "e2abb2b5-c6e7-47c2-d9f2-a532ea3e4401"
      },
      "outputs": [
        {
          "output_type": "stream",
          "name": "stdout",
          "text": [
            "Mounted at /content/drive\n"
          ]
        }
      ],
      "source": [
        "from google.colab import drive\n",
        "drive.mount('/content/drive')"
      ]
    },
    {
      "cell_type": "code",
      "execution_count": null,
      "metadata": {
        "id": "m_pYOW__egIS"
      },
      "outputs": [],
      "source": [
        "# BiT는 기본적으로 세 가지 데이터 세트에 대하여 ResNet 기반의 모델로 학습을 진행\n",
        "# 1) Small dataset: ImageNet-1k (약 100만 개)\n",
        "# 2) Medium dataset: ImageNet 원본 (약 2100만 개)\n",
        "# 3) Large dataset: 억 단위 이미지 데이터 세트\n",
        "\n",
        "# Large로 학습한 뒤에 ImageNet-1k로 Fine-tuning하면 거의 88% 얻음\n",
        "# 참고로 그냥 small dataest으로만 학습하면 80% 정도 성능 얻음"
      ]
    },
    {
      "cell_type": "code",
      "execution_count": null,
      "metadata": {
        "id": "2MCUeLqhqh6d"
      },
      "outputs": [],
      "source": [
        "from functools import partial\n",
        "from collections import OrderedDict"
      ]
    },
    {
      "cell_type": "code",
      "execution_count": null,
      "metadata": {
        "id": "fg2boM5BfvpF"
      },
      "outputs": [],
      "source": [
        "%config InlineBackend.figure_format = 'retina'\n",
        "\n",
        "import numpy as np\n",
        "import seaborn as sn\n",
        "import pandas as pd\n",
        "\n",
        "import matplotlib.pyplot as plt\n",
        "from mpl_toolkits.axes_grid1 import ImageGrid"
      ]
    },
    {
      "cell_type": "code",
      "execution_count": null,
      "metadata": {
        "id": "FKYlZVpGo9jZ"
      },
      "outputs": [],
      "source": [
        "import torchvision.models as models\n",
        "import torch\n",
        "import torch.nn as nn\n",
        "import torch.nn.functional as F\n",
        "from torch.autograd import Variable\n",
        "\n",
        "import torchvision as tv\n",
        "from torch.utils.data import DataLoader\n",
        "import torch.optim as optim\n"
      ]
    },
    {
      "cell_type": "code",
      "execution_count": null,
      "metadata": {
        "colab": {
          "base_uri": "https://localhost:8080/"
        },
        "id": "gW-XMhiVi0nh",
        "outputId": "ef7bf1a9-b644-4856-d060-fbd0852c9b29"
      },
      "outputs": [
        {
          "output_type": "stream",
          "name": "stdout",
          "text": [
            "cuda:0\n"
          ]
        }
      ],
      "source": [
        "device = torch.device(\"cuda:0\" if torch.cuda.is_available() else \"cpu\")\n",
        "print(device)"
      ]
    },
    {
      "cell_type": "markdown",
      "metadata": {
        "id": "C_lOBZYwy1SW"
      },
      "source": [
        "# Reading weight data from the Cloud bucket"
      ]
    },
    {
      "cell_type": "code",
      "execution_count": null,
      "metadata": {
        "id": "sg5HNzLyzubz"
      },
      "outputs": [],
      "source": [
        "import requests\n",
        "import io"
      ]
    },
    {
      "cell_type": "code",
      "execution_count": null,
      "metadata": {
        "id": "xC6YhfLb1ZGE"
      },
      "outputs": [],
      "source": [
        "def get_weights(bit_variant):\n",
        "  response = requests.get(f'https://storage.googleapis.com/bit_models/{bit_variant}.npz')\n",
        "  response.raise_for_status()\n",
        "  return np.load(io.BytesIO(response.content))"
      ]
    },
    {
      "cell_type": "code",
      "execution_count": null,
      "metadata": {
        "id": "Exuy13Igwa_X"
      },
      "outputs": [],
      "source": [
        "weights = get_weights('BiT-M-R101x1')  # You could use other variants, such as R101x3 or R152x4 here, but it is not advisable in a colab."
      ]
    },
    {
      "cell_type": "markdown",
      "metadata": {
        "id": "mWzT0g8x6feo"
      },
      "source": [
        "# Defining the architecture and loading weights"
      ]
    },
    {
      "cell_type": "code",
      "execution_count": null,
      "metadata": {
        "id": "y00wwFQvrwsX"
      },
      "outputs": [],
      "source": [
        "class StdConv2d(nn.Conv2d):\n",
        "  def forward(self, x):\n",
        "    w = self.weight\n",
        "    v, m = torch.var_mean(w, dim=[1, 2, 3], keepdim=True, unbiased=False)\n",
        "    w = (w - m) / torch.sqrt(v + 1e-10)\n",
        "    return F.conv2d(x, w, self.bias, self.stride, self.padding, self.dilation, self.groups)"
      ]
    },
    {
      "cell_type": "code",
      "execution_count": null,
      "metadata": {
        "id": "lgXeQXKVpPqV"
      },
      "outputs": [],
      "source": [
        "def conv3x3(cin, cout, stride=1, groups=1, bias=False):\n",
        "  return StdConv2d(cin, cout, kernel_size=3, stride=stride, padding=1, bias=bias, groups=groups)\n",
        "\n",
        "def conv1x1(cin, cout, stride=1, bias=False):\n",
        "  return StdConv2d(cin, cout, kernel_size=1, stride=stride, padding=0, bias=bias)"
      ]
    },
    {
      "cell_type": "code",
      "execution_count": null,
      "metadata": {
        "id": "f4yzODhR6U6p"
      },
      "outputs": [],
      "source": [
        "def tf2th(conv_weights):\n",
        "  \"\"\"Possibly convert HWIO to OIHW\"\"\"\n",
        "  if conv_weights.ndim == 4:\n",
        "    conv_weights = np.transpose(conv_weights, [3, 2, 0, 1])\n",
        "  return torch.from_numpy(conv_weights)"
      ]
    },
    {
      "cell_type": "code",
      "execution_count": null,
      "metadata": {
        "id": "tNq34tmsqgXG"
      },
      "outputs": [],
      "source": [
        "class PreActBottleneck(nn.Module):\n",
        "  \"\"\"\n",
        "  Follows the implementation of \"Identity Mappings in Deep Residual Networks\" here:\n",
        "  https://github.com/KaimingHe/resnet-1k-layers/blob/master/resnet-pre-act.lua\n",
        "\n",
        "  Except it puts the stride on 3x3 conv when available.\n",
        "  \"\"\"\n",
        "  def __init__(self, cin, cout=None, cmid=None, stride=1):\n",
        "    super().__init__()\n",
        "    cout = cout or cin\n",
        "    cmid = cmid or cout//4\n",
        "\n",
        "    self.gn1 = nn.GroupNorm(32, cin)\n",
        "    self.conv1 = conv1x1(cin, cmid)\n",
        "    self.gn2 = nn.GroupNorm(32, cmid)\n",
        "    self.conv2 = conv3x3(cmid, cmid, stride)  # Original ResNetv2 has it on conv1!!\n",
        "    self.gn3 = nn.GroupNorm(32, cmid)\n",
        "    self.conv3 = conv1x1(cmid, cout)\n",
        "    self.relu = nn.ReLU(inplace=True)\n",
        "\n",
        "    if (stride != 1 or cin != cout):\n",
        "      # Projection also with pre-activation according to paper.\n",
        "      self.downsample = conv1x1(cin, cout, stride)\n",
        "\n",
        "  def forward(self, x):\n",
        "      # Conv'ed branch\n",
        "      out = self.relu(self.gn1(x))\n",
        "\n",
        "      # Residual branch\n",
        "      residual = x\n",
        "      if hasattr(self, 'downsample'):\n",
        "          residual = self.downsample(out)\n",
        "\n",
        "      # The first block has already applied pre-act before splitting, see Appendix.\n",
        "      out = self.conv1(out)\n",
        "      out = self.conv2(self.relu(self.gn2(out)))\n",
        "      out = self.conv3(self.relu(self.gn3(out)))\n",
        "\n",
        "      return out + residual\n",
        "\n",
        "  def load_from(self, weights, prefix=''):\n",
        "    with torch.no_grad():\n",
        "      self.conv1.weight.copy_(tf2th(weights[prefix + 'a/standardized_conv2d/kernel']))\n",
        "      self.conv2.weight.copy_(tf2th(weights[prefix + 'b/standardized_conv2d/kernel']))\n",
        "      self.conv3.weight.copy_(tf2th(weights[prefix + 'c/standardized_conv2d/kernel']))\n",
        "      self.gn1.weight.copy_(tf2th(weights[prefix + 'a/group_norm/gamma']))\n",
        "      self.gn2.weight.copy_(tf2th(weights[prefix + 'b/group_norm/gamma']))\n",
        "      self.gn3.weight.copy_(tf2th(weights[prefix + 'c/group_norm/gamma']))\n",
        "      self.gn1.bias.copy_(tf2th(weights[prefix + 'a/group_norm/beta']))\n",
        "      self.gn2.bias.copy_(tf2th(weights[prefix + 'b/group_norm/beta']))\n",
        "      self.gn3.bias.copy_(tf2th(weights[prefix + 'c/group_norm/beta']))\n",
        "      if hasattr(self, 'downsample'):\n",
        "        self.downsample.weight.copy_(tf2th(weights[prefix + 'a/proj/standardized_conv2d/kernel']))\n",
        "    return self"
      ]
    },
    {
      "cell_type": "code",
      "execution_count": null,
      "metadata": {
        "id": "6fGKjfXm60pY"
      },
      "outputs": [],
      "source": [
        "class ResNetV2(nn.Module):\n",
        "  BLOCK_UNITS = {\n",
        "      'r50': [3, 4, 6, 3],\n",
        "      'r101': [3, 4, 23, 3],\n",
        "      'r152': [3, 8, 36, 3],\n",
        "  }\n",
        "\n",
        "  def __init__(self, block_units, width_factor, head_size=21843, zero_head=False):\n",
        "    super().__init__()\n",
        "    wf = width_factor  # shortcut 'cause we'll use it a lot.\n",
        "\n",
        "    self.root = nn.Sequential(OrderedDict([\n",
        "        ('conv', StdConv2d(3, 64*wf, kernel_size=7, stride=2, padding=3, bias=False)),\n",
        "        ('padp', nn.ConstantPad2d(1, 0)),\n",
        "        ('pool', nn.MaxPool2d(kernel_size=3, stride=2, padding=0)),\n",
        "        # The following is subtly not the same!\n",
        "        #('pool', nn.MaxPool2d(kernel_size=3, stride=2, padding=1)),\n",
        "    ]))\n",
        "\n",
        "    self.body = nn.Sequential(OrderedDict([\n",
        "        ('block1', nn.Sequential(OrderedDict(\n",
        "            [('unit01', PreActBottleneck(cin= 64*wf, cout=256*wf, cmid=64*wf))] +\n",
        "            [(f'unit{i:02d}', PreActBottleneck(cin=256*wf, cout=256*wf, cmid=64*wf)) for i in range(2, block_units[0] + 1)],\n",
        "        ))),\n",
        "        ('block2', nn.Sequential(OrderedDict(\n",
        "            [('unit01', PreActBottleneck(cin=256*wf, cout=512*wf, cmid=128*wf, stride=2))] +\n",
        "            [(f'unit{i:02d}', PreActBottleneck(cin=512*wf, cout=512*wf, cmid=128*wf)) for i in range(2, block_units[1] + 1)],\n",
        "        ))),\n",
        "        ('block3', nn.Sequential(OrderedDict(\n",
        "            [('unit01', PreActBottleneck(cin= 512*wf, cout=1024*wf, cmid=256*wf, stride=2))] +\n",
        "            [(f'unit{i:02d}', PreActBottleneck(cin=1024*wf, cout=1024*wf, cmid=256*wf)) for i in range(2, block_units[2] + 1)],\n",
        "        ))),\n",
        "        ('block4', nn.Sequential(OrderedDict(\n",
        "            [('unit01', PreActBottleneck(cin=1024*wf, cout=2048*wf, cmid=512*wf, stride=2))] +\n",
        "            [(f'unit{i:02d}', PreActBottleneck(cin=2048*wf, cout=2048*wf, cmid=512*wf)) for i in range(2, block_units[3] + 1)],\n",
        "        ))),\n",
        "    ]))\n",
        "\n",
        "    self.zero_head = zero_head\n",
        "    self.head = nn.Sequential(OrderedDict([\n",
        "        ('gn', nn.GroupNorm(32, 2048*wf)),\n",
        "        ('relu', nn.ReLU(inplace=True)),\n",
        "        ('avg', nn.AdaptiveAvgPool2d(output_size=1)),\n",
        "        ('conv', nn.Conv2d(2048*wf, head_size, kernel_size=1, bias=True)),\n",
        "    ]))\n",
        "\n",
        "  def forward(self, x):\n",
        "    x = self.head(self.body(self.root(x)))\n",
        "    assert x.shape[-2:] == (1, 1)  # We should have no spatial shape left.\n",
        "    return x[...,0,0]\n",
        "\n",
        "  def load_from(self, weights, prefix='resnet/'):\n",
        "    with torch.no_grad():\n",
        "      self.root.conv.weight.copy_(tf2th(weights[f'{prefix}root_block/standardized_conv2d/kernel']))\n",
        "      self.head.gn.weight.copy_(tf2th(weights[f'{prefix}group_norm/gamma']))\n",
        "      self.head.gn.bias.copy_(tf2th(weights[f'{prefix}group_norm/beta']))\n",
        "      if self.zero_head:\n",
        "        nn.init.zeros_(self.head.conv.weight)\n",
        "        nn.init.zeros_(self.head.conv.bias)\n",
        "      else:\n",
        "        self.head.conv.weight.copy_(tf2th(weights[f'{prefix}head/conv2d/kernel']))\n",
        "        self.head.conv.bias.copy_(tf2th(weights[f'{prefix}head/conv2d/bias']))\n",
        "\n",
        "      for bname, block in self.body.named_children():\n",
        "        for uname, unit in block.named_children():\n",
        "          unit.load_from(weights, prefix=f'{prefix}{bname}/{uname}/')\n",
        "    return self"
      ]
    },
    {
      "cell_type": "markdown",
      "metadata": {
        "id": "zDMzHsUFsmRu"
      },
      "source": [
        "# Boilerplate"
      ]
    },
    {
      "cell_type": "code",
      "execution_count": null,
      "metadata": {
        "id": "yk7RAE3bsntF"
      },
      "outputs": [],
      "source": [
        "from IPython.display import HTML, display\n",
        "\n",
        "def progress(value, max=100):\n",
        "    return HTML(\"\"\"\n",
        "        <progress\n",
        "            value='{value}'\n",
        "            max='{max}',\n",
        "            style='width: 100%'\n",
        "        >\n",
        "            {value}\n",
        "        </progress>\n",
        "    \"\"\".format(value=value, max=max))"
      ]
    },
    {
      "cell_type": "code",
      "execution_count": null,
      "metadata": {
        "id": "6wSnf5r8V4-T"
      },
      "outputs": [],
      "source": [
        "def stairs(s, v, *svs):\n",
        "    \"\"\" Implements a typical \"stairs\" schedule for learning-rates.\n",
        "    Best explained by example:\n",
        "    stairs(s, 0.1, 10, 0.01, 20, 0.001)\n",
        "    will return 0.1 if s<10, 0.01 if 10<=s<20, and 0.001 if 20<=s\n",
        "    \"\"\"\n",
        "    for s0, v0 in zip(svs[::2], svs[1::2]):\n",
        "        if s < s0:\n",
        "            break\n",
        "        v = v0\n",
        "    return v\n",
        "\n",
        "def rampup(s, peak_s, peak_lr):\n",
        "  if s < peak_s:  # Warmup\n",
        "    return s/peak_s * peak_lr\n",
        "  else:\n",
        "    return peak_lr\n",
        "\n",
        "def schedule(s):\n",
        "  step_lr = stairs(s, 3e-3, 200, 3e-4, 300, 3e-5, 400, 3e-6, 500, None)\n",
        "  return rampup(s, 100, step_lr)"
      ]
    },
    {
      "cell_type": "markdown",
      "metadata": {
        "id": "M3Cad5gsWeAC"
      },
      "source": [
        "# CIFAR-10 Example"
      ]
    },
    {
      "cell_type": "code",
      "execution_count": null,
      "metadata": {
        "id": "3BgTS5vKcjJI"
      },
      "outputs": [],
      "source": [
        "import PIL"
      ]
    },
    {
      "cell_type": "code",
      "execution_count": null,
      "metadata": {
        "id": "jnf9xjSoUacE"
      },
      "outputs": [],
      "source": [
        "import torchvision.transforms as transforms\n",
        "import os\n",
        "from torch.utils.data import random_split\n",
        "\n",
        "# Define the root path to the train and test folders\n",
        "root_folder = '/content/drive/MyDrive/korea_influencer/'\n",
        "\n",
        "# Define subfolder paths\n",
        "# train_folder = os.path.join(root_folder, 'train')\n",
        "test_folder = os.path.join(root_folder, 'test')\n",
        "train_tiny_folder = os.path.join(root_folder, 'KI_tiny_50')\n",
        "\n",
        "preprocess_train = tv.transforms.Compose([\n",
        "    tv.transforms.Resize((160, 160), interpolation=PIL.Image.BILINEAR),  # It's the default, just being explicit for the reader.\n",
        "    tv.transforms.RandomCrop((128, 128)),\n",
        "    tv.transforms.RandomHorizontalFlip(),\n",
        "    tv.transforms.ToTensor(),\n",
        "    tv.transforms.Normalize((0.5, 0.5, 0.5), (0.5, 0.5, 0.5))  # Get data into [-1, 1]\n",
        "])\n",
        "\n",
        "preprocess_val = tv.transforms.Compose([\n",
        "    tv.transforms.Resize((128, 128), interpolation=PIL.Image.BILINEAR),\n",
        "    tv.transforms.ToTensor(),\n",
        "    tv.transforms.Normalize((0.5, 0.5, 0.5), (0.5, 0.5, 0.5))\n",
        "])\n",
        "\n",
        "preprocess_eval = tv.transforms.Compose([\n",
        "    tv.transforms.Resize((128, 128), interpolation=PIL.Image.BILINEAR),\n",
        "    tv.transforms.ToTensor(),\n",
        "    tv.transforms.Normalize((0.5, 0.5, 0.5), (0.5, 0.5, 0.5))\n",
        "])\n",
        "\n",
        "# Create custom datasets using the ImageFolder dataset class\n",
        "# train_dataset = tv.datasets.ImageFolder(root=train_folder, transform=preprocess_train)\n",
        "test_dataset = tv.datasets.ImageFolder(root=test_folder, transform=preprocess_eval)\n",
        "\n",
        "# # Load only 5 pieces of data for each class\n",
        "# num_samples_per_class = 10\n",
        "# subset_indices_train = []\n",
        "# for class_idx_train in range(len(train_dataset.classes)):\n",
        "#     class_indices_train = [idx for idx, label in enumerate(train_dataset.targets) if label == class_idx_train]\n",
        "#     subset_indices_train.extend(class_indices_train[:num_samples_per_class])\n",
        "\n",
        "# # Create a subset dataset with only 5 samples per class\n",
        "# train_dataset_subset = torch.utils.data.Subset(train_dataset, subset_indices_train)\n",
        "\n",
        "#train / val 9:1\n",
        "# dataset_size = len(train_dataset)\n",
        "# train_size = int(dataset_size * 0.9)\n",
        "# val_size = dataset_size - train_size\n",
        "\n",
        "# train_dataset_jin, val_dataset_jin = random_split(train_dataset, [train_size, val_size])\n",
        "\n",
        "# Set batch sizes and create data loaders\n",
        "batch_size_train = 64\n",
        "batch_size_val = 64\n",
        "batch_size_test = 64\n",
        "\n",
        "# trainset = torch.utils.data.DataLoader(train_dataset_jin, batch_size=batch_size_train, shuffle=True, num_workers=4)\n",
        "# valset = torch.utils.data.DataLoader(val_dataset_jin, batch_size=batch_size_val, shuffle=False, num_workers = 4)\n",
        "# testset = torch.utils.data.DataLoader(test_dataset, batch_size=batch_size_test, shuffle=False, num_workers=4)"
      ]
    },
    {
      "cell_type": "markdown",
      "metadata": {
        "id": "V7aYBd532f0n"
      },
      "source": [
        "## Eval pre-trained model (verify conversion)"
      ]
    },
    {
      "cell_type": "code",
      "execution_count": null,
      "metadata": {
        "id": "Ih562Vl820Fw"
      },
      "outputs": [],
      "source": [
        "model = ResNetV2(ResNetV2.BLOCK_UNITS['r101'], width_factor=1, head_size=21843)  # NOTE: No new head.\n",
        "model.load_from(weights)\n",
        "model.to(device);"
      ]
    },
    {
      "cell_type": "code",
      "execution_count": null,
      "metadata": {
        "colab": {
          "base_uri": "https://localhost:8080/"
        },
        "id": "MWJ512GVeYZK",
        "outputId": "aeb01ffe-2ef9-4c53-b695-755142b9a0de"
      },
      "outputs": [
        {
          "output_type": "execute_result",
          "data": {
            "text/plain": [
              "ResNetV2(\n",
              "  (root): Sequential(\n",
              "    (conv): StdConv2d(3, 64, kernel_size=(7, 7), stride=(2, 2), padding=(3, 3), bias=False)\n",
              "    (padp): ConstantPad2d(padding=(1, 1, 1, 1), value=0)\n",
              "    (pool): MaxPool2d(kernel_size=3, stride=2, padding=0, dilation=1, ceil_mode=False)\n",
              "  )\n",
              "  (body): Sequential(\n",
              "    (block1): Sequential(\n",
              "      (unit01): PreActBottleneck(\n",
              "        (gn1): GroupNorm(32, 64, eps=1e-05, affine=True)\n",
              "        (conv1): StdConv2d(64, 64, kernel_size=(1, 1), stride=(1, 1), bias=False)\n",
              "        (gn2): GroupNorm(32, 64, eps=1e-05, affine=True)\n",
              "        (conv2): StdConv2d(64, 64, kernel_size=(3, 3), stride=(1, 1), padding=(1, 1), bias=False)\n",
              "        (gn3): GroupNorm(32, 64, eps=1e-05, affine=True)\n",
              "        (conv3): StdConv2d(64, 256, kernel_size=(1, 1), stride=(1, 1), bias=False)\n",
              "        (relu): ReLU(inplace=True)\n",
              "        (downsample): StdConv2d(64, 256, kernel_size=(1, 1), stride=(1, 1), bias=False)\n",
              "      )\n",
              "      (unit02): PreActBottleneck(\n",
              "        (gn1): GroupNorm(32, 256, eps=1e-05, affine=True)\n",
              "        (conv1): StdConv2d(256, 64, kernel_size=(1, 1), stride=(1, 1), bias=False)\n",
              "        (gn2): GroupNorm(32, 64, eps=1e-05, affine=True)\n",
              "        (conv2): StdConv2d(64, 64, kernel_size=(3, 3), stride=(1, 1), padding=(1, 1), bias=False)\n",
              "        (gn3): GroupNorm(32, 64, eps=1e-05, affine=True)\n",
              "        (conv3): StdConv2d(64, 256, kernel_size=(1, 1), stride=(1, 1), bias=False)\n",
              "        (relu): ReLU(inplace=True)\n",
              "      )\n",
              "      (unit03): PreActBottleneck(\n",
              "        (gn1): GroupNorm(32, 256, eps=1e-05, affine=True)\n",
              "        (conv1): StdConv2d(256, 64, kernel_size=(1, 1), stride=(1, 1), bias=False)\n",
              "        (gn2): GroupNorm(32, 64, eps=1e-05, affine=True)\n",
              "        (conv2): StdConv2d(64, 64, kernel_size=(3, 3), stride=(1, 1), padding=(1, 1), bias=False)\n",
              "        (gn3): GroupNorm(32, 64, eps=1e-05, affine=True)\n",
              "        (conv3): StdConv2d(64, 256, kernel_size=(1, 1), stride=(1, 1), bias=False)\n",
              "        (relu): ReLU(inplace=True)\n",
              "      )\n",
              "    )\n",
              "    (block2): Sequential(\n",
              "      (unit01): PreActBottleneck(\n",
              "        (gn1): GroupNorm(32, 256, eps=1e-05, affine=True)\n",
              "        (conv1): StdConv2d(256, 128, kernel_size=(1, 1), stride=(1, 1), bias=False)\n",
              "        (gn2): GroupNorm(32, 128, eps=1e-05, affine=True)\n",
              "        (conv2): StdConv2d(128, 128, kernel_size=(3, 3), stride=(2, 2), padding=(1, 1), bias=False)\n",
              "        (gn3): GroupNorm(32, 128, eps=1e-05, affine=True)\n",
              "        (conv3): StdConv2d(128, 512, kernel_size=(1, 1), stride=(1, 1), bias=False)\n",
              "        (relu): ReLU(inplace=True)\n",
              "        (downsample): StdConv2d(256, 512, kernel_size=(1, 1), stride=(2, 2), bias=False)\n",
              "      )\n",
              "      (unit02): PreActBottleneck(\n",
              "        (gn1): GroupNorm(32, 512, eps=1e-05, affine=True)\n",
              "        (conv1): StdConv2d(512, 128, kernel_size=(1, 1), stride=(1, 1), bias=False)\n",
              "        (gn2): GroupNorm(32, 128, eps=1e-05, affine=True)\n",
              "        (conv2): StdConv2d(128, 128, kernel_size=(3, 3), stride=(1, 1), padding=(1, 1), bias=False)\n",
              "        (gn3): GroupNorm(32, 128, eps=1e-05, affine=True)\n",
              "        (conv3): StdConv2d(128, 512, kernel_size=(1, 1), stride=(1, 1), bias=False)\n",
              "        (relu): ReLU(inplace=True)\n",
              "      )\n",
              "      (unit03): PreActBottleneck(\n",
              "        (gn1): GroupNorm(32, 512, eps=1e-05, affine=True)\n",
              "        (conv1): StdConv2d(512, 128, kernel_size=(1, 1), stride=(1, 1), bias=False)\n",
              "        (gn2): GroupNorm(32, 128, eps=1e-05, affine=True)\n",
              "        (conv2): StdConv2d(128, 128, kernel_size=(3, 3), stride=(1, 1), padding=(1, 1), bias=False)\n",
              "        (gn3): GroupNorm(32, 128, eps=1e-05, affine=True)\n",
              "        (conv3): StdConv2d(128, 512, kernel_size=(1, 1), stride=(1, 1), bias=False)\n",
              "        (relu): ReLU(inplace=True)\n",
              "      )\n",
              "      (unit04): PreActBottleneck(\n",
              "        (gn1): GroupNorm(32, 512, eps=1e-05, affine=True)\n",
              "        (conv1): StdConv2d(512, 128, kernel_size=(1, 1), stride=(1, 1), bias=False)\n",
              "        (gn2): GroupNorm(32, 128, eps=1e-05, affine=True)\n",
              "        (conv2): StdConv2d(128, 128, kernel_size=(3, 3), stride=(1, 1), padding=(1, 1), bias=False)\n",
              "        (gn3): GroupNorm(32, 128, eps=1e-05, affine=True)\n",
              "        (conv3): StdConv2d(128, 512, kernel_size=(1, 1), stride=(1, 1), bias=False)\n",
              "        (relu): ReLU(inplace=True)\n",
              "      )\n",
              "    )\n",
              "    (block3): Sequential(\n",
              "      (unit01): PreActBottleneck(\n",
              "        (gn1): GroupNorm(32, 512, eps=1e-05, affine=True)\n",
              "        (conv1): StdConv2d(512, 256, kernel_size=(1, 1), stride=(1, 1), bias=False)\n",
              "        (gn2): GroupNorm(32, 256, eps=1e-05, affine=True)\n",
              "        (conv2): StdConv2d(256, 256, kernel_size=(3, 3), stride=(2, 2), padding=(1, 1), bias=False)\n",
              "        (gn3): GroupNorm(32, 256, eps=1e-05, affine=True)\n",
              "        (conv3): StdConv2d(256, 1024, kernel_size=(1, 1), stride=(1, 1), bias=False)\n",
              "        (relu): ReLU(inplace=True)\n",
              "        (downsample): StdConv2d(512, 1024, kernel_size=(1, 1), stride=(2, 2), bias=False)\n",
              "      )\n",
              "      (unit02): PreActBottleneck(\n",
              "        (gn1): GroupNorm(32, 1024, eps=1e-05, affine=True)\n",
              "        (conv1): StdConv2d(1024, 256, kernel_size=(1, 1), stride=(1, 1), bias=False)\n",
              "        (gn2): GroupNorm(32, 256, eps=1e-05, affine=True)\n",
              "        (conv2): StdConv2d(256, 256, kernel_size=(3, 3), stride=(1, 1), padding=(1, 1), bias=False)\n",
              "        (gn3): GroupNorm(32, 256, eps=1e-05, affine=True)\n",
              "        (conv3): StdConv2d(256, 1024, kernel_size=(1, 1), stride=(1, 1), bias=False)\n",
              "        (relu): ReLU(inplace=True)\n",
              "      )\n",
              "      (unit03): PreActBottleneck(\n",
              "        (gn1): GroupNorm(32, 1024, eps=1e-05, affine=True)\n",
              "        (conv1): StdConv2d(1024, 256, kernel_size=(1, 1), stride=(1, 1), bias=False)\n",
              "        (gn2): GroupNorm(32, 256, eps=1e-05, affine=True)\n",
              "        (conv2): StdConv2d(256, 256, kernel_size=(3, 3), stride=(1, 1), padding=(1, 1), bias=False)\n",
              "        (gn3): GroupNorm(32, 256, eps=1e-05, affine=True)\n",
              "        (conv3): StdConv2d(256, 1024, kernel_size=(1, 1), stride=(1, 1), bias=False)\n",
              "        (relu): ReLU(inplace=True)\n",
              "      )\n",
              "      (unit04): PreActBottleneck(\n",
              "        (gn1): GroupNorm(32, 1024, eps=1e-05, affine=True)\n",
              "        (conv1): StdConv2d(1024, 256, kernel_size=(1, 1), stride=(1, 1), bias=False)\n",
              "        (gn2): GroupNorm(32, 256, eps=1e-05, affine=True)\n",
              "        (conv2): StdConv2d(256, 256, kernel_size=(3, 3), stride=(1, 1), padding=(1, 1), bias=False)\n",
              "        (gn3): GroupNorm(32, 256, eps=1e-05, affine=True)\n",
              "        (conv3): StdConv2d(256, 1024, kernel_size=(1, 1), stride=(1, 1), bias=False)\n",
              "        (relu): ReLU(inplace=True)\n",
              "      )\n",
              "      (unit05): PreActBottleneck(\n",
              "        (gn1): GroupNorm(32, 1024, eps=1e-05, affine=True)\n",
              "        (conv1): StdConv2d(1024, 256, kernel_size=(1, 1), stride=(1, 1), bias=False)\n",
              "        (gn2): GroupNorm(32, 256, eps=1e-05, affine=True)\n",
              "        (conv2): StdConv2d(256, 256, kernel_size=(3, 3), stride=(1, 1), padding=(1, 1), bias=False)\n",
              "        (gn3): GroupNorm(32, 256, eps=1e-05, affine=True)\n",
              "        (conv3): StdConv2d(256, 1024, kernel_size=(1, 1), stride=(1, 1), bias=False)\n",
              "        (relu): ReLU(inplace=True)\n",
              "      )\n",
              "      (unit06): PreActBottleneck(\n",
              "        (gn1): GroupNorm(32, 1024, eps=1e-05, affine=True)\n",
              "        (conv1): StdConv2d(1024, 256, kernel_size=(1, 1), stride=(1, 1), bias=False)\n",
              "        (gn2): GroupNorm(32, 256, eps=1e-05, affine=True)\n",
              "        (conv2): StdConv2d(256, 256, kernel_size=(3, 3), stride=(1, 1), padding=(1, 1), bias=False)\n",
              "        (gn3): GroupNorm(32, 256, eps=1e-05, affine=True)\n",
              "        (conv3): StdConv2d(256, 1024, kernel_size=(1, 1), stride=(1, 1), bias=False)\n",
              "        (relu): ReLU(inplace=True)\n",
              "      )\n",
              "      (unit07): PreActBottleneck(\n",
              "        (gn1): GroupNorm(32, 1024, eps=1e-05, affine=True)\n",
              "        (conv1): StdConv2d(1024, 256, kernel_size=(1, 1), stride=(1, 1), bias=False)\n",
              "        (gn2): GroupNorm(32, 256, eps=1e-05, affine=True)\n",
              "        (conv2): StdConv2d(256, 256, kernel_size=(3, 3), stride=(1, 1), padding=(1, 1), bias=False)\n",
              "        (gn3): GroupNorm(32, 256, eps=1e-05, affine=True)\n",
              "        (conv3): StdConv2d(256, 1024, kernel_size=(1, 1), stride=(1, 1), bias=False)\n",
              "        (relu): ReLU(inplace=True)\n",
              "      )\n",
              "      (unit08): PreActBottleneck(\n",
              "        (gn1): GroupNorm(32, 1024, eps=1e-05, affine=True)\n",
              "        (conv1): StdConv2d(1024, 256, kernel_size=(1, 1), stride=(1, 1), bias=False)\n",
              "        (gn2): GroupNorm(32, 256, eps=1e-05, affine=True)\n",
              "        (conv2): StdConv2d(256, 256, kernel_size=(3, 3), stride=(1, 1), padding=(1, 1), bias=False)\n",
              "        (gn3): GroupNorm(32, 256, eps=1e-05, affine=True)\n",
              "        (conv3): StdConv2d(256, 1024, kernel_size=(1, 1), stride=(1, 1), bias=False)\n",
              "        (relu): ReLU(inplace=True)\n",
              "      )\n",
              "      (unit09): PreActBottleneck(\n",
              "        (gn1): GroupNorm(32, 1024, eps=1e-05, affine=True)\n",
              "        (conv1): StdConv2d(1024, 256, kernel_size=(1, 1), stride=(1, 1), bias=False)\n",
              "        (gn2): GroupNorm(32, 256, eps=1e-05, affine=True)\n",
              "        (conv2): StdConv2d(256, 256, kernel_size=(3, 3), stride=(1, 1), padding=(1, 1), bias=False)\n",
              "        (gn3): GroupNorm(32, 256, eps=1e-05, affine=True)\n",
              "        (conv3): StdConv2d(256, 1024, kernel_size=(1, 1), stride=(1, 1), bias=False)\n",
              "        (relu): ReLU(inplace=True)\n",
              "      )\n",
              "      (unit10): PreActBottleneck(\n",
              "        (gn1): GroupNorm(32, 1024, eps=1e-05, affine=True)\n",
              "        (conv1): StdConv2d(1024, 256, kernel_size=(1, 1), stride=(1, 1), bias=False)\n",
              "        (gn2): GroupNorm(32, 256, eps=1e-05, affine=True)\n",
              "        (conv2): StdConv2d(256, 256, kernel_size=(3, 3), stride=(1, 1), padding=(1, 1), bias=False)\n",
              "        (gn3): GroupNorm(32, 256, eps=1e-05, affine=True)\n",
              "        (conv3): StdConv2d(256, 1024, kernel_size=(1, 1), stride=(1, 1), bias=False)\n",
              "        (relu): ReLU(inplace=True)\n",
              "      )\n",
              "      (unit11): PreActBottleneck(\n",
              "        (gn1): GroupNorm(32, 1024, eps=1e-05, affine=True)\n",
              "        (conv1): StdConv2d(1024, 256, kernel_size=(1, 1), stride=(1, 1), bias=False)\n",
              "        (gn2): GroupNorm(32, 256, eps=1e-05, affine=True)\n",
              "        (conv2): StdConv2d(256, 256, kernel_size=(3, 3), stride=(1, 1), padding=(1, 1), bias=False)\n",
              "        (gn3): GroupNorm(32, 256, eps=1e-05, affine=True)\n",
              "        (conv3): StdConv2d(256, 1024, kernel_size=(1, 1), stride=(1, 1), bias=False)\n",
              "        (relu): ReLU(inplace=True)\n",
              "      )\n",
              "      (unit12): PreActBottleneck(\n",
              "        (gn1): GroupNorm(32, 1024, eps=1e-05, affine=True)\n",
              "        (conv1): StdConv2d(1024, 256, kernel_size=(1, 1), stride=(1, 1), bias=False)\n",
              "        (gn2): GroupNorm(32, 256, eps=1e-05, affine=True)\n",
              "        (conv2): StdConv2d(256, 256, kernel_size=(3, 3), stride=(1, 1), padding=(1, 1), bias=False)\n",
              "        (gn3): GroupNorm(32, 256, eps=1e-05, affine=True)\n",
              "        (conv3): StdConv2d(256, 1024, kernel_size=(1, 1), stride=(1, 1), bias=False)\n",
              "        (relu): ReLU(inplace=True)\n",
              "      )\n",
              "      (unit13): PreActBottleneck(\n",
              "        (gn1): GroupNorm(32, 1024, eps=1e-05, affine=True)\n",
              "        (conv1): StdConv2d(1024, 256, kernel_size=(1, 1), stride=(1, 1), bias=False)\n",
              "        (gn2): GroupNorm(32, 256, eps=1e-05, affine=True)\n",
              "        (conv2): StdConv2d(256, 256, kernel_size=(3, 3), stride=(1, 1), padding=(1, 1), bias=False)\n",
              "        (gn3): GroupNorm(32, 256, eps=1e-05, affine=True)\n",
              "        (conv3): StdConv2d(256, 1024, kernel_size=(1, 1), stride=(1, 1), bias=False)\n",
              "        (relu): ReLU(inplace=True)\n",
              "      )\n",
              "      (unit14): PreActBottleneck(\n",
              "        (gn1): GroupNorm(32, 1024, eps=1e-05, affine=True)\n",
              "        (conv1): StdConv2d(1024, 256, kernel_size=(1, 1), stride=(1, 1), bias=False)\n",
              "        (gn2): GroupNorm(32, 256, eps=1e-05, affine=True)\n",
              "        (conv2): StdConv2d(256, 256, kernel_size=(3, 3), stride=(1, 1), padding=(1, 1), bias=False)\n",
              "        (gn3): GroupNorm(32, 256, eps=1e-05, affine=True)\n",
              "        (conv3): StdConv2d(256, 1024, kernel_size=(1, 1), stride=(1, 1), bias=False)\n",
              "        (relu): ReLU(inplace=True)\n",
              "      )\n",
              "      (unit15): PreActBottleneck(\n",
              "        (gn1): GroupNorm(32, 1024, eps=1e-05, affine=True)\n",
              "        (conv1): StdConv2d(1024, 256, kernel_size=(1, 1), stride=(1, 1), bias=False)\n",
              "        (gn2): GroupNorm(32, 256, eps=1e-05, affine=True)\n",
              "        (conv2): StdConv2d(256, 256, kernel_size=(3, 3), stride=(1, 1), padding=(1, 1), bias=False)\n",
              "        (gn3): GroupNorm(32, 256, eps=1e-05, affine=True)\n",
              "        (conv3): StdConv2d(256, 1024, kernel_size=(1, 1), stride=(1, 1), bias=False)\n",
              "        (relu): ReLU(inplace=True)\n",
              "      )\n",
              "      (unit16): PreActBottleneck(\n",
              "        (gn1): GroupNorm(32, 1024, eps=1e-05, affine=True)\n",
              "        (conv1): StdConv2d(1024, 256, kernel_size=(1, 1), stride=(1, 1), bias=False)\n",
              "        (gn2): GroupNorm(32, 256, eps=1e-05, affine=True)\n",
              "        (conv2): StdConv2d(256, 256, kernel_size=(3, 3), stride=(1, 1), padding=(1, 1), bias=False)\n",
              "        (gn3): GroupNorm(32, 256, eps=1e-05, affine=True)\n",
              "        (conv3): StdConv2d(256, 1024, kernel_size=(1, 1), stride=(1, 1), bias=False)\n",
              "        (relu): ReLU(inplace=True)\n",
              "      )\n",
              "      (unit17): PreActBottleneck(\n",
              "        (gn1): GroupNorm(32, 1024, eps=1e-05, affine=True)\n",
              "        (conv1): StdConv2d(1024, 256, kernel_size=(1, 1), stride=(1, 1), bias=False)\n",
              "        (gn2): GroupNorm(32, 256, eps=1e-05, affine=True)\n",
              "        (conv2): StdConv2d(256, 256, kernel_size=(3, 3), stride=(1, 1), padding=(1, 1), bias=False)\n",
              "        (gn3): GroupNorm(32, 256, eps=1e-05, affine=True)\n",
              "        (conv3): StdConv2d(256, 1024, kernel_size=(1, 1), stride=(1, 1), bias=False)\n",
              "        (relu): ReLU(inplace=True)\n",
              "      )\n",
              "      (unit18): PreActBottleneck(\n",
              "        (gn1): GroupNorm(32, 1024, eps=1e-05, affine=True)\n",
              "        (conv1): StdConv2d(1024, 256, kernel_size=(1, 1), stride=(1, 1), bias=False)\n",
              "        (gn2): GroupNorm(32, 256, eps=1e-05, affine=True)\n",
              "        (conv2): StdConv2d(256, 256, kernel_size=(3, 3), stride=(1, 1), padding=(1, 1), bias=False)\n",
              "        (gn3): GroupNorm(32, 256, eps=1e-05, affine=True)\n",
              "        (conv3): StdConv2d(256, 1024, kernel_size=(1, 1), stride=(1, 1), bias=False)\n",
              "        (relu): ReLU(inplace=True)\n",
              "      )\n",
              "      (unit19): PreActBottleneck(\n",
              "        (gn1): GroupNorm(32, 1024, eps=1e-05, affine=True)\n",
              "        (conv1): StdConv2d(1024, 256, kernel_size=(1, 1), stride=(1, 1), bias=False)\n",
              "        (gn2): GroupNorm(32, 256, eps=1e-05, affine=True)\n",
              "        (conv2): StdConv2d(256, 256, kernel_size=(3, 3), stride=(1, 1), padding=(1, 1), bias=False)\n",
              "        (gn3): GroupNorm(32, 256, eps=1e-05, affine=True)\n",
              "        (conv3): StdConv2d(256, 1024, kernel_size=(1, 1), stride=(1, 1), bias=False)\n",
              "        (relu): ReLU(inplace=True)\n",
              "      )\n",
              "      (unit20): PreActBottleneck(\n",
              "        (gn1): GroupNorm(32, 1024, eps=1e-05, affine=True)\n",
              "        (conv1): StdConv2d(1024, 256, kernel_size=(1, 1), stride=(1, 1), bias=False)\n",
              "        (gn2): GroupNorm(32, 256, eps=1e-05, affine=True)\n",
              "        (conv2): StdConv2d(256, 256, kernel_size=(3, 3), stride=(1, 1), padding=(1, 1), bias=False)\n",
              "        (gn3): GroupNorm(32, 256, eps=1e-05, affine=True)\n",
              "        (conv3): StdConv2d(256, 1024, kernel_size=(1, 1), stride=(1, 1), bias=False)\n",
              "        (relu): ReLU(inplace=True)\n",
              "      )\n",
              "      (unit21): PreActBottleneck(\n",
              "        (gn1): GroupNorm(32, 1024, eps=1e-05, affine=True)\n",
              "        (conv1): StdConv2d(1024, 256, kernel_size=(1, 1), stride=(1, 1), bias=False)\n",
              "        (gn2): GroupNorm(32, 256, eps=1e-05, affine=True)\n",
              "        (conv2): StdConv2d(256, 256, kernel_size=(3, 3), stride=(1, 1), padding=(1, 1), bias=False)\n",
              "        (gn3): GroupNorm(32, 256, eps=1e-05, affine=True)\n",
              "        (conv3): StdConv2d(256, 1024, kernel_size=(1, 1), stride=(1, 1), bias=False)\n",
              "        (relu): ReLU(inplace=True)\n",
              "      )\n",
              "      (unit22): PreActBottleneck(\n",
              "        (gn1): GroupNorm(32, 1024, eps=1e-05, affine=True)\n",
              "        (conv1): StdConv2d(1024, 256, kernel_size=(1, 1), stride=(1, 1), bias=False)\n",
              "        (gn2): GroupNorm(32, 256, eps=1e-05, affine=True)\n",
              "        (conv2): StdConv2d(256, 256, kernel_size=(3, 3), stride=(1, 1), padding=(1, 1), bias=False)\n",
              "        (gn3): GroupNorm(32, 256, eps=1e-05, affine=True)\n",
              "        (conv3): StdConv2d(256, 1024, kernel_size=(1, 1), stride=(1, 1), bias=False)\n",
              "        (relu): ReLU(inplace=True)\n",
              "      )\n",
              "      (unit23): PreActBottleneck(\n",
              "        (gn1): GroupNorm(32, 1024, eps=1e-05, affine=True)\n",
              "        (conv1): StdConv2d(1024, 256, kernel_size=(1, 1), stride=(1, 1), bias=False)\n",
              "        (gn2): GroupNorm(32, 256, eps=1e-05, affine=True)\n",
              "        (conv2): StdConv2d(256, 256, kernel_size=(3, 3), stride=(1, 1), padding=(1, 1), bias=False)\n",
              "        (gn3): GroupNorm(32, 256, eps=1e-05, affine=True)\n",
              "        (conv3): StdConv2d(256, 1024, kernel_size=(1, 1), stride=(1, 1), bias=False)\n",
              "        (relu): ReLU(inplace=True)\n",
              "      )\n",
              "    )\n",
              "    (block4): Sequential(\n",
              "      (unit01): PreActBottleneck(\n",
              "        (gn1): GroupNorm(32, 1024, eps=1e-05, affine=True)\n",
              "        (conv1): StdConv2d(1024, 512, kernel_size=(1, 1), stride=(1, 1), bias=False)\n",
              "        (gn2): GroupNorm(32, 512, eps=1e-05, affine=True)\n",
              "        (conv2): StdConv2d(512, 512, kernel_size=(3, 3), stride=(2, 2), padding=(1, 1), bias=False)\n",
              "        (gn3): GroupNorm(32, 512, eps=1e-05, affine=True)\n",
              "        (conv3): StdConv2d(512, 2048, kernel_size=(1, 1), stride=(1, 1), bias=False)\n",
              "        (relu): ReLU(inplace=True)\n",
              "        (downsample): StdConv2d(1024, 2048, kernel_size=(1, 1), stride=(2, 2), bias=False)\n",
              "      )\n",
              "      (unit02): PreActBottleneck(\n",
              "        (gn1): GroupNorm(32, 2048, eps=1e-05, affine=True)\n",
              "        (conv1): StdConv2d(2048, 512, kernel_size=(1, 1), stride=(1, 1), bias=False)\n",
              "        (gn2): GroupNorm(32, 512, eps=1e-05, affine=True)\n",
              "        (conv2): StdConv2d(512, 512, kernel_size=(3, 3), stride=(1, 1), padding=(1, 1), bias=False)\n",
              "        (gn3): GroupNorm(32, 512, eps=1e-05, affine=True)\n",
              "        (conv3): StdConv2d(512, 2048, kernel_size=(1, 1), stride=(1, 1), bias=False)\n",
              "        (relu): ReLU(inplace=True)\n",
              "      )\n",
              "      (unit03): PreActBottleneck(\n",
              "        (gn1): GroupNorm(32, 2048, eps=1e-05, affine=True)\n",
              "        (conv1): StdConv2d(2048, 512, kernel_size=(1, 1), stride=(1, 1), bias=False)\n",
              "        (gn2): GroupNorm(32, 512, eps=1e-05, affine=True)\n",
              "        (conv2): StdConv2d(512, 512, kernel_size=(3, 3), stride=(1, 1), padding=(1, 1), bias=False)\n",
              "        (gn3): GroupNorm(32, 512, eps=1e-05, affine=True)\n",
              "        (conv3): StdConv2d(512, 2048, kernel_size=(1, 1), stride=(1, 1), bias=False)\n",
              "        (relu): ReLU(inplace=True)\n",
              "      )\n",
              "    )\n",
              "  )\n",
              "  (head): Sequential(\n",
              "    (gn): GroupNorm(32, 2048, eps=1e-05, affine=True)\n",
              "    (relu): ReLU(inplace=True)\n",
              "    (avg): AdaptiveAvgPool2d(output_size=1)\n",
              "    (conv): Conv2d(2048, 21843, kernel_size=(1, 1), stride=(1, 1))\n",
              "  )\n",
              ")"
            ]
          },
          "metadata": {},
          "execution_count": 19
        }
      ],
      "source": [
        "model"
      ]
    },
    {
      "cell_type": "code",
      "execution_count": null,
      "metadata": {
        "colab": {
          "base_uri": "https://localhost:8080/"
        },
        "id": "fBcxRPUFfKH0",
        "outputId": "98674dce-55a5-4a49-b707-063d270080fd"
      },
      "outputs": [
        {
          "output_type": "execute_result",
          "data": {
            "text/plain": [
              "ResNetV2(\n",
              "  (root): Sequential(\n",
              "    (conv): StdConv2d(3, 64, kernel_size=(7, 7), stride=(2, 2), padding=(3, 3), bias=False)\n",
              "    (padp): ConstantPad2d(padding=(1, 1, 1, 1), value=0)\n",
              "    (pool): MaxPool2d(kernel_size=3, stride=2, padding=0, dilation=1, ceil_mode=False)\n",
              "  )\n",
              "  (body): Sequential(\n",
              "    (block1): Sequential(\n",
              "      (unit01): PreActBottleneck(\n",
              "        (gn1): GroupNorm(32, 64, eps=1e-05, affine=True)\n",
              "        (conv1): StdConv2d(64, 64, kernel_size=(1, 1), stride=(1, 1), bias=False)\n",
              "        (gn2): GroupNorm(32, 64, eps=1e-05, affine=True)\n",
              "        (conv2): StdConv2d(64, 64, kernel_size=(3, 3), stride=(1, 1), padding=(1, 1), bias=False)\n",
              "        (gn3): GroupNorm(32, 64, eps=1e-05, affine=True)\n",
              "        (conv3): StdConv2d(64, 256, kernel_size=(1, 1), stride=(1, 1), bias=False)\n",
              "        (relu): ReLU(inplace=True)\n",
              "        (downsample): StdConv2d(64, 256, kernel_size=(1, 1), stride=(1, 1), bias=False)\n",
              "      )\n",
              "      (unit02): PreActBottleneck(\n",
              "        (gn1): GroupNorm(32, 256, eps=1e-05, affine=True)\n",
              "        (conv1): StdConv2d(256, 64, kernel_size=(1, 1), stride=(1, 1), bias=False)\n",
              "        (gn2): GroupNorm(32, 64, eps=1e-05, affine=True)\n",
              "        (conv2): StdConv2d(64, 64, kernel_size=(3, 3), stride=(1, 1), padding=(1, 1), bias=False)\n",
              "        (gn3): GroupNorm(32, 64, eps=1e-05, affine=True)\n",
              "        (conv3): StdConv2d(64, 256, kernel_size=(1, 1), stride=(1, 1), bias=False)\n",
              "        (relu): ReLU(inplace=True)\n",
              "      )\n",
              "      (unit03): PreActBottleneck(\n",
              "        (gn1): GroupNorm(32, 256, eps=1e-05, affine=True)\n",
              "        (conv1): StdConv2d(256, 64, kernel_size=(1, 1), stride=(1, 1), bias=False)\n",
              "        (gn2): GroupNorm(32, 64, eps=1e-05, affine=True)\n",
              "        (conv2): StdConv2d(64, 64, kernel_size=(3, 3), stride=(1, 1), padding=(1, 1), bias=False)\n",
              "        (gn3): GroupNorm(32, 64, eps=1e-05, affine=True)\n",
              "        (conv3): StdConv2d(64, 256, kernel_size=(1, 1), stride=(1, 1), bias=False)\n",
              "        (relu): ReLU(inplace=True)\n",
              "      )\n",
              "    )\n",
              "    (block2): Sequential(\n",
              "      (unit01): PreActBottleneck(\n",
              "        (gn1): GroupNorm(32, 256, eps=1e-05, affine=True)\n",
              "        (conv1): StdConv2d(256, 128, kernel_size=(1, 1), stride=(1, 1), bias=False)\n",
              "        (gn2): GroupNorm(32, 128, eps=1e-05, affine=True)\n",
              "        (conv2): StdConv2d(128, 128, kernel_size=(3, 3), stride=(2, 2), padding=(1, 1), bias=False)\n",
              "        (gn3): GroupNorm(32, 128, eps=1e-05, affine=True)\n",
              "        (conv3): StdConv2d(128, 512, kernel_size=(1, 1), stride=(1, 1), bias=False)\n",
              "        (relu): ReLU(inplace=True)\n",
              "        (downsample): StdConv2d(256, 512, kernel_size=(1, 1), stride=(2, 2), bias=False)\n",
              "      )\n",
              "      (unit02): PreActBottleneck(\n",
              "        (gn1): GroupNorm(32, 512, eps=1e-05, affine=True)\n",
              "        (conv1): StdConv2d(512, 128, kernel_size=(1, 1), stride=(1, 1), bias=False)\n",
              "        (gn2): GroupNorm(32, 128, eps=1e-05, affine=True)\n",
              "        (conv2): StdConv2d(128, 128, kernel_size=(3, 3), stride=(1, 1), padding=(1, 1), bias=False)\n",
              "        (gn3): GroupNorm(32, 128, eps=1e-05, affine=True)\n",
              "        (conv3): StdConv2d(128, 512, kernel_size=(1, 1), stride=(1, 1), bias=False)\n",
              "        (relu): ReLU(inplace=True)\n",
              "      )\n",
              "      (unit03): PreActBottleneck(\n",
              "        (gn1): GroupNorm(32, 512, eps=1e-05, affine=True)\n",
              "        (conv1): StdConv2d(512, 128, kernel_size=(1, 1), stride=(1, 1), bias=False)\n",
              "        (gn2): GroupNorm(32, 128, eps=1e-05, affine=True)\n",
              "        (conv2): StdConv2d(128, 128, kernel_size=(3, 3), stride=(1, 1), padding=(1, 1), bias=False)\n",
              "        (gn3): GroupNorm(32, 128, eps=1e-05, affine=True)\n",
              "        (conv3): StdConv2d(128, 512, kernel_size=(1, 1), stride=(1, 1), bias=False)\n",
              "        (relu): ReLU(inplace=True)\n",
              "      )\n",
              "      (unit04): PreActBottleneck(\n",
              "        (gn1): GroupNorm(32, 512, eps=1e-05, affine=True)\n",
              "        (conv1): StdConv2d(512, 128, kernel_size=(1, 1), stride=(1, 1), bias=False)\n",
              "        (gn2): GroupNorm(32, 128, eps=1e-05, affine=True)\n",
              "        (conv2): StdConv2d(128, 128, kernel_size=(3, 3), stride=(1, 1), padding=(1, 1), bias=False)\n",
              "        (gn3): GroupNorm(32, 128, eps=1e-05, affine=True)\n",
              "        (conv3): StdConv2d(128, 512, kernel_size=(1, 1), stride=(1, 1), bias=False)\n",
              "        (relu): ReLU(inplace=True)\n",
              "      )\n",
              "    )\n",
              "    (block3): Sequential(\n",
              "      (unit01): PreActBottleneck(\n",
              "        (gn1): GroupNorm(32, 512, eps=1e-05, affine=True)\n",
              "        (conv1): StdConv2d(512, 256, kernel_size=(1, 1), stride=(1, 1), bias=False)\n",
              "        (gn2): GroupNorm(32, 256, eps=1e-05, affine=True)\n",
              "        (conv2): StdConv2d(256, 256, kernel_size=(3, 3), stride=(2, 2), padding=(1, 1), bias=False)\n",
              "        (gn3): GroupNorm(32, 256, eps=1e-05, affine=True)\n",
              "        (conv3): StdConv2d(256, 1024, kernel_size=(1, 1), stride=(1, 1), bias=False)\n",
              "        (relu): ReLU(inplace=True)\n",
              "        (downsample): StdConv2d(512, 1024, kernel_size=(1, 1), stride=(2, 2), bias=False)\n",
              "      )\n",
              "      (unit02): PreActBottleneck(\n",
              "        (gn1): GroupNorm(32, 1024, eps=1e-05, affine=True)\n",
              "        (conv1): StdConv2d(1024, 256, kernel_size=(1, 1), stride=(1, 1), bias=False)\n",
              "        (gn2): GroupNorm(32, 256, eps=1e-05, affine=True)\n",
              "        (conv2): StdConv2d(256, 256, kernel_size=(3, 3), stride=(1, 1), padding=(1, 1), bias=False)\n",
              "        (gn3): GroupNorm(32, 256, eps=1e-05, affine=True)\n",
              "        (conv3): StdConv2d(256, 1024, kernel_size=(1, 1), stride=(1, 1), bias=False)\n",
              "        (relu): ReLU(inplace=True)\n",
              "      )\n",
              "      (unit03): PreActBottleneck(\n",
              "        (gn1): GroupNorm(32, 1024, eps=1e-05, affine=True)\n",
              "        (conv1): StdConv2d(1024, 256, kernel_size=(1, 1), stride=(1, 1), bias=False)\n",
              "        (gn2): GroupNorm(32, 256, eps=1e-05, affine=True)\n",
              "        (conv2): StdConv2d(256, 256, kernel_size=(3, 3), stride=(1, 1), padding=(1, 1), bias=False)\n",
              "        (gn3): GroupNorm(32, 256, eps=1e-05, affine=True)\n",
              "        (conv3): StdConv2d(256, 1024, kernel_size=(1, 1), stride=(1, 1), bias=False)\n",
              "        (relu): ReLU(inplace=True)\n",
              "      )\n",
              "      (unit04): PreActBottleneck(\n",
              "        (gn1): GroupNorm(32, 1024, eps=1e-05, affine=True)\n",
              "        (conv1): StdConv2d(1024, 256, kernel_size=(1, 1), stride=(1, 1), bias=False)\n",
              "        (gn2): GroupNorm(32, 256, eps=1e-05, affine=True)\n",
              "        (conv2): StdConv2d(256, 256, kernel_size=(3, 3), stride=(1, 1), padding=(1, 1), bias=False)\n",
              "        (gn3): GroupNorm(32, 256, eps=1e-05, affine=True)\n",
              "        (conv3): StdConv2d(256, 1024, kernel_size=(1, 1), stride=(1, 1), bias=False)\n",
              "        (relu): ReLU(inplace=True)\n",
              "      )\n",
              "      (unit05): PreActBottleneck(\n",
              "        (gn1): GroupNorm(32, 1024, eps=1e-05, affine=True)\n",
              "        (conv1): StdConv2d(1024, 256, kernel_size=(1, 1), stride=(1, 1), bias=False)\n",
              "        (gn2): GroupNorm(32, 256, eps=1e-05, affine=True)\n",
              "        (conv2): StdConv2d(256, 256, kernel_size=(3, 3), stride=(1, 1), padding=(1, 1), bias=False)\n",
              "        (gn3): GroupNorm(32, 256, eps=1e-05, affine=True)\n",
              "        (conv3): StdConv2d(256, 1024, kernel_size=(1, 1), stride=(1, 1), bias=False)\n",
              "        (relu): ReLU(inplace=True)\n",
              "      )\n",
              "      (unit06): PreActBottleneck(\n",
              "        (gn1): GroupNorm(32, 1024, eps=1e-05, affine=True)\n",
              "        (conv1): StdConv2d(1024, 256, kernel_size=(1, 1), stride=(1, 1), bias=False)\n",
              "        (gn2): GroupNorm(32, 256, eps=1e-05, affine=True)\n",
              "        (conv2): StdConv2d(256, 256, kernel_size=(3, 3), stride=(1, 1), padding=(1, 1), bias=False)\n",
              "        (gn3): GroupNorm(32, 256, eps=1e-05, affine=True)\n",
              "        (conv3): StdConv2d(256, 1024, kernel_size=(1, 1), stride=(1, 1), bias=False)\n",
              "        (relu): ReLU(inplace=True)\n",
              "      )\n",
              "      (unit07): PreActBottleneck(\n",
              "        (gn1): GroupNorm(32, 1024, eps=1e-05, affine=True)\n",
              "        (conv1): StdConv2d(1024, 256, kernel_size=(1, 1), stride=(1, 1), bias=False)\n",
              "        (gn2): GroupNorm(32, 256, eps=1e-05, affine=True)\n",
              "        (conv2): StdConv2d(256, 256, kernel_size=(3, 3), stride=(1, 1), padding=(1, 1), bias=False)\n",
              "        (gn3): GroupNorm(32, 256, eps=1e-05, affine=True)\n",
              "        (conv3): StdConv2d(256, 1024, kernel_size=(1, 1), stride=(1, 1), bias=False)\n",
              "        (relu): ReLU(inplace=True)\n",
              "      )\n",
              "      (unit08): PreActBottleneck(\n",
              "        (gn1): GroupNorm(32, 1024, eps=1e-05, affine=True)\n",
              "        (conv1): StdConv2d(1024, 256, kernel_size=(1, 1), stride=(1, 1), bias=False)\n",
              "        (gn2): GroupNorm(32, 256, eps=1e-05, affine=True)\n",
              "        (conv2): StdConv2d(256, 256, kernel_size=(3, 3), stride=(1, 1), padding=(1, 1), bias=False)\n",
              "        (gn3): GroupNorm(32, 256, eps=1e-05, affine=True)\n",
              "        (conv3): StdConv2d(256, 1024, kernel_size=(1, 1), stride=(1, 1), bias=False)\n",
              "        (relu): ReLU(inplace=True)\n",
              "      )\n",
              "      (unit09): PreActBottleneck(\n",
              "        (gn1): GroupNorm(32, 1024, eps=1e-05, affine=True)\n",
              "        (conv1): StdConv2d(1024, 256, kernel_size=(1, 1), stride=(1, 1), bias=False)\n",
              "        (gn2): GroupNorm(32, 256, eps=1e-05, affine=True)\n",
              "        (conv2): StdConv2d(256, 256, kernel_size=(3, 3), stride=(1, 1), padding=(1, 1), bias=False)\n",
              "        (gn3): GroupNorm(32, 256, eps=1e-05, affine=True)\n",
              "        (conv3): StdConv2d(256, 1024, kernel_size=(1, 1), stride=(1, 1), bias=False)\n",
              "        (relu): ReLU(inplace=True)\n",
              "      )\n",
              "      (unit10): PreActBottleneck(\n",
              "        (gn1): GroupNorm(32, 1024, eps=1e-05, affine=True)\n",
              "        (conv1): StdConv2d(1024, 256, kernel_size=(1, 1), stride=(1, 1), bias=False)\n",
              "        (gn2): GroupNorm(32, 256, eps=1e-05, affine=True)\n",
              "        (conv2): StdConv2d(256, 256, kernel_size=(3, 3), stride=(1, 1), padding=(1, 1), bias=False)\n",
              "        (gn3): GroupNorm(32, 256, eps=1e-05, affine=True)\n",
              "        (conv3): StdConv2d(256, 1024, kernel_size=(1, 1), stride=(1, 1), bias=False)\n",
              "        (relu): ReLU(inplace=True)\n",
              "      )\n",
              "      (unit11): PreActBottleneck(\n",
              "        (gn1): GroupNorm(32, 1024, eps=1e-05, affine=True)\n",
              "        (conv1): StdConv2d(1024, 256, kernel_size=(1, 1), stride=(1, 1), bias=False)\n",
              "        (gn2): GroupNorm(32, 256, eps=1e-05, affine=True)\n",
              "        (conv2): StdConv2d(256, 256, kernel_size=(3, 3), stride=(1, 1), padding=(1, 1), bias=False)\n",
              "        (gn3): GroupNorm(32, 256, eps=1e-05, affine=True)\n",
              "        (conv3): StdConv2d(256, 1024, kernel_size=(1, 1), stride=(1, 1), bias=False)\n",
              "        (relu): ReLU(inplace=True)\n",
              "      )\n",
              "      (unit12): PreActBottleneck(\n",
              "        (gn1): GroupNorm(32, 1024, eps=1e-05, affine=True)\n",
              "        (conv1): StdConv2d(1024, 256, kernel_size=(1, 1), stride=(1, 1), bias=False)\n",
              "        (gn2): GroupNorm(32, 256, eps=1e-05, affine=True)\n",
              "        (conv2): StdConv2d(256, 256, kernel_size=(3, 3), stride=(1, 1), padding=(1, 1), bias=False)\n",
              "        (gn3): GroupNorm(32, 256, eps=1e-05, affine=True)\n",
              "        (conv3): StdConv2d(256, 1024, kernel_size=(1, 1), stride=(1, 1), bias=False)\n",
              "        (relu): ReLU(inplace=True)\n",
              "      )\n",
              "      (unit13): PreActBottleneck(\n",
              "        (gn1): GroupNorm(32, 1024, eps=1e-05, affine=True)\n",
              "        (conv1): StdConv2d(1024, 256, kernel_size=(1, 1), stride=(1, 1), bias=False)\n",
              "        (gn2): GroupNorm(32, 256, eps=1e-05, affine=True)\n",
              "        (conv2): StdConv2d(256, 256, kernel_size=(3, 3), stride=(1, 1), padding=(1, 1), bias=False)\n",
              "        (gn3): GroupNorm(32, 256, eps=1e-05, affine=True)\n",
              "        (conv3): StdConv2d(256, 1024, kernel_size=(1, 1), stride=(1, 1), bias=False)\n",
              "        (relu): ReLU(inplace=True)\n",
              "      )\n",
              "      (unit14): PreActBottleneck(\n",
              "        (gn1): GroupNorm(32, 1024, eps=1e-05, affine=True)\n",
              "        (conv1): StdConv2d(1024, 256, kernel_size=(1, 1), stride=(1, 1), bias=False)\n",
              "        (gn2): GroupNorm(32, 256, eps=1e-05, affine=True)\n",
              "        (conv2): StdConv2d(256, 256, kernel_size=(3, 3), stride=(1, 1), padding=(1, 1), bias=False)\n",
              "        (gn3): GroupNorm(32, 256, eps=1e-05, affine=True)\n",
              "        (conv3): StdConv2d(256, 1024, kernel_size=(1, 1), stride=(1, 1), bias=False)\n",
              "        (relu): ReLU(inplace=True)\n",
              "      )\n",
              "      (unit15): PreActBottleneck(\n",
              "        (gn1): GroupNorm(32, 1024, eps=1e-05, affine=True)\n",
              "        (conv1): StdConv2d(1024, 256, kernel_size=(1, 1), stride=(1, 1), bias=False)\n",
              "        (gn2): GroupNorm(32, 256, eps=1e-05, affine=True)\n",
              "        (conv2): StdConv2d(256, 256, kernel_size=(3, 3), stride=(1, 1), padding=(1, 1), bias=False)\n",
              "        (gn3): GroupNorm(32, 256, eps=1e-05, affine=True)\n",
              "        (conv3): StdConv2d(256, 1024, kernel_size=(1, 1), stride=(1, 1), bias=False)\n",
              "        (relu): ReLU(inplace=True)\n",
              "      )\n",
              "      (unit16): PreActBottleneck(\n",
              "        (gn1): GroupNorm(32, 1024, eps=1e-05, affine=True)\n",
              "        (conv1): StdConv2d(1024, 256, kernel_size=(1, 1), stride=(1, 1), bias=False)\n",
              "        (gn2): GroupNorm(32, 256, eps=1e-05, affine=True)\n",
              "        (conv2): StdConv2d(256, 256, kernel_size=(3, 3), stride=(1, 1), padding=(1, 1), bias=False)\n",
              "        (gn3): GroupNorm(32, 256, eps=1e-05, affine=True)\n",
              "        (conv3): StdConv2d(256, 1024, kernel_size=(1, 1), stride=(1, 1), bias=False)\n",
              "        (relu): ReLU(inplace=True)\n",
              "      )\n",
              "      (unit17): PreActBottleneck(\n",
              "        (gn1): GroupNorm(32, 1024, eps=1e-05, affine=True)\n",
              "        (conv1): StdConv2d(1024, 256, kernel_size=(1, 1), stride=(1, 1), bias=False)\n",
              "        (gn2): GroupNorm(32, 256, eps=1e-05, affine=True)\n",
              "        (conv2): StdConv2d(256, 256, kernel_size=(3, 3), stride=(1, 1), padding=(1, 1), bias=False)\n",
              "        (gn3): GroupNorm(32, 256, eps=1e-05, affine=True)\n",
              "        (conv3): StdConv2d(256, 1024, kernel_size=(1, 1), stride=(1, 1), bias=False)\n",
              "        (relu): ReLU(inplace=True)\n",
              "      )\n",
              "      (unit18): PreActBottleneck(\n",
              "        (gn1): GroupNorm(32, 1024, eps=1e-05, affine=True)\n",
              "        (conv1): StdConv2d(1024, 256, kernel_size=(1, 1), stride=(1, 1), bias=False)\n",
              "        (gn2): GroupNorm(32, 256, eps=1e-05, affine=True)\n",
              "        (conv2): StdConv2d(256, 256, kernel_size=(3, 3), stride=(1, 1), padding=(1, 1), bias=False)\n",
              "        (gn3): GroupNorm(32, 256, eps=1e-05, affine=True)\n",
              "        (conv3): StdConv2d(256, 1024, kernel_size=(1, 1), stride=(1, 1), bias=False)\n",
              "        (relu): ReLU(inplace=True)\n",
              "      )\n",
              "      (unit19): PreActBottleneck(\n",
              "        (gn1): GroupNorm(32, 1024, eps=1e-05, affine=True)\n",
              "        (conv1): StdConv2d(1024, 256, kernel_size=(1, 1), stride=(1, 1), bias=False)\n",
              "        (gn2): GroupNorm(32, 256, eps=1e-05, affine=True)\n",
              "        (conv2): StdConv2d(256, 256, kernel_size=(3, 3), stride=(1, 1), padding=(1, 1), bias=False)\n",
              "        (gn3): GroupNorm(32, 256, eps=1e-05, affine=True)\n",
              "        (conv3): StdConv2d(256, 1024, kernel_size=(1, 1), stride=(1, 1), bias=False)\n",
              "        (relu): ReLU(inplace=True)\n",
              "      )\n",
              "      (unit20): PreActBottleneck(\n",
              "        (gn1): GroupNorm(32, 1024, eps=1e-05, affine=True)\n",
              "        (conv1): StdConv2d(1024, 256, kernel_size=(1, 1), stride=(1, 1), bias=False)\n",
              "        (gn2): GroupNorm(32, 256, eps=1e-05, affine=True)\n",
              "        (conv2): StdConv2d(256, 256, kernel_size=(3, 3), stride=(1, 1), padding=(1, 1), bias=False)\n",
              "        (gn3): GroupNorm(32, 256, eps=1e-05, affine=True)\n",
              "        (conv3): StdConv2d(256, 1024, kernel_size=(1, 1), stride=(1, 1), bias=False)\n",
              "        (relu): ReLU(inplace=True)\n",
              "      )\n",
              "      (unit21): PreActBottleneck(\n",
              "        (gn1): GroupNorm(32, 1024, eps=1e-05, affine=True)\n",
              "        (conv1): StdConv2d(1024, 256, kernel_size=(1, 1), stride=(1, 1), bias=False)\n",
              "        (gn2): GroupNorm(32, 256, eps=1e-05, affine=True)\n",
              "        (conv2): StdConv2d(256, 256, kernel_size=(3, 3), stride=(1, 1), padding=(1, 1), bias=False)\n",
              "        (gn3): GroupNorm(32, 256, eps=1e-05, affine=True)\n",
              "        (conv3): StdConv2d(256, 1024, kernel_size=(1, 1), stride=(1, 1), bias=False)\n",
              "        (relu): ReLU(inplace=True)\n",
              "      )\n",
              "      (unit22): PreActBottleneck(\n",
              "        (gn1): GroupNorm(32, 1024, eps=1e-05, affine=True)\n",
              "        (conv1): StdConv2d(1024, 256, kernel_size=(1, 1), stride=(1, 1), bias=False)\n",
              "        (gn2): GroupNorm(32, 256, eps=1e-05, affine=True)\n",
              "        (conv2): StdConv2d(256, 256, kernel_size=(3, 3), stride=(1, 1), padding=(1, 1), bias=False)\n",
              "        (gn3): GroupNorm(32, 256, eps=1e-05, affine=True)\n",
              "        (conv3): StdConv2d(256, 1024, kernel_size=(1, 1), stride=(1, 1), bias=False)\n",
              "        (relu): ReLU(inplace=True)\n",
              "      )\n",
              "      (unit23): PreActBottleneck(\n",
              "        (gn1): GroupNorm(32, 1024, eps=1e-05, affine=True)\n",
              "        (conv1): StdConv2d(1024, 256, kernel_size=(1, 1), stride=(1, 1), bias=False)\n",
              "        (gn2): GroupNorm(32, 256, eps=1e-05, affine=True)\n",
              "        (conv2): StdConv2d(256, 256, kernel_size=(3, 3), stride=(1, 1), padding=(1, 1), bias=False)\n",
              "        (gn3): GroupNorm(32, 256, eps=1e-05, affine=True)\n",
              "        (conv3): StdConv2d(256, 1024, kernel_size=(1, 1), stride=(1, 1), bias=False)\n",
              "        (relu): ReLU(inplace=True)\n",
              "      )\n",
              "    )\n",
              "    (block4): Sequential(\n",
              "      (unit01): PreActBottleneck(\n",
              "        (gn1): GroupNorm(32, 1024, eps=1e-05, affine=True)\n",
              "        (conv1): StdConv2d(1024, 512, kernel_size=(1, 1), stride=(1, 1), bias=False)\n",
              "        (gn2): GroupNorm(32, 512, eps=1e-05, affine=True)\n",
              "        (conv2): StdConv2d(512, 512, kernel_size=(3, 3), stride=(2, 2), padding=(1, 1), bias=False)\n",
              "        (gn3): GroupNorm(32, 512, eps=1e-05, affine=True)\n",
              "        (conv3): StdConv2d(512, 2048, kernel_size=(1, 1), stride=(1, 1), bias=False)\n",
              "        (relu): ReLU(inplace=True)\n",
              "        (downsample): StdConv2d(1024, 2048, kernel_size=(1, 1), stride=(2, 2), bias=False)\n",
              "      )\n",
              "      (unit02): PreActBottleneck(\n",
              "        (gn1): GroupNorm(32, 2048, eps=1e-05, affine=True)\n",
              "        (conv1): StdConv2d(2048, 512, kernel_size=(1, 1), stride=(1, 1), bias=False)\n",
              "        (gn2): GroupNorm(32, 512, eps=1e-05, affine=True)\n",
              "        (conv2): StdConv2d(512, 512, kernel_size=(3, 3), stride=(1, 1), padding=(1, 1), bias=False)\n",
              "        (gn3): GroupNorm(32, 512, eps=1e-05, affine=True)\n",
              "        (conv3): StdConv2d(512, 2048, kernel_size=(1, 1), stride=(1, 1), bias=False)\n",
              "        (relu): ReLU(inplace=True)\n",
              "      )\n",
              "      (unit03): PreActBottleneck(\n",
              "        (gn1): GroupNorm(32, 2048, eps=1e-05, affine=True)\n",
              "        (conv1): StdConv2d(2048, 512, kernel_size=(1, 1), stride=(1, 1), bias=False)\n",
              "        (gn2): GroupNorm(32, 512, eps=1e-05, affine=True)\n",
              "        (conv2): StdConv2d(512, 512, kernel_size=(3, 3), stride=(1, 1), padding=(1, 1), bias=False)\n",
              "        (gn3): GroupNorm(32, 512, eps=1e-05, affine=True)\n",
              "        (conv3): StdConv2d(512, 2048, kernel_size=(1, 1), stride=(1, 1), bias=False)\n",
              "        (relu): ReLU(inplace=True)\n",
              "      )\n",
              "    )\n",
              "  )\n",
              "  (head): Sequential(\n",
              "    (gn): GroupNorm(32, 2048, eps=1e-05, affine=True)\n",
              "    (relu): ReLU(inplace=True)\n",
              "    (avg): AdaptiveAvgPool2d(output_size=1)\n",
              "    (conv): Conv2d(2048, 50, kernel_size=(1, 1), stride=(1, 1))\n",
              "  )\n",
              ")"
            ]
          },
          "metadata": {},
          "execution_count": 20
        }
      ],
      "source": [
        "model.head.conv = nn.Conv2d(2048, 50, kernel_size=(1, 1), stride=(1, 1)).cuda()\n",
        "model = model.cuda()\n",
        "model"
      ]
    },
    {
      "cell_type": "code",
      "execution_count": null,
      "metadata": {
        "id": "xFpmWKNf2ijx"
      },
      "outputs": [],
      "source": [
        "def eval_cifar10(model, bs=100, progressbar=True):\n",
        "\n",
        "  testset = torch.utils.data.DataLoader(test_dataset, batch_size=bs, shuffle=False, num_workers=4)\n",
        "\n",
        "  model.eval()\n",
        "\n",
        "  if progressbar is True:\n",
        "    progressbar = display(progress(0, len(testset)), display_id=True)\n",
        "\n",
        "  preds = []\n",
        "  with torch.no_grad():\n",
        "    for i, (x, t) in enumerate(testset):\n",
        "      x, t = x.to(device), t.numpy()\n",
        "      logits = model(x)\n",
        "      _, y = torch.max(logits.data, 1)\n",
        "      preds.extend(y.cpu().numpy() == t)\n",
        "      progressbar.update(progress(i+1, len(testset)))\n",
        "\n",
        "  return np.mean(preds)"
      ]
    },
    {
      "cell_type": "code",
      "execution_count": null,
      "metadata": {
        "colab": {
          "base_uri": "https://localhost:8080/",
          "height": 53
        },
        "id": "y11FkovH2vZK",
        "outputId": "ddfccbd8-ac07-41a7-8c0a-df124b6489e1"
      },
      "outputs": [
        {
          "output_type": "display_data",
          "data": {
            "text/plain": [
              "<IPython.core.display.HTML object>"
            ],
            "text/html": [
              "\n",
              "        <progress\n",
              "            value='51'\n",
              "            max='51',\n",
              "            style='width: 100%'\n",
              "        >\n",
              "            51\n",
              "        </progress>\n",
              "    "
            ]
          },
          "metadata": {}
        },
        {
          "output_type": "stream",
          "name": "stdout",
          "text": [
            "Accuracy: 1.97%\n"
          ]
        }
      ],
      "source": [
        "print(f\"Accuracy: {eval_cifar10(model):.2%}\")"
      ]
    },
    {
      "cell_type": "markdown",
      "metadata": {
        "id": "lbKA7-xhUQMr"
      },
      "source": [
        "## Find indices to create a 5-shot CIFAR10 variant"
      ]
    },
    {
      "cell_type": "code",
      "execution_count": null,
      "metadata": {
        "id": "VRPkGcvTUWAR"
      },
      "outputs": [],
      "source": [
        "preprocess_tiny =  tv.transforms.Compose([\n",
        "    tv.transforms.Resize((160, 160), interpolation=PIL.Image.BILINEAR),  # It's the default, just being explicit for the reader.\n",
        "    tv.transforms.RandomCrop((128, 128)),\n",
        "    tv.transforms.RandomHorizontalFlip(),\n",
        "    tv.transforms.ToTensor(),\n",
        "    tv.transforms.Normalize((0.5, 0.5, 0.5), (0.5, 0.5, 0.5))  # Get data into [-1, 1]\n",
        "])\n",
        "\n",
        "# Create a subset dataset with only 5 samples per class\n",
        "trainset_tiny = tv.datasets.ImageFolder(root=train_tiny_folder, transform=preprocess_tiny)\n",
        "loader = torch.utils.data.DataLoader(trainset_tiny, batch_size=2500, shuffle=False, num_workers=4)\n",
        "images, labels = next(iter(loader))"
      ]
    },
    {
      "cell_type": "code",
      "execution_count": null,
      "metadata": {
        "id": "uQmzrwKJ-Wya"
      },
      "outputs": [],
      "source": [
        "indices = {cls: np.random.choice(np.where(labels.numpy() == cls)[0], 50, replace=False) for cls in range(50)}"
      ]
    },
    {
      "cell_type": "code",
      "execution_count": null,
      "metadata": {
        "id": "RV2Sbfruzl3i",
        "colab": {
          "base_uri": "https://localhost:8080/"
        },
        "outputId": "521ba480-4c60-4812-bf18-dc2e6725f0c2"
      },
      "outputs": [
        {
          "output_type": "stream",
          "name": "stdout",
          "text": [
            "torch.Size([2500, 3, 128, 128])\n",
            "tensor([ 0,  0,  0,  ..., 49, 49, 49])\n"
          ]
        }
      ],
      "source": [
        "print(images.shape)\n",
        "print(labels)"
      ]
    },
    {
      "cell_type": "code",
      "execution_count": null,
      "metadata": {
        "id": "Vnq22Qy0jmBR",
        "colab": {
          "base_uri": "https://localhost:8080/"
        },
        "outputId": "4cc69b53-b864-4b3e-8e0a-f2e962630e9d"
      },
      "outputs": [
        {
          "output_type": "stream",
          "name": "stdout",
          "text": [
            "{0: array([34, 25, 19, 10, 17, 40,  7, 21, 46, 27, 36, 24, 45, 26, 39,  6,  0,\n",
            "       11, 41,  4, 14, 20, 47, 13, 43, 31, 29, 44, 15, 28, 49,  8, 33, 48,\n",
            "       38, 16, 37,  2, 18, 32,  1,  9, 22, 23, 42, 12,  3,  5, 30, 35]), 1: array([83, 64, 96, 62, 75, 53, 52, 94, 84, 82, 67, 98, 80, 58, 66, 63, 77,\n",
            "       76, 60, 55, 59, 78, 92, 57, 90, 61, 54, 68, 88, 51, 89, 86, 65, 72,\n",
            "       91, 69, 71, 85, 50, 73, 74, 81, 95, 93, 70, 79, 56, 99, 97, 87]), 2: array([134, 145, 131, 109, 119, 148, 147, 117, 125, 138, 108, 130, 111,\n",
            "       135, 139, 112, 102, 133, 106, 121, 146, 129, 124, 127, 144, 143,\n",
            "       132, 128, 104, 114, 110, 101, 116, 115, 136, 120, 118, 142, 123,\n",
            "       103, 122, 107, 137, 105, 126, 140, 141, 149, 113, 100]), 3: array([181, 158, 150, 192, 178, 175, 153, 159, 165, 174, 155, 151, 198,\n",
            "       177, 196, 184, 187, 186, 163, 169, 162, 189, 156, 154, 179, 190,\n",
            "       173, 170, 193, 171, 195, 164, 194, 199, 160, 167, 172, 185, 183,\n",
            "       197, 168, 180, 191, 176, 166, 157, 161, 182, 152, 188]), 4: array([202, 241, 212, 242, 203, 227, 225, 216, 244, 201, 239, 237, 246,\n",
            "       247, 224, 243, 215, 211, 222, 248, 231, 226, 220, 204, 235, 245,\n",
            "       228, 219, 234, 236, 209, 213, 223, 218, 217, 208, 200, 214, 210,\n",
            "       240, 233, 221, 207, 206, 232, 205, 238, 230, 229, 249]), 5: array([299, 283, 252, 297, 253, 279, 264, 259, 260, 294, 298, 285, 258,\n",
            "       261, 255, 278, 296, 273, 280, 266, 289, 256, 277, 262, 270, 295,\n",
            "       288, 281, 271, 282, 254, 269, 250, 292, 293, 286, 257, 274, 287,\n",
            "       275, 267, 251, 272, 284, 263, 276, 268, 265, 290, 291]), 6: array([349, 306, 346, 336, 337, 300, 342, 330, 328, 332, 309, 345, 331,\n",
            "       311, 333, 324, 347, 308, 302, 325, 323, 339, 322, 314, 344, 335,\n",
            "       348, 321, 343, 301, 319, 304, 341, 316, 317, 305, 315, 318, 307,\n",
            "       334, 340, 313, 329, 326, 320, 310, 327, 338, 312, 303]), 7: array([385, 399, 359, 395, 375, 354, 378, 350, 356, 389, 376, 369, 370,\n",
            "       397, 351, 384, 367, 364, 390, 381, 386, 380, 363, 360, 357, 352,\n",
            "       355, 388, 361, 392, 383, 394, 353, 391, 387, 382, 377, 379, 371,\n",
            "       393, 373, 396, 362, 372, 398, 374, 366, 368, 358, 365]), 8: array([430, 424, 439, 416, 402, 429, 436, 426, 435, 407, 417, 408, 411,\n",
            "       437, 422, 413, 414, 448, 438, 434, 406, 421, 400, 410, 440, 405,\n",
            "       433, 403, 428, 423, 442, 432, 445, 415, 409, 446, 425, 418, 427,\n",
            "       412, 420, 443, 404, 401, 419, 441, 444, 431, 447, 449]), 9: array([458, 454, 474, 487, 494, 485, 479, 462, 484, 464, 453, 499, 492,\n",
            "       490, 480, 482, 463, 475, 466, 471, 461, 459, 491, 460, 465, 478,\n",
            "       481, 476, 472, 486, 495, 473, 467, 457, 493, 489, 483, 468, 456,\n",
            "       477, 450, 497, 469, 452, 498, 496, 455, 470, 451, 488]), 10: array([549, 532, 547, 543, 541, 531, 526, 525, 505, 518, 517, 519, 523,\n",
            "       537, 501, 539, 522, 546, 540, 548, 508, 503, 513, 506, 535, 545,\n",
            "       542, 533, 509, 530, 512, 511, 524, 534, 538, 500, 527, 544, 529,\n",
            "       514, 536, 516, 504, 507, 502, 520, 510, 528, 521, 515]), 11: array([573, 560, 598, 591, 589, 554, 556, 593, 572, 580, 567, 576, 565,\n",
            "       559, 579, 571, 564, 587, 582, 555, 558, 584, 597, 592, 561, 594,\n",
            "       570, 574, 568, 562, 557, 599, 581, 551, 595, 552, 578, 553, 583,\n",
            "       563, 566, 590, 596, 569, 575, 577, 586, 585, 550, 588]), 12: array([642, 626, 605, 625, 649, 622, 647, 602, 634, 646, 601, 603, 638,\n",
            "       609, 612, 648, 643, 617, 628, 618, 608, 644, 639, 607, 636, 616,\n",
            "       627, 623, 621, 640, 613, 641, 632, 619, 614, 624, 610, 611, 645,\n",
            "       615, 637, 629, 606, 631, 633, 600, 635, 604, 630, 620]), 13: array([680, 695, 656, 651, 691, 689, 697, 681, 658, 663, 688, 690, 685,\n",
            "       664, 662, 655, 679, 674, 678, 661, 676, 693, 671, 675, 667, 698,\n",
            "       682, 670, 677, 687, 699, 673, 665, 652, 666, 684, 654, 692, 660,\n",
            "       657, 694, 668, 686, 696, 672, 683, 659, 653, 650, 669]), 14: array([727, 745, 733, 712, 725, 705, 742, 708, 735, 739, 707, 722, 729,\n",
            "       709, 710, 711, 726, 728, 743, 731, 749, 736, 701, 719, 700, 713,\n",
            "       718, 741, 717, 744, 702, 740, 724, 716, 703, 748, 723, 734, 732,\n",
            "       706, 715, 747, 714, 720, 746, 704, 738, 737, 721, 730]), 15: array([767, 756, 780, 774, 798, 768, 779, 751, 755, 794, 791, 771, 758,\n",
            "       772, 789, 797, 796, 778, 782, 799, 793, 786, 781, 784, 792, 761,\n",
            "       785, 753, 783, 757, 787, 759, 776, 754, 770, 775, 788, 760, 790,\n",
            "       764, 752, 765, 766, 750, 769, 763, 773, 795, 777, 762]), 16: array([807, 828, 843, 810, 803, 836, 812, 821, 809, 817, 831, 811, 816,\n",
            "       825, 837, 824, 818, 813, 846, 844, 829, 833, 841, 842, 827, 835,\n",
            "       848, 804, 845, 806, 814, 847, 840, 826, 800, 801, 822, 808, 802,\n",
            "       838, 834, 830, 823, 839, 849, 815, 832, 820, 819, 805]), 17: array([879, 888, 883, 871, 870, 893, 860, 858, 889, 876, 855, 868, 878,\n",
            "       892, 884, 861, 885, 851, 859, 882, 886, 880, 863, 865, 881, 898,\n",
            "       869, 856, 891, 853, 872, 850, 874, 852, 896, 887, 854, 899, 862,\n",
            "       864, 866, 857, 895, 894, 867, 877, 897, 873, 875, 890]), 18: array([902, 909, 928, 942, 911, 932, 907, 941, 937, 923, 903, 908, 910,\n",
            "       901, 915, 949, 931, 913, 946, 924, 930, 938, 944, 925, 927, 943,\n",
            "       919, 934, 918, 921, 940, 933, 917, 926, 906, 912, 948, 947, 935,\n",
            "       905, 945, 914, 936, 900, 920, 929, 916, 922, 939, 904]), 19: array([977, 993, 983, 985, 967, 978, 975, 971, 986, 956, 992, 999, 951,\n",
            "       955, 968, 995, 957, 991, 972, 961, 994, 970, 980, 988, 958, 966,\n",
            "       952, 990, 963, 964, 962, 969, 989, 953, 973, 982, 976, 954, 984,\n",
            "       974, 965, 998, 950, 996, 959, 997, 987, 960, 981, 979]), 20: array([1020, 1048, 1046, 1028, 1029, 1000, 1049, 1021, 1042, 1025, 1027,\n",
            "       1033, 1017, 1022, 1031, 1011, 1012, 1016, 1007, 1019, 1008, 1043,\n",
            "       1039, 1023, 1018, 1002, 1010, 1047, 1035, 1006, 1037, 1013, 1044,\n",
            "       1030, 1001, 1034, 1005, 1009, 1015, 1036, 1038, 1024, 1014, 1004,\n",
            "       1040, 1045, 1041, 1032, 1026, 1003]), 21: array([1056, 1062, 1072, 1061, 1053, 1073, 1095, 1089, 1055, 1097, 1054,\n",
            "       1058, 1079, 1082, 1087, 1092, 1051, 1071, 1067, 1074, 1094, 1064,\n",
            "       1083, 1085, 1068, 1066, 1084, 1098, 1091, 1086, 1081, 1099, 1090,\n",
            "       1075, 1069, 1070, 1063, 1057, 1052, 1059, 1050, 1065, 1060, 1076,\n",
            "       1080, 1093, 1077, 1078, 1088, 1096]), 22: array([1103, 1100, 1135, 1113, 1125, 1144, 1145, 1110, 1108, 1136, 1122,\n",
            "       1143, 1130, 1139, 1116, 1104, 1114, 1118, 1119, 1140, 1146, 1147,\n",
            "       1111, 1112, 1123, 1138, 1107, 1149, 1132, 1134, 1120, 1148, 1124,\n",
            "       1128, 1101, 1115, 1121, 1109, 1137, 1141, 1142, 1131, 1133, 1129,\n",
            "       1127, 1117, 1126, 1105, 1106, 1102]), 23: array([1190, 1150, 1173, 1187, 1178, 1191, 1151, 1157, 1155, 1198, 1163,\n",
            "       1156, 1199, 1180, 1179, 1161, 1162, 1183, 1172, 1196, 1165, 1182,\n",
            "       1197, 1159, 1158, 1175, 1195, 1188, 1184, 1185, 1166, 1192, 1174,\n",
            "       1167, 1160, 1170, 1193, 1176, 1169, 1152, 1181, 1168, 1186, 1164,\n",
            "       1177, 1189, 1171, 1153, 1154, 1194]), 24: array([1232, 1202, 1224, 1214, 1217, 1204, 1216, 1235, 1212, 1210, 1211,\n",
            "       1219, 1228, 1200, 1229, 1236, 1213, 1246, 1226, 1249, 1221, 1248,\n",
            "       1201, 1244, 1240, 1205, 1225, 1247, 1206, 1208, 1234, 1223, 1245,\n",
            "       1239, 1237, 1238, 1222, 1215, 1209, 1241, 1243, 1220, 1233, 1218,\n",
            "       1242, 1203, 1231, 1227, 1230, 1207]), 25: array([1294, 1295, 1264, 1291, 1286, 1254, 1289, 1287, 1260, 1258, 1270,\n",
            "       1256, 1285, 1263, 1281, 1283, 1252, 1298, 1279, 1284, 1297, 1282,\n",
            "       1250, 1292, 1261, 1259, 1290, 1273, 1277, 1266, 1272, 1278, 1280,\n",
            "       1251, 1271, 1274, 1276, 1296, 1299, 1265, 1255, 1262, 1253, 1275,\n",
            "       1267, 1288, 1257, 1269, 1293, 1268]), 26: array([1338, 1337, 1327, 1344, 1306, 1346, 1315, 1331, 1308, 1305, 1333,\n",
            "       1342, 1322, 1307, 1330, 1309, 1303, 1323, 1312, 1341, 1334, 1313,\n",
            "       1326, 1329, 1345, 1332, 1320, 1318, 1335, 1343, 1339, 1324, 1340,\n",
            "       1348, 1347, 1336, 1311, 1349, 1304, 1302, 1325, 1301, 1300, 1328,\n",
            "       1317, 1316, 1321, 1310, 1319, 1314]), 27: array([1380, 1392, 1356, 1355, 1357, 1363, 1372, 1352, 1364, 1382, 1396,\n",
            "       1350, 1391, 1369, 1384, 1385, 1377, 1359, 1368, 1376, 1390, 1399,\n",
            "       1394, 1354, 1386, 1389, 1362, 1365, 1397, 1366, 1358, 1379, 1374,\n",
            "       1395, 1378, 1367, 1353, 1388, 1387, 1361, 1375, 1371, 1370, 1383,\n",
            "       1351, 1373, 1393, 1381, 1398, 1360]), 28: array([1414, 1445, 1440, 1403, 1430, 1404, 1427, 1433, 1429, 1419, 1444,\n",
            "       1407, 1447, 1437, 1420, 1422, 1415, 1412, 1435, 1402, 1449, 1417,\n",
            "       1411, 1436, 1434, 1405, 1438, 1425, 1424, 1400, 1428, 1408, 1401,\n",
            "       1439, 1406, 1423, 1448, 1442, 1446, 1426, 1410, 1413, 1432, 1409,\n",
            "       1431, 1441, 1443, 1416, 1421, 1418]), 29: array([1456, 1489, 1469, 1483, 1487, 1451, 1467, 1462, 1455, 1480, 1472,\n",
            "       1488, 1481, 1475, 1459, 1494, 1470, 1479, 1453, 1496, 1463, 1474,\n",
            "       1484, 1466, 1473, 1458, 1457, 1486, 1492, 1491, 1476, 1482, 1471,\n",
            "       1454, 1460, 1490, 1497, 1499, 1468, 1478, 1477, 1464, 1495, 1461,\n",
            "       1493, 1498, 1450, 1452, 1465, 1485]), 30: array([1515, 1508, 1547, 1540, 1531, 1529, 1506, 1543, 1501, 1526, 1522,\n",
            "       1548, 1535, 1549, 1516, 1537, 1514, 1504, 1545, 1500, 1530, 1503,\n",
            "       1542, 1539, 1513, 1518, 1528, 1525, 1511, 1505, 1532, 1544, 1510,\n",
            "       1538, 1524, 1546, 1536, 1507, 1512, 1502, 1534, 1527, 1517, 1509,\n",
            "       1533, 1521, 1541, 1519, 1523, 1520]), 31: array([1573, 1594, 1590, 1554, 1556, 1581, 1582, 1564, 1551, 1570, 1597,\n",
            "       1575, 1553, 1587, 1595, 1571, 1592, 1557, 1559, 1586, 1572, 1583,\n",
            "       1558, 1598, 1560, 1578, 1576, 1568, 1593, 1567, 1565, 1574, 1579,\n",
            "       1588, 1577, 1585, 1584, 1550, 1561, 1562, 1566, 1596, 1555, 1580,\n",
            "       1569, 1563, 1591, 1552, 1599, 1589]), 32: array([1626, 1616, 1627, 1623, 1615, 1610, 1634, 1625, 1604, 1617, 1640,\n",
            "       1647, 1600, 1621, 1629, 1613, 1649, 1645, 1624, 1641, 1601, 1644,\n",
            "       1606, 1636, 1638, 1632, 1618, 1639, 1603, 1612, 1630, 1614, 1631,\n",
            "       1602, 1643, 1646, 1628, 1605, 1619, 1635, 1637, 1607, 1633, 1611,\n",
            "       1648, 1622, 1609, 1642, 1608, 1620]), 33: array([1691, 1657, 1682, 1698, 1696, 1681, 1668, 1690, 1694, 1699, 1658,\n",
            "       1654, 1672, 1650, 1677, 1655, 1692, 1684, 1653, 1685, 1697, 1666,\n",
            "       1680, 1663, 1669, 1652, 1679, 1683, 1689, 1675, 1651, 1678, 1656,\n",
            "       1673, 1686, 1695, 1670, 1659, 1667, 1662, 1660, 1664, 1671, 1661,\n",
            "       1687, 1674, 1665, 1688, 1693, 1676]), 34: array([1711, 1741, 1715, 1729, 1731, 1742, 1705, 1722, 1749, 1721, 1732,\n",
            "       1701, 1710, 1747, 1736, 1702, 1737, 1748, 1712, 1735, 1720, 1745,\n",
            "       1714, 1743, 1725, 1704, 1746, 1726, 1724, 1718, 1700, 1739, 1727,\n",
            "       1723, 1744, 1728, 1730, 1717, 1703, 1733, 1719, 1708, 1740, 1713,\n",
            "       1734, 1709, 1706, 1716, 1738, 1707]), 35: array([1778, 1785, 1767, 1780, 1759, 1796, 1764, 1777, 1789, 1770, 1792,\n",
            "       1771, 1760, 1790, 1794, 1756, 1797, 1755, 1763, 1776, 1765, 1795,\n",
            "       1775, 1793, 1772, 1768, 1781, 1787, 1798, 1791, 1751, 1762, 1769,\n",
            "       1783, 1788, 1758, 1782, 1786, 1779, 1752, 1754, 1773, 1766, 1761,\n",
            "       1774, 1753, 1799, 1757, 1784, 1750]), 36: array([1830, 1827, 1807, 1845, 1824, 1801, 1819, 1842, 1805, 1832, 1848,\n",
            "       1804, 1839, 1808, 1809, 1841, 1838, 1836, 1810, 1829, 1823, 1837,\n",
            "       1849, 1816, 1803, 1843, 1815, 1806, 1813, 1802, 1820, 1840, 1812,\n",
            "       1826, 1847, 1800, 1835, 1818, 1822, 1821, 1834, 1825, 1811, 1846,\n",
            "       1814, 1828, 1844, 1831, 1833, 1817]), 37: array([1895, 1852, 1883, 1887, 1876, 1893, 1863, 1862, 1868, 1873, 1853,\n",
            "       1857, 1891, 1856, 1854, 1882, 1858, 1896, 1879, 1894, 1861, 1881,\n",
            "       1877, 1871, 1866, 1855, 1899, 1860, 1870, 1892, 1878, 1897, 1884,\n",
            "       1875, 1885, 1859, 1874, 1872, 1869, 1889, 1865, 1888, 1864, 1850,\n",
            "       1886, 1890, 1851, 1867, 1880, 1898]), 38: array([1910, 1937, 1906, 1936, 1918, 1942, 1928, 1917, 1923, 1907, 1904,\n",
            "       1909, 1947, 1916, 1938, 1919, 1929, 1912, 1943, 1945, 1944, 1925,\n",
            "       1924, 1934, 1902, 1949, 1939, 1913, 1901, 1922, 1933, 1926, 1900,\n",
            "       1911, 1935, 1948, 1941, 1921, 1915, 1903, 1914, 1920, 1930, 1940,\n",
            "       1905, 1927, 1946, 1932, 1931, 1908]), 39: array([1988, 1969, 1962, 1956, 1975, 1951, 1971, 1970, 1978, 1963, 1976,\n",
            "       1987, 1977, 1991, 1950, 1999, 1961, 1965, 1972, 1984, 1994, 1980,\n",
            "       1998, 1985, 1986, 1996, 1954, 1993, 1979, 1983, 1990, 1952, 1959,\n",
            "       1981, 1967, 1992, 1957, 1966, 1955, 1989, 1958, 1968, 1995, 1982,\n",
            "       1974, 1960, 1953, 1973, 1997, 1964]), 40: array([2011, 2030, 2047, 2000, 2003, 2033, 2016, 2021, 2040, 2049, 2012,\n",
            "       2046, 2023, 2032, 2025, 2002, 2006, 2048, 2009, 2039, 2038, 2004,\n",
            "       2043, 2001, 2024, 2020, 2022, 2044, 2037, 2008, 2035, 2045, 2029,\n",
            "       2007, 2013, 2019, 2036, 2034, 2042, 2041, 2027, 2018, 2028, 2014,\n",
            "       2015, 2017, 2026, 2010, 2031, 2005]), 41: array([2073, 2068, 2057, 2076, 2094, 2075, 2093, 2090, 2050, 2061, 2064,\n",
            "       2095, 2063, 2079, 2058, 2089, 2070, 2067, 2066, 2055, 2088, 2092,\n",
            "       2069, 2072, 2087, 2091, 2071, 2065, 2097, 2054, 2078, 2082, 2051,\n",
            "       2074, 2080, 2084, 2096, 2086, 2059, 2083, 2060, 2099, 2062, 2081,\n",
            "       2056, 2053, 2077, 2052, 2085, 2098]), 42: array([2110, 2118, 2100, 2114, 2135, 2116, 2102, 2137, 2139, 2148, 2146,\n",
            "       2126, 2138, 2142, 2133, 2149, 2103, 2144, 2104, 2128, 2125, 2130,\n",
            "       2141, 2132, 2140, 2147, 2113, 2112, 2129, 2143, 2106, 2122, 2127,\n",
            "       2107, 2115, 2124, 2101, 2120, 2109, 2134, 2117, 2136, 2123, 2131,\n",
            "       2119, 2108, 2145, 2111, 2105, 2121]), 43: array([2154, 2189, 2184, 2199, 2187, 2186, 2192, 2156, 2182, 2173, 2175,\n",
            "       2183, 2174, 2157, 2170, 2196, 2163, 2198, 2197, 2167, 2179, 2161,\n",
            "       2181, 2193, 2155, 2150, 2177, 2159, 2166, 2178, 2176, 2185, 2195,\n",
            "       2164, 2172, 2158, 2180, 2169, 2168, 2153, 2190, 2151, 2188, 2152,\n",
            "       2162, 2165, 2160, 2171, 2191, 2194]), 44: array([2234, 2208, 2230, 2244, 2239, 2209, 2215, 2236, 2216, 2211, 2231,\n",
            "       2222, 2238, 2200, 2212, 2246, 2206, 2221, 2232, 2235, 2226, 2233,\n",
            "       2205, 2225, 2210, 2237, 2217, 2229, 2249, 2224, 2223, 2227, 2220,\n",
            "       2202, 2241, 2245, 2204, 2219, 2201, 2228, 2248, 2207, 2242, 2213,\n",
            "       2243, 2214, 2247, 2218, 2240, 2203]), 45: array([2285, 2270, 2263, 2283, 2284, 2275, 2269, 2279, 2287, 2266, 2258,\n",
            "       2265, 2277, 2290, 2297, 2291, 2257, 2267, 2273, 2280, 2256, 2289,\n",
            "       2268, 2282, 2255, 2251, 2253, 2274, 2272, 2261, 2254, 2298, 2262,\n",
            "       2278, 2288, 2260, 2295, 2271, 2299, 2264, 2259, 2296, 2250, 2292,\n",
            "       2281, 2286, 2276, 2293, 2252, 2294]), 46: array([2343, 2300, 2319, 2323, 2302, 2304, 2333, 2317, 2339, 2345, 2314,\n",
            "       2311, 2324, 2328, 2327, 2335, 2337, 2329, 2306, 2303, 2330, 2341,\n",
            "       2315, 2334, 2331, 2336, 2322, 2347, 2338, 2309, 2346, 2321, 2318,\n",
            "       2316, 2320, 2308, 2310, 2325, 2326, 2340, 2301, 2307, 2312, 2342,\n",
            "       2349, 2348, 2344, 2305, 2313, 2332]), 47: array([2374, 2368, 2370, 2394, 2359, 2385, 2358, 2371, 2367, 2377, 2390,\n",
            "       2360, 2399, 2381, 2373, 2387, 2361, 2393, 2363, 2354, 2366, 2388,\n",
            "       2350, 2362, 2372, 2396, 2351, 2395, 2382, 2386, 2397, 2384, 2383,\n",
            "       2389, 2364, 2352, 2369, 2378, 2379, 2398, 2365, 2380, 2392, 2375,\n",
            "       2357, 2391, 2355, 2356, 2376, 2353]), 48: array([2434, 2430, 2435, 2402, 2433, 2432, 2405, 2418, 2427, 2408, 2413,\n",
            "       2422, 2438, 2431, 2417, 2419, 2403, 2407, 2449, 2410, 2424, 2401,\n",
            "       2415, 2421, 2447, 2425, 2444, 2426, 2429, 2440, 2404, 2439, 2428,\n",
            "       2412, 2442, 2445, 2437, 2441, 2409, 2446, 2416, 2436, 2400, 2406,\n",
            "       2420, 2443, 2448, 2423, 2411, 2414]), 49: array([2487, 2494, 2479, 2480, 2490, 2476, 2464, 2456, 2478, 2496, 2481,\n",
            "       2469, 2498, 2455, 2457, 2458, 2491, 2483, 2451, 2452, 2473, 2454,\n",
            "       2475, 2459, 2462, 2486, 2460, 2497, 2493, 2468, 2485, 2461, 2453,\n",
            "       2484, 2467, 2465, 2466, 2470, 2482, 2495, 2477, 2471, 2499, 2450,\n",
            "       2463, 2472, 2474, 2488, 2489, 2492])}\n"
          ]
        }
      ],
      "source": [
        "# 각 클래스당 오직 5개의 이미지만 선택된 것을 확인할 수 있음\n",
        "print(indices)"
      ]
    },
    {
      "cell_type": "code",
      "execution_count": null,
      "metadata": {
        "id": "g9Gn5a_NWV4k"
      },
      "outputs": [],
      "source": [
        "# fig = plt.figure(figsize=(20, 8))\n",
        "# ig = ImageGrid(fig, 111, (5, 50))\n",
        "# for c, cls in enumerate(indices):\n",
        "#   for r, i in enumerate(indices[cls]):\n",
        "#     img, _ = trainset_tiny[i]\n",
        "#     ax = ig.axes_column[c][r]\n",
        "#     ax.imshow((img.numpy().transpose([1, 2, 0]) * 127.5 + 127.5).astype(np.uint8))\n",
        "#     ax.set_axis_off()\n",
        "# fig.suptitle('The whole 5-shot KoIn dataset')"
      ]
    },
    {
      "cell_type": "code",
      "execution_count": null,
      "metadata": {
        "id": "Vvu5XXCQY88M",
        "colab": {
          "base_uri": "https://localhost:8080/"
        },
        "outputId": "c0c185bf-c77e-4fbf-87a4-1afe0dc923a4"
      },
      "outputs": [
        {
          "output_type": "execute_result",
          "data": {
            "text/plain": [
              "2500"
            ]
          },
          "metadata": {},
          "execution_count": 28
        }
      ],
      "source": [
        "# 전체 이미지 개수가 고작 50개인 걸 확인할 수 있음\n",
        "train_5shot = torch.utils.data.Subset(trainset_tiny, indices=[i for v in indices.values() for i in v])\n",
        "len(train_5shot)"
      ]
    },
    {
      "cell_type": "markdown",
      "metadata": {
        "id": "JMrZ1sZyUVcU"
      },
      "source": [
        "# Fine-tune BiT-M on this 5-shot CIFAR10 variant"
      ]
    },
    {
      "cell_type": "markdown",
      "metadata": {
        "id": "2qCZ4SiBfV32"
      },
      "source": [
        "**NOTE**: In this very low data regime, the performance heavily depends on how \"representative\" the 5 examples you got are of the class. As shown in the paper, variance is very large, I'm getting anywhere between 78%-85% depending on luck.\n",
        "\n",
        "Another point is that here I use `batch_size=512` for consistency with the paper. But actually, a much smaller `batch_size=50` works just as well and is about 10x faster!"
      ]
    },
    {
      "cell_type": "code",
      "execution_count": null,
      "metadata": {
        "id": "faASYtOkYMrn"
      },
      "outputs": [],
      "source": [
        "# 본 논문에서는 batch size를 크게 설정할 때 조금 더 성능이 좋았다고 주장\n",
        "# 그래서 고작 50개의 이미지로 학습을 하지만, batch size는 256으로 설정\n",
        "\n",
        "# Yes, we still use 512 batch-size! Maybe something else is even better, who knows.\n",
        "# loader_train = torch.utils.data.DataLoader(train_5shot, batch_size=512, shuffle=True, num_workers=2)\n",
        "\n",
        "# NOTE: This is necessary when the batch-size is larger than the dataset.\n",
        "sampler = torch.utils.data.RandomSampler(train_5shot, replacement=True, num_samples=256)\n",
        "loader_train = torch.utils.data.DataLoader(train_5shot, batch_size=256, num_workers=2, sampler=sampler)"
      ]
    },
    {
      "cell_type": "code",
      "execution_count": null,
      "metadata": {
        "id": "rqLUFicBVcu2"
      },
      "outputs": [],
      "source": [
        "# 보통 fine-tuning할 때 learning rate은 거의 마지막 step 수준으로 작게 설정\n",
        "# 말 그대로 \"미세 조정\"이니까요.\n",
        "\n",
        "# 지금 코드 상으로는 CIFAR-10에 대하여 batch-size 256으로 설정해서\n",
        "# 총 500 steps로 학습을 진행 => 256 * 500 => 총 10만 번의 \"이미지 보기\"를 수행하는 거죠.\n",
        "# 전체 데이터가 원래 50,000장인 걸 생각하면, 사실상 2 epochs도 안 되는 수준.\n",
        "# 아주 빠르게, pre-trained 모델을 이용해서 높은 성능을 달성. => transfer learning의 장점\n",
        "# 현업에서도 매우 많이 활용\n",
        "\n",
        "crit = nn.CrossEntropyLoss()\n",
        "opti = torch.optim.SGD(model.parameters(), lr=0.003, momentum=0.9)\n",
        "model.train();"
      ]
    },
    {
      "cell_type": "code",
      "execution_count": null,
      "metadata": {
        "id": "RVmFu5m1eJa7",
        "colab": {
          "base_uri": "https://localhost:8080/",
          "height": 88
        },
        "outputId": "ead3e43b-ba0f-4742-aace-06546275cf4b"
      },
      "outputs": [
        {
          "output_type": "display_data",
          "data": {
            "text/plain": [
              "<IPython.core.display.HTML object>"
            ],
            "text/html": [
              "\n",
              "        <progress\n",
              "            value='299'\n",
              "            max='300',\n",
              "            style='width: 100%'\n",
              "        >\n",
              "            299\n",
              "        </progress>\n",
              "    "
            ]
          },
          "metadata": {}
        },
        {
          "output_type": "display_data",
          "data": {
            "text/plain": [
              "<IPython.core.display.HTML object>"
            ],
            "text/html": [
              "\n",
              "        <progress\n",
              "            value='51'\n",
              "            max='51',\n",
              "            style='width: 100%'\n",
              "        >\n",
              "            51\n",
              "        </progress>\n",
              "    "
            ]
          },
          "metadata": {}
        },
        {
          "output_type": "stream",
          "name": "stdout",
          "text": [
            "[Step 299] loss=1.18e-02 train accu=100.00% test accu=27.43% (lr=0.0003)\n",
            "Best Test Accuracy: 27.55%, Epoch: 12\n"
          ]
        }
      ],
      "source": [
        "S = 300\n",
        "def schedule(s):\n",
        "  # learning rate은 0.003 → 0.0003 → 0.00003 → 0.000003\n",
        "  # 최종적으로 500번의 step을 수행함에 따라서, 100 단위로 learning rate을 10배씩 줄여나감\n",
        "  step_lr = stairs(s, 3e-3, 200, 3e-4, 300, 3e-5, 400, 3e-6, S, None)\n",
        "  # ramp-up: 특정 learning rate이 될 때까지는 오히려 learning rate을 증가시켜나가는 거\n",
        "  # 지금 코드 상으로는 100 steps까지는 0에서 0.003으로 올려줬다가, 100 steps 단위로 10배씩 줄여나감\n",
        "  return rampup(s, 100, step_lr)\n",
        "\n",
        "pb_train = display(progress(0, S), display_id=True)\n",
        "pb_test = display(progress(0, 100), display_id=True)\n",
        "losses = [[]]\n",
        "accus_train = [[]]\n",
        "accus_test = []\n",
        "\n",
        "steps_per_iter = 512 // loader_train.batch_size\n",
        "\n",
        "# Define a variable to keep track of the highest test accuracy and the corresponding epoch\n",
        "best_test_accuracy = 0.0\n",
        "best_epoch = 0\n",
        "\n",
        "while len(losses) < S:\n",
        "  for x, t in loader_train:\n",
        "    x, t = x.to(device), t.to(device)\n",
        "\n",
        "    logits = model(x)\n",
        "    loss = crit(logits, t) / steps_per_iter\n",
        "    loss.backward()\n",
        "    losses[-1].append(loss.item())\n",
        "\n",
        "    with torch.no_grad():\n",
        "      accus_train[-1].extend(torch.max(logits, dim=1)[1].cpu().numpy() == t.cpu().numpy())\n",
        "\n",
        "    if len(losses[-1]) == steps_per_iter:\n",
        "            losses[-1] = sum(losses[-1])\n",
        "            losses.append([])\n",
        "            accus_train[-1] = np.mean(accus_train[-1])\n",
        "            accus_train.append([])\n",
        "\n",
        "            # Update learning-rate according to schedule, and stop if necessary\n",
        "            lr = schedule(len(losses) - 1)\n",
        "            for param_group in opti.param_groups:\n",
        "                param_group['lr'] = lr\n",
        "\n",
        "            opti.step()\n",
        "            opti.zero_grad()\n",
        "\n",
        "            pb_train.update(progress(len(losses) - 1, S))\n",
        "            print(f'\\r[Step {len(losses) - 1}] loss={losses[-2]:.2e} '\n",
        "                  f'train accu={accus_train[-2]:.2%} '\n",
        "                  f'test accu={accus_test[-1] if accus_test else 0:.2%} '\n",
        "                  f'(lr={lr:g})', end='', flush=True)\n",
        "\n",
        "            if len(losses) % 25 == 0:\n",
        "                test_accuracy = eval_cifar10(model, progressbar=pb_test)\n",
        "                accus_test.append(test_accuracy)\n",
        "                model.train()\n",
        "\n",
        "                # Check if this epoch's test accuracy is the best so far\n",
        "                if test_accuracy > best_test_accuracy:\n",
        "                    best_test_accuracy = test_accuracy\n",
        "                    best_epoch = len(losses) // 25  # Calculate the epoch based on the step count\n",
        "\n",
        "                    # Save the model's state dictionary\n",
        "                    torch.save(model.state_dict(), f'BiT_m_r101_cls_50_best_epoch.pth')\n",
        "\n",
        "# Print the best test accuracy and the corresponding epoch\n",
        "print(f'\\nBest Test Accuracy: {best_test_accuracy:.2%}, Epoch: {best_epoch}')"
      ]
    },
    {
      "cell_type": "code",
      "execution_count": null,
      "metadata": {
        "id": "TZQBHq1Gh1ty",
        "colab": {
          "base_uri": "https://localhost:8080/",
          "height": 761
        },
        "outputId": "7087839e-cd9b-467e-e958-e415a554711f"
      },
      "outputs": [
        {
          "output_type": "error",
          "ename": "ValueError",
          "evalue": "ignored",
          "traceback": [
            "\u001b[0;31m---------------------------------------------------------------------------\u001b[0m",
            "\u001b[0;31mValueError\u001b[0m                                Traceback (most recent call last)",
            "\u001b[0;32m<ipython-input-32-391bf2f1fdab>\u001b[0m in \u001b[0;36m<cell line: 7>\u001b[0;34m()\u001b[0m\n\u001b[1;32m      5\u001b[0m \u001b[0max2\u001b[0m\u001b[0;34m.\u001b[0m\u001b[0mplot\u001b[0m\u001b[0;34m(\u001b[0m\u001b[0maccus_train\u001b[0m\u001b[0;34m[\u001b[0m\u001b[0;34m:\u001b[0m\u001b[0;34m-\u001b[0m\u001b[0;36m1\u001b[0m\u001b[0;34m]\u001b[0m\u001b[0;34m)\u001b[0m\u001b[0;34m\u001b[0m\u001b[0;34m\u001b[0m\u001b[0m\n\u001b[1;32m      6\u001b[0m \u001b[0max2\u001b[0m\u001b[0;34m.\u001b[0m\u001b[0mset_title\u001b[0m\u001b[0;34m(\u001b[0m\u001b[0;34m'training accuracy'\u001b[0m\u001b[0;34m)\u001b[0m\u001b[0;34m\u001b[0m\u001b[0;34m\u001b[0m\u001b[0m\n\u001b[0;32m----> 7\u001b[0;31m \u001b[0max3\u001b[0m\u001b[0;34m.\u001b[0m\u001b[0mplot\u001b[0m\u001b[0;34m(\u001b[0m\u001b[0mnp\u001b[0m\u001b[0;34m.\u001b[0m\u001b[0marange\u001b[0m\u001b[0;34m(\u001b[0m\u001b[0;36m25\u001b[0m\u001b[0;34m,\u001b[0m \u001b[0;36m501\u001b[0m\u001b[0;34m,\u001b[0m \u001b[0;36m25\u001b[0m\u001b[0;34m)\u001b[0m\u001b[0;34m,\u001b[0m \u001b[0maccus_test\u001b[0m\u001b[0;34m)\u001b[0m\u001b[0;34m\u001b[0m\u001b[0;34m\u001b[0m\u001b[0m\n\u001b[0m\u001b[1;32m      8\u001b[0m \u001b[0max3\u001b[0m\u001b[0;34m.\u001b[0m\u001b[0mset_title\u001b[0m\u001b[0;34m(\u001b[0m\u001b[0;34m'test accuracy'\u001b[0m\u001b[0;34m)\u001b[0m\u001b[0;34m;\u001b[0m\u001b[0;34m\u001b[0m\u001b[0;34m\u001b[0m\u001b[0m\n",
            "\u001b[0;32m/usr/local/lib/python3.10/dist-packages/matplotlib/axes/_axes.py\u001b[0m in \u001b[0;36mplot\u001b[0;34m(self, scalex, scaley, data, *args, **kwargs)\u001b[0m\n\u001b[1;32m   1686\u001b[0m         \"\"\"\n\u001b[1;32m   1687\u001b[0m         \u001b[0mkwargs\u001b[0m \u001b[0;34m=\u001b[0m \u001b[0mcbook\u001b[0m\u001b[0;34m.\u001b[0m\u001b[0mnormalize_kwargs\u001b[0m\u001b[0;34m(\u001b[0m\u001b[0mkwargs\u001b[0m\u001b[0;34m,\u001b[0m \u001b[0mmlines\u001b[0m\u001b[0;34m.\u001b[0m\u001b[0mLine2D\u001b[0m\u001b[0;34m)\u001b[0m\u001b[0;34m\u001b[0m\u001b[0;34m\u001b[0m\u001b[0m\n\u001b[0;32m-> 1688\u001b[0;31m         \u001b[0mlines\u001b[0m \u001b[0;34m=\u001b[0m \u001b[0;34m[\u001b[0m\u001b[0;34m*\u001b[0m\u001b[0mself\u001b[0m\u001b[0;34m.\u001b[0m\u001b[0m_get_lines\u001b[0m\u001b[0;34m(\u001b[0m\u001b[0;34m*\u001b[0m\u001b[0margs\u001b[0m\u001b[0;34m,\u001b[0m \u001b[0mdata\u001b[0m\u001b[0;34m=\u001b[0m\u001b[0mdata\u001b[0m\u001b[0;34m,\u001b[0m \u001b[0;34m**\u001b[0m\u001b[0mkwargs\u001b[0m\u001b[0;34m)\u001b[0m\u001b[0;34m]\u001b[0m\u001b[0;34m\u001b[0m\u001b[0;34m\u001b[0m\u001b[0m\n\u001b[0m\u001b[1;32m   1689\u001b[0m         \u001b[0;32mfor\u001b[0m \u001b[0mline\u001b[0m \u001b[0;32min\u001b[0m \u001b[0mlines\u001b[0m\u001b[0;34m:\u001b[0m\u001b[0;34m\u001b[0m\u001b[0;34m\u001b[0m\u001b[0m\n\u001b[1;32m   1690\u001b[0m             \u001b[0mself\u001b[0m\u001b[0;34m.\u001b[0m\u001b[0madd_line\u001b[0m\u001b[0;34m(\u001b[0m\u001b[0mline\u001b[0m\u001b[0;34m)\u001b[0m\u001b[0;34m\u001b[0m\u001b[0;34m\u001b[0m\u001b[0m\n",
            "\u001b[0;32m/usr/local/lib/python3.10/dist-packages/matplotlib/axes/_base.py\u001b[0m in \u001b[0;36m__call__\u001b[0;34m(self, data, *args, **kwargs)\u001b[0m\n\u001b[1;32m    309\u001b[0m                 \u001b[0mthis\u001b[0m \u001b[0;34m+=\u001b[0m \u001b[0margs\u001b[0m\u001b[0;34m[\u001b[0m\u001b[0;36m0\u001b[0m\u001b[0;34m]\u001b[0m\u001b[0;34m,\u001b[0m\u001b[0;34m\u001b[0m\u001b[0;34m\u001b[0m\u001b[0m\n\u001b[1;32m    310\u001b[0m                 \u001b[0margs\u001b[0m \u001b[0;34m=\u001b[0m \u001b[0margs\u001b[0m\u001b[0;34m[\u001b[0m\u001b[0;36m1\u001b[0m\u001b[0;34m:\u001b[0m\u001b[0;34m]\u001b[0m\u001b[0;34m\u001b[0m\u001b[0;34m\u001b[0m\u001b[0m\n\u001b[0;32m--> 311\u001b[0;31m             yield from self._plot_args(\n\u001b[0m\u001b[1;32m    312\u001b[0m                 this, kwargs, ambiguous_fmt_datakey=ambiguous_fmt_datakey)\n\u001b[1;32m    313\u001b[0m \u001b[0;34m\u001b[0m\u001b[0m\n",
            "\u001b[0;32m/usr/local/lib/python3.10/dist-packages/matplotlib/axes/_base.py\u001b[0m in \u001b[0;36m_plot_args\u001b[0;34m(self, tup, kwargs, return_kwargs, ambiguous_fmt_datakey)\u001b[0m\n\u001b[1;32m    502\u001b[0m \u001b[0;34m\u001b[0m\u001b[0m\n\u001b[1;32m    503\u001b[0m         \u001b[0;32mif\u001b[0m \u001b[0mx\u001b[0m\u001b[0;34m.\u001b[0m\u001b[0mshape\u001b[0m\u001b[0;34m[\u001b[0m\u001b[0;36m0\u001b[0m\u001b[0;34m]\u001b[0m \u001b[0;34m!=\u001b[0m \u001b[0my\u001b[0m\u001b[0;34m.\u001b[0m\u001b[0mshape\u001b[0m\u001b[0;34m[\u001b[0m\u001b[0;36m0\u001b[0m\u001b[0;34m]\u001b[0m\u001b[0;34m:\u001b[0m\u001b[0;34m\u001b[0m\u001b[0;34m\u001b[0m\u001b[0m\n\u001b[0;32m--> 504\u001b[0;31m             raise ValueError(f\"x and y must have same first dimension, but \"\n\u001b[0m\u001b[1;32m    505\u001b[0m                              f\"have shapes {x.shape} and {y.shape}\")\n\u001b[1;32m    506\u001b[0m         \u001b[0;32mif\u001b[0m \u001b[0mx\u001b[0m\u001b[0;34m.\u001b[0m\u001b[0mndim\u001b[0m \u001b[0;34m>\u001b[0m \u001b[0;36m2\u001b[0m \u001b[0;32mor\u001b[0m \u001b[0my\u001b[0m\u001b[0;34m.\u001b[0m\u001b[0mndim\u001b[0m \u001b[0;34m>\u001b[0m \u001b[0;36m2\u001b[0m\u001b[0;34m:\u001b[0m\u001b[0;34m\u001b[0m\u001b[0;34m\u001b[0m\u001b[0m\n",
            "\u001b[0;31mValueError\u001b[0m: x and y must have same first dimension, but have shapes (20,) and (12,)"
          ]
        },
        {
          "output_type": "display_data",
          "data": {
            "text/plain": [
              "<Figure size 1500x400 with 3 Axes>"
            ],
            "image/png": "[encoded data removed]"
          },
          "metadata": {
            "image/png": {
              "width": 1235,
              "height": 373
            }
          }
        }
      ],
      "source": [
        "fig, (ax1, ax2, ax3) = plt.subplots(1, 3, figsize=(15, 4))\n",
        "ax1.plot(losses[:-1])\n",
        "ax1.set_yscale('log')\n",
        "ax1.set_title('loss')\n",
        "ax2.plot(accus_train[:-1])\n",
        "ax2.set_title('training accuracy')\n",
        "ax3.plot(np.arange(25, 501, 25), accus_test)\n",
        "ax3.set_title('test accuracy');"
      ]
    }
  ],
  "metadata": {
    "accelerator": "GPU",
    "colab": {
      "machine_shape": "hm",
      "provenance": [],
      "gpuType": "T4"
    },
    "kernelspec": {
      "display_name": "Python 3",
      "name": "python3"
    }
  },
  "nbformat": 4,
  "nbformat_minor": 0
}